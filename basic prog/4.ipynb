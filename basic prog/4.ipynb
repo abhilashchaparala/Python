{
 "cells": [
  {
   "cell_type": "markdown",
   "id": "01873d9f",
   "metadata": {},
   "source": [
    "Write a Python Program to Find the Factorial of a Number?\n",
    "\n",
    "Write a Python Program to Display the multiplication Table?\n",
    "\n",
    "Write a Python Program to Print the Fibonacci sequence?\n",
    "\n",
    "Write a Python Program to Check Armstrong Number?\n",
    "\n",
    "Write a Python Program to Find Armstrong Number in an Interval?\n",
    "\n",
    "Write a Python Program to Find the Sum of Natural Numbers?"
   ]
  },
  {
   "cell_type": "markdown",
   "id": "b434f66b",
   "metadata": {},
   "source": []
  }
 ],
 "metadata": {
  "kernelspec": {
   "display_name": "Python 3",
   "language": "python",
   "name": "python3"
  },
  "language_info": {
   "codemirror_mode": {
    "name": "ipython",
    "version": 3
   },
   "file_extension": ".py",
   "mimetype": "text/x-python",
   "name": "python",
   "nbconvert_exporter": "python",
   "pygments_lexer": "ipython3",
   "version": "3.8.8"
  }
 },
 "nbformat": 4,
 "nbformat_minor": 5
}
