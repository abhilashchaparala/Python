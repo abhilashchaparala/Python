{
 "cells": [
  {
   "cell_type": "code",
   "execution_count": 1,
   "id": "0cdf54ad",
   "metadata": {},
   "outputs": [
    {
     "name": "stdout",
     "output_type": "stream",
     "text": [
      "True\n"
     ]
    }
   ],
   "source": [
    "# 1\n",
    "\n",
    "\n",
    "def is_symmetrical(num):\n",
    "    num_str = str(num)\n",
    "    num_rev = num_str[::-1]\n",
    "    if num_str == num_rev:\n",
    "        return True\n",
    "    else:\n",
    "        return False\n",
    "\n",
    "print(is_symmetrical(1234321))"
   ]
  },
  {
   "cell_type": "code",
   "execution_count": 4,
   "id": "9ad4b825",
   "metadata": {},
   "outputs": [
    {
     "data": {
      "text/plain": [
       "30"
      ]
     },
     "execution_count": 4,
     "metadata": {},
     "output_type": "execute_result"
    }
   ],
   "source": [
    "# 2\n",
    "\n",
    "def product(string):\n",
    "    l=string.split(',')\n",
    "    summ=1\n",
    "    for i in l:\n",
    "        summ*=int(i)\n",
    "    return summ\n",
    "product('2, 5, 3')"
   ]
  },
  {
   "cell_type": "code",
   "execution_count": 5,
   "id": "fe555d0d",
   "metadata": {},
   "outputs": [
    {
     "data": {
      "text/plain": [
       "16"
      ]
     },
     "execution_count": 5,
     "metadata": {},
     "output_type": "execute_result"
    }
   ],
   "source": [
    "# 3\n",
    "\n",
    "def square(n):\n",
    "    return n**2\n",
    "square(4)"
   ]
  },
  {
   "cell_type": "code",
   "execution_count": 7,
   "id": "1458e58a",
   "metadata": {},
   "outputs": [
    {
     "data": {
      "text/plain": [
       "[1, 2, 3, 4, 6]"
      ]
     },
     "execution_count": 7,
     "metadata": {},
     "output_type": "execute_result"
    }
   ],
   "source": [
    "# 4\n",
    "\n",
    "def lis(l):\n",
    "    l=sorted(l)\n",
    "    return set(l)\n",
    "list(lis([2,3,1,4,6]))"
   ]
  },
  {
   "cell_type": "code",
   "execution_count": 8,
   "id": "7b6763c4",
   "metadata": {},
   "outputs": [
    {
     "data": {
      "text/plain": [
       "2.0"
      ]
     },
     "execution_count": 8,
     "metadata": {},
     "output_type": "execute_result"
    }
   ],
   "source": [
    "# 5\n",
    "\n",
    "def mean(l):\n",
    "    return sum(l)/len(l)\n",
    "mean([1,2,3])"
   ]
  }
 ],
 "metadata": {
  "kernelspec": {
   "display_name": "Python 3",
   "language": "python",
   "name": "python3"
  },
  "language_info": {
   "codemirror_mode": {
    "name": "ipython",
    "version": 3
   },
   "file_extension": ".py",
   "mimetype": "text/x-python",
   "name": "python",
   "nbconvert_exporter": "python",
   "pygments_lexer": "ipython3",
   "version": "3.8.8"
  }
 },
 "nbformat": 4,
 "nbformat_minor": 5
}
