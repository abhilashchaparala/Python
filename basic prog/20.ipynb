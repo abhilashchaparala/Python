{
 "cells": [
  {
   "cell_type": "code",
   "execution_count": 1,
   "id": "4b7be16d",
   "metadata": {},
   "outputs": [
    {
     "name": "stdout",
     "output_type": "stream",
     "text": [
      "[1, 2]\n"
     ]
    }
   ],
   "source": [
    "# 1\n",
    "\n",
    "def filter_list(l):\n",
    "    return [i for i in l if type(i) == int]\n",
    "print(filter_list([1,2,'a','b']))"
   ]
  },
  {
   "cell_type": "code",
   "execution_count": 2,
   "id": "c1e89239",
   "metadata": {},
   "outputs": [
    {
     "data": {
      "text/plain": [
       "[0, 1, 2, 3, 4]"
      ]
     },
     "execution_count": 2,
     "metadata": {},
     "output_type": "execute_result"
    }
   ],
   "source": [
    "# 2\n",
    "\n",
    "def list_add_index(lst):\n",
    "    return [i + lst[i] for i in range(len(lst))]\n",
    "list_add_index([0, 0, 0, 0, 0])"
   ]
  },
  {
   "cell_type": "code",
   "execution_count": 3,
   "id": "41f2c598",
   "metadata": {},
   "outputs": [
    {
     "data": {
      "text/plain": [
       "12.56"
      ]
     },
     "execution_count": 3,
     "metadata": {},
     "output_type": "execute_result"
    }
   ],
   "source": [
    "\n",
    "# 3\n",
    "\n",
    "def cone(height, radius):\n",
    "    volume = (1/3) * 3.14 * (radius**2) * height\n",
    "    return round(volume, 2)\n",
    "cone(3,2)"
   ]
  },
  {
   "cell_type": "code",
   "execution_count": 4,
   "id": "94d70a1e",
   "metadata": {},
   "outputs": [
    {
     "data": {
      "text/plain": [
       "21"
      ]
     },
     "execution_count": 4,
     "metadata": {},
     "output_type": "execute_result"
    }
   ],
   "source": [
    "# 4\n",
    "\n",
    "def triangle_numbers(n):\n",
    "    if n == 1:\n",
    "        return 1\n",
    "    else:\n",
    "        return n + triangle_numbers(n-1)\n",
    "triangle_numbers(6)"
   ]
  },
  {
   "cell_type": "code",
   "execution_count": 6,
   "id": "723fff55",
   "metadata": {},
   "outputs": [
    {
     "data": {
      "text/plain": [
       "4"
      ]
     },
     "execution_count": 6,
     "metadata": {},
     "output_type": "execute_result"
    }
   ],
   "source": [
    "# 5\n",
    "\n",
    "def missing_number(numbers):\n",
    "    for i in range(1,11):\n",
    "        if i not in numbers:\n",
    "            return i\n",
    "missing_number([1,2,3,5,6,7,8,9,10])"
   ]
  },
  {
   "cell_type": "code",
   "execution_count": null,
   "id": "12ef59ce",
   "metadata": {},
   "outputs": [],
   "source": []
  }
 ],
 "metadata": {
  "kernelspec": {
   "display_name": "Python 3",
   "language": "python",
   "name": "python3"
  },
  "language_info": {
   "codemirror_mode": {
    "name": "ipython",
    "version": 3
   },
   "file_extension": ".py",
   "mimetype": "text/x-python",
   "name": "python",
   "nbconvert_exporter": "python",
   "pygments_lexer": "ipython3",
   "version": "3.8.8"
  }
 },
 "nbformat": 4,
 "nbformat_minor": 5
}
