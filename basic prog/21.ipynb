{
 "cells": [
  {
   "cell_type": "code",
   "execution_count": 2,
   "id": "b9b0e01d",
   "metadata": {},
   "outputs": [
    {
     "data": {
      "text/plain": [
       "[6, 7, 8, 9, 1]"
      ]
     },
     "execution_count": 2,
     "metadata": {},
     "output_type": "execute_result"
    }
   ],
   "source": [
    "# 1\n",
    "\n",
    "def modified_list(lst, num):\n",
    "    lst.append(num)\n",
    "    lst.remove(lst[0])\n",
    "    return lst\n",
    "modified_list([5, 6, 7, 8, 9], 1)"
   ]
  },
  {
   "cell_type": "code",
   "execution_count": 3,
   "id": "e0c38a8e",
   "metadata": {},
   "outputs": [
    {
     "data": {
      "text/plain": [
       "63000"
      ]
     },
     "execution_count": 3,
     "metadata": {},
     "output_type": "execute_result"
    }
   ],
   "source": [
    "# 2\n",
    "\n",
    "def get_all_budgets(list_of_dicts):\n",
    "    return sum(d['budget'] for d in list_of_dicts)\n",
    "list_of_dicts = [{'name': 'John', 'budget': 23000},{'name':'maddy','budget':40000}]\n",
    "get_all_budgets(list_of_dicts)"
   ]
  },
  {
   "cell_type": "code",
   "execution_count": 6,
   "id": "460409d9",
   "metadata": {},
   "outputs": [
    {
     "data": {
      "text/plain": [
       "'ehllo'"
      ]
     },
     "execution_count": 6,
     "metadata": {},
     "output_type": "execute_result"
    }
   ],
   "source": [
    "# 3\n",
    "\n",
    "def is_alphabetical(string):\n",
    "    return ''.join(sorted(string))\n",
    "is_alphabetical(\"hello\")"
   ]
  },
  {
   "cell_type": "code",
   "execution_count": 7,
   "id": "d166b34e",
   "metadata": {},
   "outputs": [
    {
     "name": "stdout",
     "output_type": "stream",
     "text": [
      "18193.97\n"
     ]
    }
   ],
   "source": [
    "# 4\n",
    "\n",
    "def compound_interest(p, t, r, n):\n",
    "    return round(p*(1+r/n)**(n*t),2)\n",
    "\n",
    "print(compound_interest(10000, 10, 0.06, 12))"
   ]
  },
  {
   "cell_type": "code",
   "execution_count": 15,
   "id": "78b308d8",
   "metadata": {},
   "outputs": [
    {
     "data": {
      "text/plain": [
       "[9, 2, 16]"
      ]
     },
     "execution_count": 15,
     "metadata": {},
     "output_type": "execute_result"
    }
   ],
   "source": [
    "# 5\n",
    "\n",
    "def as_int(lst):\n",
    "    l=[]\n",
    "    for i in lst:\n",
    "        try :\n",
    "            i=int(i)\n",
    "            l.append(i)\n",
    "        except:\n",
    "            pass\n",
    "#     l.append(i for i in lst if int(i))\n",
    "    return l\n",
    "as_int([9, 2, \"space\", \"car\", \"lion\", 16])"
   ]
  },
  {
   "cell_type": "code",
   "execution_count": null,
   "id": "294a9b77",
   "metadata": {},
   "outputs": [],
   "source": []
  }
 ],
 "metadata": {
  "kernelspec": {
   "display_name": "Python 3",
   "language": "python",
   "name": "python3"
  },
  "language_info": {
   "codemirror_mode": {
    "name": "ipython",
    "version": 3
   },
   "file_extension": ".py",
   "mimetype": "text/x-python",
   "name": "python",
   "nbconvert_exporter": "python",
   "pygments_lexer": "ipython3",
   "version": "3.8.8"
  }
 },
 "nbformat": 4,
 "nbformat_minor": 5
}
