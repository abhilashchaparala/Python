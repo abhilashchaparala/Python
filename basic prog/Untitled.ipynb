{
 "cells": [
  {
   "cell_type": "code",
   "execution_count": 1,
   "id": "fde50a3a",
   "metadata": {},
   "outputs": [
    {
     "data": {
      "text/plain": [
       "[3, 6, 9]"
      ]
     },
     "execution_count": 1,
     "metadata": {},
     "output_type": "execute_result"
    }
   ],
   "source": [
    "# 1\n",
    "\n",
    "def divisible_by(x, y, n):\n",
    "    divisible = []\n",
    "    for i in range(x, y + 1):\n",
    "        if i % n == 0:\n",
    "            divisible.append(i)\n",
    "    return divisible\n",
    "divisible_by(1, 10, 3)"
   ]
  },
  {
   "cell_type": "code",
   "execution_count": 3,
   "id": "9d6410bd",
   "metadata": {},
   "outputs": [
    {
     "name": "stdout",
     "output_type": "stream",
     "text": [
      "False\n"
     ]
    }
   ],
   "source": [
    "# 2\n",
    "\n",
    "def is_shift(lst1, lst2):\n",
    "    if len(lst1) != len(lst2):\n",
    "        return False\n",
    "    else:\n",
    "        for i in range(len(lst1)):\n",
    "            if lst1[i] != lst2[(i + 1) % len(lst1)]:\n",
    "                return False\n",
    "        return True\n",
    "\n",
    "print(is_shift([1, 2], [5, 5]))"
   ]
  },
  {
   "cell_type": "code",
   "execution_count": 12,
   "id": "08343a92",
   "metadata": {},
   "outputs": [
    {
     "name": "stdout",
     "output_type": "stream",
     "text": [
      "Adam Sarah Malcolm\n",
      "AMS\n"
     ]
    }
   ],
   "source": [
    "# 3\n",
    "\n",
    "def names_of_secret_society(names):\n",
    "    return ''.join(sorted(list(set(''.join(names)))))\n",
    "l=list(input().split())\n",
    "S=names_of_secret_society(l)\n",
    "print(S[:len(l)])\n"
   ]
  },
  {
   "cell_type": "code",
   "execution_count": 13,
   "id": "a86493f0",
   "metadata": {},
   "outputs": [
    {
     "data": {
      "text/plain": [
       "True"
      ]
     },
     "execution_count": 13,
     "metadata": {},
     "output_type": "execute_result"
    }
   ],
   "source": [
    "# 4\n",
    "\n",
    "\n",
    "def isogram(string):\n",
    "    string = string.lower()\n",
    "    for i in string:\n",
    "        if string.count(i) > 1:\n",
    "            return False\n",
    "    return True\n",
    "isogram(\"Algorism\")"
   ]
  },
  {
   "cell_type": "code",
   "execution_count": 14,
   "id": "622fa996",
   "metadata": {},
   "outputs": [
    {
     "data": {
      "text/plain": [
       "False"
      ]
     },
     "execution_count": 14,
     "metadata": {},
     "output_type": "execute_result"
    }
   ],
   "source": [
    "# 5\n",
    "\n",
    "def in_order(s):\n",
    "    if len(s) == 1:\n",
    "        return True\n",
    "    elif s[0] <= s[1]:\n",
    "        return in_order(s[1:])\n",
    "    else:\n",
    "        return False\n",
    "in_order('dfsa')"
   ]
  },
  {
   "cell_type": "code",
   "execution_count": null,
   "id": "f23d1085",
   "metadata": {},
   "outputs": [],
   "source": []
  }
 ],
 "metadata": {
  "kernelspec": {
   "display_name": "Python 3",
   "language": "python",
   "name": "python3"
  },
  "language_info": {
   "codemirror_mode": {
    "name": "ipython",
    "version": 3
   },
   "file_extension": ".py",
   "mimetype": "text/x-python",
   "name": "python",
   "nbconvert_exporter": "python",
   "pygments_lexer": "ipython3",
   "version": "3.8.8"
  }
 },
 "nbformat": 4,
 "nbformat_minor": 5
}
