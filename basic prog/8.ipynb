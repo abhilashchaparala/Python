{
 "cells": [
  {
   "cell_type": "markdown",
   "id": "cdab4750",
   "metadata": {},
   "source": [
    "Write a Python Program to Add Two Matrices?\n",
    "\n",
    "Write a Python Program to Multiply Two Matrices?\n",
    "\n",
    "Write a Python Program to Transpose a Matrix?\n",
    "\n",
    "Write a Python Program to Sort Words in Alphabetic Order?\n",
    "\n",
    "Write a Python Program to Remove Punctuation From a String?"
   ]
  },
  {
   "cell_type": "raw",
   "id": "5c9e12d4",
   "metadata": {},
   "source": []
  },
  {
   "cell_type": "code",
   "execution_count": 1,
   "id": "0f6a3993",
   "metadata": {},
   "outputs": [
    {
     "data": {
      "text/plain": [
       "[[6, 8], [10, 12]]"
      ]
     },
     "execution_count": 1,
     "metadata": {},
     "output_type": "execute_result"
    }
   ],
   "source": [
    "1.\n",
    "\n",
    "\n",
    "def add_matrix(matrix1, matrix2):\n",
    "    result = []\n",
    "    for i in range(len(matrix1)):\n",
    "        result.append([])\n",
    "        for j in range(len(matrix1[0])):\n",
    "            result[i].append(matrix1[i][j] + matrix2[i][j])\n",
    "    return result\n",
    "add_matrix([[1,2],[3,4]], [[5,6],[7,8]])"
   ]
  },
  {
   "cell_type": "code",
   "execution_count": 3,
   "id": "92a3a55a",
   "metadata": {},
   "outputs": [
    {
     "data": {
      "text/plain": [
       "[[7, 10], [19, 28]]"
      ]
     },
     "execution_count": 3,
     "metadata": {},
     "output_type": "execute_result"
    }
   ],
   "source": [
    "2.\n",
    "\n",
    "def Multiply(matrix1, matrix2):\n",
    "    matrix3 = []\n",
    "    for i in range(len(matrix1)):\n",
    "        matrix3.append([])\n",
    "        for j in range(len(matrix1[0])):\n",
    "            matrix3[i].append(0)\n",
    "    for i in range(len(matrix1)):\n",
    "        for j in range(len(matrix1[0])):\n",
    "            for k in range(len(matrix2)):\n",
    "                matrix3[i][j] += matrix1[i][k] * matrix2[k][j]\n",
    "    return matrix3\n",
    "Multiply([[1,2],[4,5]],[[1,2],[3,4]])"
   ]
  },
  {
   "cell_type": "code",
   "execution_count": 6,
   "id": "40035744",
   "metadata": {},
   "outputs": [
    {
     "name": "stdout",
     "output_type": "stream",
     "text": [
      "None\n"
     ]
    }
   ],
   "source": [
    "3.\n",
    "def is_valid(matrix):\n",
    "    if len(matrix) == 0:\n",
    "        return False\n",
    "    rows = len(matrix)\n",
    "    columns = len(matrix[0])\n",
    "    if rows != columns:\n",
    "        return False\n",
    "    # check if the matrix is square\n",
    "    for i in range(rows):\n",
    "        for j in range(columns):\n",
    "            if matrix[i][j] != 0:\n",
    "                return False\n",
    "    return True\n",
    "def transpose(matrix):\n",
    "    if not is_valid(matrix):\n",
    "        return None\n",
    "    new_matrix = []\n",
    "    rows = len(matrix)\n",
    "    columns = len(matrix[0])\n",
    "    for i in range(columns):\n",
    "        for j in range(rows):\n",
    "            new_matrix.append(matrix[j][i])\n",
    "    return new_matrix\n",
    "print(transpose([[1,2,3],[4,5,6]]))"
   ]
  },
  {
   "cell_type": "code",
   "execution_count": 7,
   "id": "5f4a6815",
   "metadata": {},
   "outputs": [
    {
     "data": {
      "text/plain": [
       "['a', 'b', 'c', 'd']"
      ]
     },
     "execution_count": 7,
     "metadata": {},
     "output_type": "execute_result"
    }
   ],
   "source": [
    "4.\n",
    "\n",
    "def words(word):\n",
    "    return sorted(word)\n",
    "words('abdc')"
   ]
  },
  {
   "cell_type": "code",
   "execution_count": 8,
   "id": "ccc149e8",
   "metadata": {},
   "outputs": [
    {
     "data": {
      "text/plain": [
       "'aer'"
      ]
     },
     "execution_count": 8,
     "metadata": {},
     "output_type": "execute_result"
    }
   ],
   "source": [
    "5.\n",
    "\n",
    "def remove_punctuation(s):\n",
    "    s = s.replace(\".\",\"\")\n",
    "    s = s.replace(\",\",\"\")\n",
    "    s = s.replace(\"'\",\"\")\n",
    "    s = s.replace(\";\",\"\")\n",
    "    s = s.replace(\"-\",\"\")\n",
    "    s = s.replace(\"?\",\"\")\n",
    "    s = s.replace(\"!\",\"\")\n",
    "    s = s.replace(\"\\\"\",\"\")\n",
    "    s = s.replace(\"\\n\",\"\")\n",
    "    s = s.replace(\"\\r\",\"\")\n",
    "    return s\n",
    "remove_punctuation('a,e.r,')"
   ]
  },
  {
   "cell_type": "code",
   "execution_count": null,
   "id": "f4d6617f",
   "metadata": {},
   "outputs": [],
   "source": []
  }
 ],
 "metadata": {
  "kernelspec": {
   "display_name": "Python 3",
   "language": "python",
   "name": "python3"
  },
  "language_info": {
   "codemirror_mode": {
    "name": "ipython",
    "version": 3
   },
   "file_extension": ".py",
   "mimetype": "text/x-python",
   "name": "python",
   "nbconvert_exporter": "python",
   "pygments_lexer": "ipython3",
   "version": "3.8.8"
  }
 },
 "nbformat": 4,
 "nbformat_minor": 5
}
