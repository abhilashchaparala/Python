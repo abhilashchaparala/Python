{
 "cells": [
  {
   "cell_type": "code",
   "execution_count": 1,
   "id": "9e6fed29",
   "metadata": {},
   "outputs": [
    {
     "data": {
      "text/plain": [
       "0"
      ]
     },
     "execution_count": 1,
     "metadata": {},
     "output_type": "execute_result"
    }
   ],
   "source": [
    "# 1\n",
    "\n",
    "def solve(a, b, c):\n",
    "    summ=0\n",
    "    for i in range(a,b+1):\n",
    "        if i%c==0:\n",
    "            summ+=i\n",
    "    return summ\n",
    "solve(1,10,20)"
   ]
  },
  {
   "cell_type": "code",
   "execution_count": 2,
   "id": "7aa865f5",
   "metadata": {},
   "outputs": [
    {
     "name": "stdout",
     "output_type": "stream",
     "text": [
      "False\n"
     ]
    }
   ],
   "source": [
    "# 2\n",
    "\n",
    "def solve(a):\n",
    "    if a :\n",
    "        return True\n",
    "    else:\n",
    "        return False\n",
    "print(solve(13 > 44 > 33 > 1))"
   ]
  },
  {
   "cell_type": "code",
   "execution_count": 3,
   "id": "345dc51a",
   "metadata": {},
   "outputs": [
    {
     "name": "stdout",
     "output_type": "stream",
     "text": [
      "th# ##rdv#rk\n"
     ]
    }
   ],
   "source": [
    "# 3\n",
    "\n",
    "\n",
    "def replace_vowels(string, char):\n",
    "    vowels = 'aeiouAEIOU'\n",
    "    new_string = ''\n",
    "    for i in string:\n",
    "        if i in vowels:\n",
    "            new_string += char\n",
    "        else:\n",
    "            new_string += i\n",
    "    return new_string\n",
    "print(replace_vowels('the aardvark','#'))"
   ]
  },
  {
   "cell_type": "code",
   "execution_count": 4,
   "id": "5b38a5b3",
   "metadata": {},
   "outputs": [
    {
     "name": "stdout",
     "output_type": "stream",
     "text": [
      "120\n"
     ]
    }
   ],
   "source": [
    "# 4\n",
    "\n",
    "def factorial(n):\n",
    "    if n == 0:\n",
    "        return 1\n",
    "    else:\n",
    "        return n * factorial(n-1)\n",
    "\n",
    "print(factorial(5))"
   ]
  },
  {
   "cell_type": "code",
   "execution_count": 6,
   "id": "f2039f7c",
   "metadata": {},
   "outputs": [
    {
     "name": "stdout",
     "output_type": "stream",
     "text": [
      "5\n"
     ]
    }
   ],
   "source": [
    "# 5\n",
    "\n",
    "def distance(s1, s2):\n",
    "    if len(s1) != len(s2):\n",
    "        raise ValueError('DNA strands must be of equal length.')\n",
    "    return sum(c1 != c2 for c1, c2 in zip(s1, s2))\n",
    "print(distance(\"abcde\", \"bcdef\"))"
   ]
  },
  {
   "cell_type": "code",
   "execution_count": null,
   "id": "cae5f322",
   "metadata": {},
   "outputs": [],
   "source": []
  }
 ],
 "metadata": {
  "kernelspec": {
   "display_name": "Python 3",
   "language": "python",
   "name": "python3"
  },
  "language_info": {
   "codemirror_mode": {
    "name": "ipython",
    "version": 3
   },
   "file_extension": ".py",
   "mimetype": "text/x-python",
   "name": "python",
   "nbconvert_exporter": "python",
   "pygments_lexer": "ipython3",
   "version": "3.8.8"
  }
 },
 "nbformat": 4,
 "nbformat_minor": 5
}
