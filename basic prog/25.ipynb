{
 "cells": [
  {
   "cell_type": "code",
   "execution_count": 1,
   "id": "9fb111e5",
   "metadata": {},
   "outputs": [
    {
     "name": "stdout",
     "output_type": "stream",
     "text": [
      "0\n"
     ]
    }
   ],
   "source": [
    "# 1\n",
    "\n",
    "def function(a, b, c):\n",
    "    if a == b and b == c:\n",
    "        return 3\n",
    "    elif a == b or b == c or a == c:\n",
    "        return 2\n",
    "    else:\n",
    "        return 0\n",
    "print(function(3, 4, 1))"
   ]
  },
  {
   "cell_type": "code",
   "execution_count": 2,
   "id": "fd72a006",
   "metadata": {},
   "outputs": [
    {
     "data": {
      "text/plain": [
       "[('D', 1), ('B', 2), ('C', 3)]"
      ]
     },
     "execution_count": 2,
     "metadata": {},
     "output_type": "execute_result"
    }
   ],
   "source": [
    "# 2/\n",
    "\n",
    "def converts(dictionary):\n",
    "    return list(dictionary.items())\n",
    "converts({\n",
    "  \"D\": 1,\n",
    "  \"B\": 2,\n",
    "  \"C\": 3\n",
    "})"
   ]
  },
  {
   "cell_type": "code",
   "execution_count": 3,
   "id": "344d62c5",
   "metadata": {},
   "outputs": [
    {
     "name": "stdout",
     "output_type": "stream",
     "text": [
      "{'a': 'A', 'b': 'B', 'c': 'C'}\n"
     ]
    }
   ],
   "source": [
    "# 3\n",
    "\n",
    "def dictionary(l):\n",
    "    dic={}\n",
    "    for i in l:\n",
    "        dic[i.lower()]=i.upper()\n",
    "    return dic\n",
    "print(dictionary(['a','b','c']))"
   ]
  },
  {
   "cell_type": "code",
   "execution_count": 5,
   "id": "2b5e603d",
   "metadata": {},
   "outputs": [
    {
     "name": "stdout",
     "output_type": "stream",
     "text": [
      "upplus und bununus\n"
     ]
    }
   ],
   "source": [
    "# 4\n",
    "\n",
    "def replace_vowels(string, vowel):\n",
    "    \"\"\"\n",
    "    Replace all vowels in a string with a specified vowel.\n",
    "    \"\"\"\n",
    "    vowels = \"aeiouAEIOU\"\n",
    "    new_string = \"\"\n",
    "    for i in string:\n",
    "        if i in vowels:\n",
    "            new_string += vowel\n",
    "        else:\n",
    "            new_string += i\n",
    "    return new_string\n",
    "print(replace_vowels(\"apples and bananas\", \"u\"))"
   ]
  },
  {
   "cell_type": "code",
   "execution_count": 4,
   "id": "9c692261",
   "metadata": {},
   "outputs": [
    {
     "name": "stdout",
     "output_type": "stream",
     "text": [
      "To Be oR NoT To Be!None\n"
     ]
    }
   ],
   "source": [
    "# 5\n",
    "\n",
    "def ASCII(string):\n",
    "    for i in range(len(string)):\n",
    "        if ord(string[i]) % 2 == 0:\n",
    "            print(string[i].upper(), end='')\n",
    "        else:\n",
    "            print(string[i].lower(), end='')\n",
    "print(ASCII(\"to be or not to be!\"))"
   ]
  },
  {
   "cell_type": "code",
   "execution_count": null,
   "id": "9a857588",
   "metadata": {},
   "outputs": [],
   "source": []
  }
 ],
 "metadata": {
  "kernelspec": {
   "display_name": "Python 3",
   "language": "python",
   "name": "python3"
  },
  "language_info": {
   "codemirror_mode": {
    "name": "ipython",
    "version": 3
   },
   "file_extension": ".py",
   "mimetype": "text/x-python",
   "name": "python",
   "nbconvert_exporter": "python",
   "pygments_lexer": "ipython3",
   "version": "3.8.8"
  }
 },
 "nbformat": 4,
 "nbformat_minor": 5
}
