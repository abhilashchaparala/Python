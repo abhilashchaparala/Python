{
 "cells": [
  {
   "cell_type": "code",
   "execution_count": 1,
   "id": "5daa6a94",
   "metadata": {},
   "outputs": [
    {
     "data": {
      "text/plain": [
       "[1, 2]"
      ]
     },
     "execution_count": 1,
     "metadata": {},
     "output_type": "execute_result"
    }
   ],
   "source": [
    "# 1\n",
    "\n",
    "\n",
    "def Solution(l):\n",
    "    return [x for x in l if not isinstance(x, str)]\n",
    "Solution([1,'a',2,'b'])"
   ]
  },
  {
   "cell_type": "code",
   "execution_count": 2,
   "id": "7c310e09",
   "metadata": {},
   "outputs": [
    {
     "data": {
      "text/plain": [
       "'dCbA'"
      ]
     },
     "execution_count": 2,
     "metadata": {},
     "output_type": "execute_result"
    }
   ],
   "source": [
    "# 2\n",
    "\n",
    "def reverse(string):\n",
    "    return string[::-1].swapcase()\n",
    "reverse('aBcD')"
   ]
  },
  {
   "cell_type": "code",
   "execution_count": 3,
   "id": "a4d8f94b",
   "metadata": {},
   "outputs": [
    {
     "name": "stdout",
     "output_type": "stream",
     "text": [
      "120\n"
     ]
    }
   ],
   "source": [
    "# 44\n",
    "\n",
    "def factorial(n):\n",
    "    if n == 0:\n",
    "        return 1\n",
    "    else:\n",
    "        return n * factorial(n-1)\n",
    "\n",
    "print(factorial(5))"
   ]
  },
  {
   "cell_type": "code",
   "execution_count": 4,
   "id": "87ecbd8c",
   "metadata": {},
   "outputs": [
    {
     "name": "stdout",
     "output_type": "stream",
     "text": [
      "[1, 1, 2, 3, 4, 5, 2]\n"
     ]
    }
   ],
   "source": [
    "# 5\n",
    "\n",
    "def move_to_end(lst, item):\n",
    "    index = lst.index(item)\n",
    "    length = len(lst)\n",
    "    item = lst[index]\n",
    "    lst.remove(item)\n",
    "    lst.append(item)\n",
    "    return lst\n",
    "print(move_to_end([1, 2, 1, 2, 3, 4, 5], 2))"
   ]
  },
  {
   "cell_type": "code",
   "execution_count": null,
   "id": "29c3abd9",
   "metadata": {},
   "outputs": [],
   "source": []
  }
 ],
 "metadata": {
  "kernelspec": {
   "display_name": "Python 3",
   "language": "python",
   "name": "python3"
  },
  "language_info": {
   "codemirror_mode": {
    "name": "ipython",
    "version": 3
   },
   "file_extension": ".py",
   "mimetype": "text/x-python",
   "name": "python",
   "nbconvert_exporter": "python",
   "pygments_lexer": "ipython3",
   "version": "3.8.8"
  }
 },
 "nbformat": 4,
 "nbformat_minor": 5
}
