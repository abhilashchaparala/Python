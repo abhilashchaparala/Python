{
 "cells": [
  {
   "cell_type": "markdown",
   "id": "f65c7938",
   "metadata": {},
   "source": [
    "Write a Python program to find sum of elements in list?\n",
    "\n",
    "Write a Python program to  Multiply all numbers in the list?\n",
    "\n",
    "Write a Python program to find smallest number in a list?\n",
    "\n",
    "Write a Python program to find largest number in a list?\n",
    "\n",
    "Write a Python program to find second largest number in a list?\n",
    "\n",
    "Write a Python program to find N largest elements from a list?\n",
    "\n",
    "Write a Python program to print even numbers in a list?\n",
    "\n",
    "Write a Python program to print odd numbers in a List?\n",
    "\n",
    "Write a Python program to Remove empty List from List?\n",
    "\n",
    "Write a Python program to Cloning or Copying a list?\n",
    "\n",
    "Write a Python program to Count occurrences of an element in a list?"
   ]
  },
  {
   "cell_type": "raw",
   "id": "b03f4116",
   "metadata": {},
   "source": []
  },
  {
   "cell_type": "code",
   "execution_count": 2,
   "id": "afecfa19",
   "metadata": {},
   "outputs": [
    {
     "data": {
      "text/plain": [
       "3"
      ]
     },
     "execution_count": 2,
     "metadata": {},
     "output_type": "execute_result"
    }
   ],
   "source": [
    "1.\n",
    "\n",
    "def sum_list(list):\n",
    "    sum = 0\n",
    "    for i in list:\n",
    "        sum += i\n",
    "    return sum\n",
    "sum_list([1,2])"
   ]
  },
  {
   "cell_type": "code",
   "execution_count": 3,
   "id": "806afba8",
   "metadata": {},
   "outputs": [
    {
     "data": {
      "text/plain": [
       "24"
      ]
     },
     "execution_count": 3,
     "metadata": {},
     "output_type": "execute_result"
    }
   ],
   "source": [
    "2.\n",
    "\n",
    "def multiply(numbers):\n",
    "    total = 1\n",
    "    for x in numbers:\n",
    "        total *= x\n",
    "    return total\n",
    "multiply([1,2,3,4])"
   ]
  },
  {
   "cell_type": "code",
   "execution_count": 4,
   "id": "bb40588a",
   "metadata": {},
   "outputs": [
    {
     "data": {
      "text/plain": [
       "1"
      ]
     },
     "execution_count": 4,
     "metadata": {},
     "output_type": "execute_result"
    }
   ],
   "source": [
    "3.\n",
    "\n",
    "\n",
    "def smallest(list):\n",
    "    smallest = list[0]\n",
    "    for i in list:\n",
    "        if i < smallest:\n",
    "            smallest = i\n",
    "    return smallest\n",
    "smallest([1,2,3,4,5])"
   ]
  },
  {
   "cell_type": "code",
   "execution_count": 5,
   "id": "56f352ee",
   "metadata": {},
   "outputs": [
    {
     "data": {
      "text/plain": [
       "5"
      ]
     },
     "execution_count": 5,
     "metadata": {},
     "output_type": "execute_result"
    }
   ],
   "source": [
    "4.\n",
    "\n",
    "\n",
    "def largest(n):\n",
    "    largest = 0\n",
    "    for i in n:\n",
    "        if i > largest:\n",
    "            largest = i\n",
    "    return largest\n",
    "largest([1,2,3,4,5])"
   ]
  },
  {
   "cell_type": "code",
   "execution_count": 9,
   "id": "c82bb960",
   "metadata": {},
   "outputs": [
    {
     "data": {
      "text/plain": [
       "9"
      ]
     },
     "execution_count": 9,
     "metadata": {},
     "output_type": "execute_result"
    }
   ],
   "source": [
    "4.\n",
    "\n",
    "def second_largest(l):\n",
    "    return sorted(l)[-2]\n",
    "second_largest([1,2,3,4,5,10,9])"
   ]
  },
  {
   "cell_type": "code",
   "execution_count": 11,
   "id": "372a2384",
   "metadata": {},
   "outputs": [
    {
     "data": {
      "text/plain": [
       "[8, 9, 10]"
      ]
     },
     "execution_count": 11,
     "metadata": {},
     "output_type": "execute_result"
    }
   ],
   "source": [
    "5.\n",
    "\n",
    "def find_n_largest(n, l):\n",
    "    l.sort()\n",
    "    return l[-n:]\n",
    "find_n_largest(3, [1,2,3,4,5,6,7,8,9,10])\n"
   ]
  },
  {
   "cell_type": "code",
   "execution_count": 12,
   "id": "ce06a211",
   "metadata": {},
   "outputs": [
    {
     "name": "stdout",
     "output_type": "stream",
     "text": [
      "2\n",
      "4\n",
      "6\n",
      "8\n",
      "10\n"
     ]
    }
   ],
   "source": [
    "6.\n",
    "\n",
    "def even_numbers(list):\n",
    "    for i in list:\n",
    "        if i % 2 == 0:\n",
    "            print(i)\n",
    "even_numbers([1,2,3,4,5,6,7,8,9,10])"
   ]
  },
  {
   "cell_type": "code",
   "execution_count": 13,
   "id": "e61b2fef",
   "metadata": {},
   "outputs": [
    {
     "name": "stdout",
     "output_type": "stream",
     "text": [
      "1\n",
      "3\n",
      "5\n",
      "7\n",
      "9\n"
     ]
    }
   ],
   "source": [
    "7.\n",
    "\n",
    "def odd_numbers(list):\n",
    "    for i in list:\n",
    "        if i % 2 != 0:\n",
    "            print(i)\n",
    "odd_numbers([1,2,3,4,5,6,7,8,9,10])"
   ]
  },
  {
   "cell_type": "code",
   "execution_count": 19,
   "id": "831a2807",
   "metadata": {},
   "outputs": [
    {
     "name": "stdout",
     "output_type": "stream",
     "text": [
      "[1, 2, 3]\n"
     ]
    },
    {
     "data": {
      "text/plain": [
       "[1, 2, 3]"
      ]
     },
     "execution_count": 19,
     "metadata": {},
     "output_type": "execute_result"
    }
   ],
   "source": [
    "9.\n",
    "\n",
    "\n",
    "def clone_list(l):\n",
    "    return l[:]\n",
    "def copy_list(l):\n",
    "    return l.copy()\n",
    "print(clone_list([1,2,3]))\n",
    "copy_list([1,2,3])"
   ]
  },
  {
   "cell_type": "code",
   "execution_count": 20,
   "id": "8df5b454",
   "metadata": {},
   "outputs": [
    {
     "data": {
      "text/plain": [
       "2"
      ]
     },
     "execution_count": 20,
     "metadata": {},
     "output_type": "execute_result"
    }
   ],
   "source": [
    "10.\n",
    "\n",
    "def count(elem, list):\n",
    "    count = 0\n",
    "    for i in list:\n",
    "        if i == elem:\n",
    "            count += 1\n",
    "    return count\n",
    "count(1, [1, 2, 3, 4, 5, 1, 2, 3, 4, 5])"
   ]
  },
  {
   "cell_type": "code",
   "execution_count": null,
   "id": "e025305c",
   "metadata": {},
   "outputs": [],
   "source": []
  }
 ],
 "metadata": {
  "kernelspec": {
   "display_name": "Python 3",
   "language": "python",
   "name": "python3"
  },
  "language_info": {
   "codemirror_mode": {
    "name": "ipython",
    "version": 3
   },
   "file_extension": ".py",
   "mimetype": "text/x-python",
   "name": "python",
   "nbconvert_exporter": "python",
   "pygments_lexer": "ipython3",
   "version": "3.8.8"
  }
 },
 "nbformat": 4,
 "nbformat_minor": 5
}
