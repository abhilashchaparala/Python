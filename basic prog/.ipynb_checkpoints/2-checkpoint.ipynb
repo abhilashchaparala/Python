{
 "cells": [
  {
   "cell_type": "raw",
   "id": "ce1c63e0",
   "metadata": {},
   "source": [
    "Write a Python program to convert kilometers to miles?\n",
    "Write a Python program to convert Celsius to Fahrenheit?\n",
    "Write a Python program to display calendar?\n",
    "Write a Python program to solve quadratic equation?\n",
    "Write a Python program to swap two variables without temp variable?\n"
   ]
  },
  {
   "cell_type": "code",
   "execution_count": 6,
   "id": "b41645e8",
   "metadata": {},
   "outputs": [
    {
     "name": "stdout",
     "output_type": "stream",
     "text": [
      "170.0\n"
     ]
    }
   ],
   "source": [
    "1.\n",
    "\n",
    "km=100\n",
    "km_to_mile = km*(1.7)\n",
    "print(km_to_mile)"
   ]
  },
  {
   "cell_type": "code",
   "execution_count": null,
   "id": "b8d638a2",
   "metadata": {},
   "outputs": [],
   "source": [
    "2.\n",
    "\n"
   ]
  },
  {
   "cell_type": "code",
   "execution_count": null,
   "id": "1b1deee8",
   "metadata": {},
   "outputs": [],
   "source": [
    "3.\n",
    "\n"
   ]
  },
  {
   "cell_type": "code",
   "execution_count": null,
   "id": "45a4e4e2",
   "metadata": {},
   "outputs": [],
   "source": [
    "4.\n",
    "\n"
   ]
  },
  {
   "cell_type": "code",
   "execution_count": 5,
   "id": "3dd18cfa",
   "metadata": {},
   "outputs": [
    {
     "name": "stdout",
     "output_type": "stream",
     "text": [
      "2 1\n"
     ]
    }
   ],
   "source": [
    "5.\n",
    "\n",
    "a,b=1,2\n",
    "a,b=b,a\n",
    "print(a,b)"
   ]
  }
 ],
 "metadata": {
  "kernelspec": {
   "display_name": "Python 3",
   "language": "python",
   "name": "python3"
  },
  "language_info": {
   "codemirror_mode": {
    "name": "ipython",
    "version": 3
   },
   "file_extension": ".py",
   "mimetype": "text/x-python",
   "name": "python",
   "nbconvert_exporter": "python",
   "pygments_lexer": "ipython3",
   "version": "3.8.8"
  }
 },
 "nbformat": 4,
 "nbformat_minor": 5
}
