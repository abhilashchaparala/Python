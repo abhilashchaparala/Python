{
 "cells": [
  {
   "cell_type": "markdown",
   "id": "77dc514e",
   "metadata": {},
   "source": [
    "Write a Python program to convert kilometers to miles?\n",
    "\n",
    "Write a Python program to convert Celsius to Fahrenheit?\n",
    "\n",
    "Write a Python program to display calendar?\n",
    "\n",
    "Write a Python program to solve quadratic equation?\n",
    "\n",
    "Write a Python program to swap two variables without temp variable?\n"
   ]
  },
  {
   "cell_type": "code",
   "execution_count": 6,
   "id": "b41645e8",
   "metadata": {},
   "outputs": [
    {
     "name": "stdout",
     "output_type": "stream",
     "text": [
      "170.0\n"
     ]
    }
   ],
   "source": [
    "1.\n",
    "\n",
    "km=100\n",
    "km_to_mile = km*(1.7)\n",
    "print(km_to_mile)"
   ]
  },
  {
   "cell_type": "code",
   "execution_count": 1,
   "id": "b8d638a2",
   "metadata": {},
   "outputs": [
    {
     "data": {
      "text/plain": [
       "113.0"
      ]
     },
     "execution_count": 1,
     "metadata": {},
     "output_type": "execute_result"
    }
   ],
   "source": [
    "2.\n",
    "\n",
    "def convert_celsius_to_fahrenheit(celsius):\n",
    "    return celsius * 1.8 + 32\n",
    "convert_celsius_to_fahrenheit(45)"
   ]
  },
  {
   "cell_type": "code",
   "execution_count": 7,
   "id": "1b1deee8",
   "metadata": {},
   "outputs": [
    {
     "name": "stdout",
     "output_type": "stream",
     "text": [
      "Current date and time: \n",
      "2021-07-23 21:56:40.211817\n",
      "Current year:  2021\n",
      "Month of year:  July\n",
      "Week number of the year:  29\n",
      "Weekday of the week:  5\n",
      "Day of year:  204\n",
      "Day of the month :  23\n",
      "Day of week:  Friday\n"
     ]
    }
   ],
   "source": [
    "3.\n",
    "\n",
    "import datetime\n",
    "def calendar():\n",
    "    print(\"Current date and time: \")\n",
    "    print(datetime.datetime.now())\n",
    "    print(\"Current year: \", datetime.date.today().strftime(\"%Y\"))\n",
    "    print(\"Month of year: \", datetime.date.today().strftime(\"%B\"))\n",
    "    print(\"Week number of the year: \", datetime.date.today().strftime(\"%W\"))\n",
    "    print(\"Weekday of the week: \", datetime.date.today().strftime(\"%w\"))\n",
    "    print(\"Day of year: \", datetime.date.today().strftime(\"%j\"))\n",
    "    print(\"Day of the month : \", datetime.date.today().strftime(\"%d\"))\n",
    "    print(\"Day of week: \", datetime.date.today().strftime(\"%A\"))\n",
    "calendar()"
   ]
  },
  {
   "cell_type": "code",
   "execution_count": 8,
   "id": "45a4e4e2",
   "metadata": {},
   "outputs": [
    {
     "name": "stdout",
     "output_type": "stream",
     "text": [
      "1.0\n"
     ]
    }
   ],
   "source": [
    "4.\n",
    "\n",
    "def solveQuad(a, b, c):\n",
    "    if b**2 - 4*a*c < 0:\n",
    "        return \"No real roots\"\n",
    "    elif b**2 - 4*a*c == 0:\n",
    "        return -b/(2*a)\n",
    "    else:\n",
    "        return (-b + (b**2 - 4*a*c)**0.5)/(2*a), (-b - (b**2 - 4*a*c)**0.5)/(2*a)\n",
    "print(solveQuad(1, -2, 1))"
   ]
  },
  {
   "cell_type": "code",
   "execution_count": 5,
   "id": "3dd18cfa",
   "metadata": {},
   "outputs": [
    {
     "name": "stdout",
     "output_type": "stream",
     "text": [
      "2 1\n"
     ]
    }
   ],
   "source": [
    "5.\n",
    "\n",
    "a,b=1,2\n",
    "a,b=b,a\n",
    "print(a,b)"
   ]
  }
 ],
 "metadata": {
  "kernelspec": {
   "display_name": "Python 3",
   "language": "python",
   "name": "python3"
  },
  "language_info": {
   "codemirror_mode": {
    "name": "ipython",
    "version": 3
   },
   "file_extension": ".py",
   "mimetype": "text/x-python",
   "name": "python",
   "nbconvert_exporter": "python",
   "pygments_lexer": "ipython3",
   "version": "3.8.8"
  }
 },
 "nbformat": 4,
 "nbformat_minor": 5
}
