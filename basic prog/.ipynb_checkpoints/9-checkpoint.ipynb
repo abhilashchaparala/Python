{
 "cells": [
  {
   "cell_type": "markdown",
   "id": "e3572839",
   "metadata": {},
   "source": [
    "Write a Python program to check if the given number is a Disarium Number?\n",
    "\n",
    "Write a Python program to print all disarium numbers between 1 to 100?\n",
    "\n",
    "Write a Python program to check if the given number is Happy Number?\n",
    "\n",
    "Write a Python program to print all happy numbers between 1 and 100?\n",
    "\n",
    "Write a Python program to determine whether the given number is a Harshad Number?\n",
    "\n",
    "Write a Python program to print all pronic numbers between 1 and 100?"
   ]
  },
  {
   "cell_type": "raw",
   "id": "46912905",
   "metadata": {},
   "source": []
  },
  {
   "cell_type": "code",
   "execution_count": 2,
   "id": "01333847",
   "metadata": {},
   "outputs": [
    {
     "data": {
      "text/plain": [
       "False"
      ]
     },
     "execution_count": 2,
     "metadata": {},
     "output_type": "execute_result"
    }
   ],
   "source": [
    "1.\n",
    "\n",
    "def check_disarium(num):\n",
    "    num_str = str(num)\n",
    "    num_len = len(num_str)\n",
    "    for i in range(num_len):\n",
    "        if num_str[i] != num_str[num_len - i - 1]:\n",
    "            return False\n",
    "    return True\n",
    "check_disarium(10)"
   ]
  },
  {
   "cell_type": "code",
   "execution_count": 9,
   "id": "98822986",
   "metadata": {},
   "outputs": [
    {
     "name": "stdout",
     "output_type": "stream",
     "text": [
      "0 3 5 6 9 10 12 15 18 20 21 24 25 27 30 33 35 36 39 40 42 45 48 50 51 54 55 57 60 63 65 66 69 70 72 75 78 80 81 84 85 87 90 93 95 96 99 "
     ]
    }
   ],
   "source": [
    "2.\n",
    "\n",
    "def printDisarium(num=100):\n",
    "    for i in range(num):\n",
    "        if i%3==0 and i%5==0:\n",
    "            print(i,end=' ')\n",
    "        elif i%3==0:\n",
    "            print(i,end=' ')\n",
    "        elif i%5==0:\n",
    "            print(i,end=' ')\n",
    "\n",
    "printDisarium()"
   ]
  },
  {
   "cell_type": "code",
   "execution_count": 17,
   "id": "5aac4301",
   "metadata": {},
   "outputs": [
    {
     "data": {
      "text/plain": [
       "False"
      ]
     },
     "execution_count": 17,
     "metadata": {},
     "output_type": "execute_result"
    }
   ],
   "source": [
    "3.\n",
    "\n",
    "def is_happy_number(n):\n",
    "    if n == 1:\n",
    "        return True\n",
    "    else:\n",
    "        try:\n",
    "            sum = 0\n",
    "            while n > 0:\n",
    "                sum += (n % 10) ** 2\n",
    "                n = n // 10\n",
    "            return is_happy_number(sum)\n",
    "        except:\n",
    "            return False\n",
    "is_happy_number(4)"
   ]
  },
  {
   "cell_type": "code",
   "execution_count": 23,
   "id": "a8ebd333",
   "metadata": {},
   "outputs": [
    {
     "name": "stdout",
     "output_type": "stream",
     "text": [
      "1 7 10 13 19 23 28 31 32 44 49 68 70 79 82 86 91 94 97 100 "
     ]
    }
   ],
   "source": [
    "4.\n",
    "\n",
    "def is_happy_number(n):\n",
    "    if n == 1:\n",
    "        return True\n",
    "    else:\n",
    "        try:\n",
    "            sum = 0\n",
    "            while n > 0:\n",
    "                sum += (n % 10) ** 2\n",
    "                n = n // 10\n",
    "            return is_happy_number(sum)\n",
    "        except:\n",
    "            return False\n",
    "for i in range(101):\n",
    "    if is_happy_number(i):\n",
    "        print(i,end=' ')\n",
    "    else:\n",
    "        pass"
   ]
  },
  {
   "cell_type": "code",
   "execution_count": 24,
   "id": "19deba5a",
   "metadata": {},
   "outputs": [
    {
     "data": {
      "text/plain": [
       "True"
      ]
     },
     "execution_count": 24,
     "metadata": {},
     "output_type": "execute_result"
    }
   ],
   "source": [
    "5.\n",
    "\n",
    "sumOfDigits = lambda num: sum(map(int, str(num)))\n",
    "def isHarshad(num):\n",
    "    if num % sumOfDigits(num) == 0:\n",
    "        return True\n",
    "    else:\n",
    "        return False\n",
    "isHarshad(10)"
   ]
  },
  {
   "cell_type": "code",
   "execution_count": 25,
   "id": "3bc70940",
   "metadata": {},
   "outputs": [
    {
     "name": "stdout",
     "output_type": "stream",
     "text": [
      "2 4 6 8 10 12 14 16 18 20 22 24 26 28 30 32 34 36 38 40 42 44 46 48 50 52 54 56 58 60 62 64 66 68 70 72 74 76 78 80 82 84 86 88 90 92 94 96 98 100 "
     ]
    }
   ],
   "source": [
    "6.\n",
    "\n",
    "def printPronicNumbers():\n",
    "    for i in range(1,101):\n",
    "        if i%2==0:\n",
    "            print(i,end=' ')\n",
    "printPronicNumbers()"
   ]
  }
 ],
 "metadata": {
  "kernelspec": {
   "display_name": "Python 3",
   "language": "python",
   "name": "python3"
  },
  "language_info": {
   "codemirror_mode": {
    "name": "ipython",
    "version": 3
   },
   "file_extension": ".py",
   "mimetype": "text/x-python",
   "name": "python",
   "nbconvert_exporter": "python",
   "pygments_lexer": "ipython3",
   "version": "3.8.8"
  }
 },
 "nbformat": 4,
 "nbformat_minor": 5
}
