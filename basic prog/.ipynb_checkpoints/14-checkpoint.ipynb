{
 "cells": [
  {
   "cell_type": "code",
   "execution_count": 1,
   "id": "65f24be6",
   "metadata": {},
   "outputs": [
    {
     "name": "stdout",
     "output_type": "stream",
     "text": [
      "[0, 7, 14, 21, 28, 35, 42, 49, 56, 63, 70, 77, 84, 91, 98]\n"
     ]
    }
   ],
   "source": [
    "# 1\n",
    "class Solution:\n",
    "    def __init__(self, n):\n",
    "        self.n = n\n",
    "\n",
    "    def num(self):\n",
    "        for i in range(self.n):\n",
    "            if i % 7 == 0:\n",
    "                yield i\n",
    "obj = Solution(100)\n",
    "print(list(obj.num()))"
   ]
  },
  {
   "cell_type": "code",
   "execution_count": 3,
   "id": "01bb01f9",
   "metadata": {},
   "outputs": [
    {
     "name": "stdout",
     "output_type": "stream",
     "text": [
      "New to Python or choosing between Python 2 and Python 3? Read Python 2 or Python 3.\n",
      "New 1\n",
      "to 1\n",
      "Python 5\n",
      "or 2\n",
      "choosing 1\n",
      "between 1\n",
      "2 2\n",
      "and 1\n",
      "3? 1\n",
      "Read 1\n",
      "3. 1\n"
     ]
    }
   ],
   "source": [
    "# 2\n",
    "from collections import OrderedDict\n",
    "def main():\n",
    "    text = input()\n",
    "    d = {}\n",
    "    words = text.split()\n",
    "    for word in words:\n",
    "        if word in d:\n",
    "            d[word] += 1\n",
    "        else:\n",
    "            d[word] =1\n",
    "    # print(d)\"\"\n",
    "    OrderedDict(sorted(d.items(), key=lambda t: t[0]))\n",
    "    for key, value in d.items():\n",
    "        print(key, value)\n",
    "main()"
   ]
  },
  {
   "cell_type": "code",
   "execution_count": 4,
   "id": "09817fb3",
   "metadata": {},
   "outputs": [
    {
     "name": "stdout",
     "output_type": "stream",
     "text": [
      "Male\n",
      "Female\n"
     ]
    }
   ],
   "source": [
    "# 3\n",
    "\n",
    "class Person:\n",
    "    def __init__(self):\n",
    "        pass\n",
    "class Male(Person):\n",
    "    def __init__(self):\n",
    "        pass\n",
    "    def getGender(self):\n",
    "        print('Male')\n",
    "class Female(Person):\n",
    "    def __init__(self):\n",
    "        pass\n",
    "    def getGender(self):\n",
    "        print('Female')\n",
    "\n",
    "m_obj = Male()\n",
    "m_obj.getGender()\n",
    "f_obj = Female()\n",
    "f_obj.getGender()"
   ]
  },
  {
   "cell_type": "code",
   "execution_count": 5,
   "id": "0bd83531",
   "metadata": {},
   "outputs": [
    {
     "name": "stdout",
     "output_type": "stream",
     "text": [
      "I Play Hockey\n",
      "I Play Football\n",
      "I Love Hockey\n",
      "I Love Football\n",
      "You Play Hockey\n",
      "You Play Football\n",
      "You Love Hockey\n",
      "You Love Football\n"
     ]
    }
   ],
   "source": [
    "# 4\n",
    "def main():\n",
    "    subject = [\"I\", \"You\"]\n",
    "    verb = [\"Play\", \"Love\"]\n",
    "    object = [\"Hockey\",\"Football\"]\n",
    "    for i in subject:\n",
    "        for j in verb:\n",
    "            for k in object:\n",
    "                print(i,j,k)\n",
    "main()"
   ]
  },
  {
   "cell_type": "code",
   "execution_count": 6,
   "id": "671ed5e2",
   "metadata": {},
   "outputs": [
    {
     "name": "stdout",
     "output_type": "stream",
     "text": [
      "4\n"
     ]
    }
   ],
   "source": [
    "# 6\n",
    "\n",
    "def binary_search(lst, item):\n",
    "    low = 0\n",
    "    high = len(lst) - 1\n",
    "    while low <= high:\n",
    "        mid = (low + high) // 2\n",
    "        if lst[mid] == item:\n",
    "            return mid\n",
    "def main():\n",
    "    lst = [1, 2, 3, 4, 5, 6, 7, 8, 9, 10]\n",
    "    item = 5\n",
    "    result = binary_search(lst, item)\n",
    "    print(result)\n",
    "main()"
   ]
  },
  {
   "cell_type": "code",
   "execution_count": null,
   "id": "512e4469",
   "metadata": {},
   "outputs": [],
   "source": []
  }
 ],
 "metadata": {
  "kernelspec": {
   "display_name": "Python 3",
   "language": "python",
   "name": "python3"
  },
  "language_info": {
   "codemirror_mode": {
    "name": "ipython",
    "version": 3
   },
   "file_extension": ".py",
   "mimetype": "text/x-python",
   "name": "python",
   "nbconvert_exporter": "python",
   "pygments_lexer": "ipython3",
   "version": "3.8.8"
  }
 },
 "nbformat": 4,
 "nbformat_minor": 5
}
