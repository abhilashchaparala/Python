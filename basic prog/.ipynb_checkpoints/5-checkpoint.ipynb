{
 "cells": [
  {
   "cell_type": "markdown",
   "id": "7d75566c",
   "metadata": {},
   "source": [
    "Write a Python Program to Find LCM?\n",
    "\n",
    "Write a Python Program to Find HCF?\n",
    "\n",
    "Write a Python Program to Convert Decimal to Binary, Octal and Hexadecimal?\n",
    "\n",
    "Write a Python Program To Find ASCII value of a character?\n",
    "\n",
    "Write a Python Program to Make a Simple Calculator with 4 basic mathematical operations?"
   ]
  },
  {
   "cell_type": "code",
   "execution_count": 5,
   "id": "cde8b3a5",
   "metadata": {},
   "outputs": [
    {
     "data": {
      "text/plain": [
       "6"
      ]
     },
     "execution_count": 5,
     "metadata": {},
     "output_type": "execute_result"
    }
   ],
   "source": [
    "1.\n",
    "\n",
    "def LCM(a,b):\n",
    "    if a>b:\n",
    "        greater=a\n",
    "    else:\n",
    "        greater=b\n",
    "    while(True):\n",
    "        if((greater%a==0) and (greater%b==0)):\n",
    "            lcm=greater\n",
    "            break\n",
    "        greater+=1\n",
    "    return lcm\n",
    "LCM(3,2)"
   ]
  },
  {
   "cell_type": "code",
   "execution_count": 6,
   "id": "940182f0",
   "metadata": {},
   "outputs": [
    {
     "data": {
      "text/plain": [
       "1"
      ]
     },
     "execution_count": 6,
     "metadata": {},
     "output_type": "execute_result"
    }
   ],
   "source": [
    "2.\n",
    "\n",
    "\n",
    "def HCF(x, y):\n",
    "    if x > y:\n",
    "        smaller = y\n",
    "    else:\n",
    "        smaller = x\n",
    "    for i in range(1, smaller+1):\n",
    "        if((x % i == 0) and (y % i == 0)):\n",
    "            hcf = i\n",
    "    return hcf\n",
    "HCF(3,2)"
   ]
  },
  {
   "cell_type": "code",
   "execution_count": 10,
   "id": "6e8afe23",
   "metadata": {},
   "outputs": [
    {
     "name": "stdout",
     "output_type": "stream",
     "text": [
      "0b1010\n",
      "A\n"
     ]
    }
   ],
   "source": [
    "3.\n",
    "\n",
    "def dec_to_bin(dec):\n",
    "    return bin(dec)\n",
    "def Octal_to_Hexadecimal(dec):\n",
    "    hex_str = ''\n",
    "    while dec > 0:\n",
    "        if dec % 16 == 10:\n",
    "            hex_str = 'A' + hex_str\n",
    "        elif dec % 16 == 11:\n",
    "            hex_str = 'B' + hex_str\n",
    "        elif dec % 16 == 12:\n",
    "            hex_str = 'C' + hex_str\n",
    "        elif dec % 16 == 13:\n",
    "            hex_str = 'D' + hex_str\n",
    "        elif dec % 16 == 14:\n",
    "            hex_str = 'E' + hex_str\n",
    "        elif dec % 16 == 15:\n",
    "            hex_str = 'F' + hex_str\n",
    "        else:\n",
    "            hex_str = str(dec % 16) + hex_str\n",
    "        dec = dec // 16\n",
    "    return hex_str\n",
    "print(dec_to_bin(10))\n",
    "print(Octal_to_Hexadecimal(10))"
   ]
  },
  {
   "cell_type": "code",
   "execution_count": 13,
   "id": "b91fdfe8",
   "metadata": {},
   "outputs": [
    {
     "data": {
      "text/plain": [
       "97"
      ]
     },
     "execution_count": 13,
     "metadata": {},
     "output_type": "execute_result"
    }
   ],
   "source": [
    "4.\n",
    "\n",
    "def Ascii(ch):\n",
    "    return ord(ch)\n",
    "Ascii('a')"
   ]
  },
  {
   "cell_type": "code",
   "execution_count": 14,
   "id": "21a1b71e",
   "metadata": {},
   "outputs": [
    {
     "name": "stdout",
     "output_type": "stream",
     "text": [
      "Enter your operation:\n",
      "+\n",
      "3\n"
     ]
    }
   ],
   "source": [
    "5.\n",
    "\n",
    "def calculate(num1,num2):\n",
    "    print(\"Enter your operation:\")\n",
    "    op = input()\n",
    "    if op == \"+\":\n",
    "        print(num1 + num2)\n",
    "    elif op == \"-\":\n",
    "        print(num1 - num2)\n",
    "    elif op == \"*\":\n",
    "        print(num1 * num2)\n",
    "    elif op == \"/\":\n",
    "        print(num1 / num2)\n",
    "    else:\n",
    "        print(\"Invalid Input\")\n",
    "calculate(1,2)"
   ]
  },
  {
   "cell_type": "code",
   "execution_count": null,
   "id": "bad780f8",
   "metadata": {},
   "outputs": [],
   "source": []
  }
 ],
 "metadata": {
  "kernelspec": {
   "display_name": "Python 3",
   "language": "python",
   "name": "python3"
  },
  "language_info": {
   "codemirror_mode": {
    "name": "ipython",
    "version": 3
   },
   "file_extension": ".py",
   "mimetype": "text/x-python",
   "name": "python",
   "nbconvert_exporter": "python",
   "pygments_lexer": "ipython3",
   "version": "3.8.8"
  }
 },
 "nbformat": 4,
 "nbformat_minor": 5
}
