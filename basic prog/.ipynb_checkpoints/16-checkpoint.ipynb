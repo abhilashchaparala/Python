{
 "cells": [
  {
   "cell_type": "code",
   "execution_count": 3,
   "id": "4279b685",
   "metadata": {},
   "outputs": [
    {
     "name": "stdout",
     "output_type": "stream",
     "text": [
      "ineuron\n",
      "in... euron?\n"
     ]
    }
   ],
   "source": [
    "# 1\n",
    "def a(word):\n",
    "    print(word[0:2] + '... ' + word[2:] + '?')\n",
    "    return \n",
    "word = input()\n",
    "a(word)"
   ]
  },
  {
   "cell_type": "code",
   "execution_count": 4,
   "id": "d8c91d96",
   "metadata": {},
   "outputs": [
    {
     "data": {
      "text/plain": [
       "57.3"
      ]
     },
     "execution_count": 4,
     "metadata": {},
     "output_type": "execute_result"
    }
   ],
   "source": [
    "# 2\n",
    "def convert_angle(angle):\n",
    "    return round(angle * 180 / 3.14159, 1)\n",
    "convert_angle(1)"
   ]
  },
  {
   "cell_type": "code",
   "execution_count": 11,
   "id": "06920d83",
   "metadata": {},
   "outputs": [
    {
     "data": {
      "text/plain": [
       "False"
      ]
     },
     "execution_count": 11,
     "metadata": {},
     "output_type": "execute_result"
    }
   ],
   "source": [
    "# 3\n",
    "\n",
    "def check_number(number):\n",
    "    if number % 2 == 0:\n",
    "        return False\n",
    "    for i in range(3, int(number**0.5)+1, 2):\n",
    "        if number % i == 0:\n",
    "            return False\n",
    "    return True\n",
    "check_number(10)"
   ]
  },
  {
   "cell_type": "code",
   "execution_count": 12,
   "id": "cb5cd762",
   "metadata": {},
   "outputs": [
    {
     "name": "stdout",
     "output_type": "stream",
     "text": [
      "Enter the side length: 5\n",
      "The area of a hexagon with side length 5 is 21.650635094610966\n"
     ]
    }
   ],
   "source": [
    "# 4\n",
    "\n",
    "def main():\n",
    "    x = eval(input(\"Enter the side length: \"))\n",
    "    area = x * x * 3 ** 0.5 / 2\n",
    "    print(\"The area of a hexagon with side length\", x, \"is\", area)\n",
    "\n",
    "main()"
   ]
  },
  {
   "cell_type": "code",
   "execution_count": 13,
   "id": "0c7120c9",
   "metadata": {},
   "outputs": [
    {
     "name": "stdout",
     "output_type": "stream",
     "text": [
      "1010\n"
     ]
    }
   ],
   "source": [
    "# 5\n",
    "def solve(n):\n",
    "    return bin(int(n))[2:]\n",
    "print(solve('10'))"
   ]
  },
  {
   "cell_type": "code",
   "execution_count": null,
   "id": "e37c1f06",
   "metadata": {},
   "outputs": [],
   "source": []
  }
 ],
 "metadata": {
  "kernelspec": {
   "display_name": "Python 3",
   "language": "python",
   "name": "python3"
  },
  "language_info": {
   "codemirror_mode": {
    "name": "ipython",
    "version": 3
   },
   "file_extension": ".py",
   "mimetype": "text/x-python",
   "name": "python",
   "nbconvert_exporter": "python",
   "pygments_lexer": "ipython3",
   "version": "3.8.8"
  }
 },
 "nbformat": 4,
 "nbformat_minor": 5
}
