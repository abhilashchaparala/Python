{
 "cells": [
  {
   "cell_type": "markdown",
   "id": "d5964327",
   "metadata": {},
   "source": [
    "Write a Python Program to Find the Factorial of a Number?\n",
    "\n",
    "Write a Python Program to Display the multiplication Table?\n",
    "\n",
    "Write a Python Program to Print the Fibonacci sequence?\n",
    "\n",
    "Write a Python Program to Check Armstrong Number?\n",
    "\n",
    "Write a Python Program to Find Armstrong Number in an Interval?\n",
    "\n",
    "Write a Python Program to Find the Sum of Natural Numbers?"
   ]
  },
  {
   "cell_type": "code",
   "execution_count": 4,
   "id": "5d62f638",
   "metadata": {},
   "outputs": [
    {
     "data": {
      "text/plain": [
       "6"
      ]
     },
     "execution_count": 4,
     "metadata": {},
     "output_type": "execute_result"
    }
   ],
   "source": [
    "1.\n",
    "\n",
    "def Factorial(num):\n",
    "    if num == 0:\n",
    "        return 1\n",
    "    else:\n",
    "        return num * Factorial(num-1)\n",
    "Factorial(3) "
   ]
  },
  {
   "cell_type": "code",
   "execution_count": 6,
   "id": "4c46b60f",
   "metadata": {},
   "outputs": [
    {
     "name": "stdout",
     "output_type": "stream",
     "text": [
      "2 x 1 = 2\n",
      "2 x 2 = 4\n",
      "2 x 3 = 6\n",
      "2 x 4 = 8\n",
      "2 x 5 = 10\n",
      "2 x 6 = 12\n",
      "2 x 7 = 14\n",
      "2 x 8 = 16\n",
      "2 x 9 = 18\n",
      "2 x 10 = 20\n"
     ]
    }
   ],
   "source": [
    "2.\n",
    "\n",
    "def display(num):\n",
    "    for i in range(1,11):\n",
    "        print(num,\"x\",i,\"=\",num*i)\n",
    "display(2)"
   ]
  },
  {
   "cell_type": "code",
   "execution_count": 12,
   "id": "82ac07bd",
   "metadata": {},
   "outputs": [
    {
     "name": "stdout",
     "output_type": "stream",
     "text": [
      "[0, 1, 1, 2, 3]\n"
     ]
    }
   ],
   "source": [
    "3.\n",
    "\n",
    "fib=[0,1]\n",
    "def Fibonacci(n):\n",
    "    for i in range(n-2):\n",
    "        fib.append(fib[len(fib)-1]+fib[len(fib)-2])\n",
    "    return fib\n",
    "print(Fibonacci(5))"
   ]
  },
  {
   "cell_type": "code",
   "execution_count": 16,
   "id": "a8e6fd13",
   "metadata": {},
   "outputs": [
    {
     "name": "stdout",
     "output_type": "stream",
     "text": [
      "False\n",
      "True\n"
     ]
    }
   ],
   "source": [
    "4.\n",
    "\n",
    "def checkArmstrong(num):\n",
    "    sum = 0\n",
    "    temp = num\n",
    "    while temp > 0:\n",
    "        digit = temp % 10\n",
    "        sum += digit ** 3\n",
    "        temp //= 10\n",
    "    if num == sum: return True\n",
    "    else: return False\n",
    "print(checkArmstrong(10))\n",
    "print(checkArmstrong(1))"
   ]
  },
  {
   "cell_type": "code",
   "execution_count": 18,
   "id": "c09cea2d",
   "metadata": {},
   "outputs": [
    {
     "name": "stdout",
     "output_type": "stream",
     "text": [
      "1\n",
      "153\n",
      "370\n",
      "371\n",
      "407\n"
     ]
    }
   ],
   "source": [
    "5.\n",
    "\n",
    "def armstrong(lower, upper):\n",
    "    for i in range(lower, upper+1):\n",
    "        s = 0\n",
    "        temp = i\n",
    "        while temp > 0:\n",
    "            r = temp % 10\n",
    "            s += r ** 3\n",
    "            temp //= 10\n",
    "        if i == s:\n",
    "            print(i)\n",
    "armstrong(1,10000)"
   ]
  },
  {
   "cell_type": "code",
   "execution_count": 19,
   "id": "978e764f",
   "metadata": {},
   "outputs": [
    {
     "data": {
      "text/plain": [
       "55"
      ]
     },
     "execution_count": 19,
     "metadata": {},
     "output_type": "execute_result"
    }
   ],
   "source": [
    "6.\n",
    "\n",
    "def sum_of_numbers(n):\n",
    "    return (n*(n+1))//2\n",
    "sum_of_numbers(10)"
   ]
  }
 ],
 "metadata": {
  "kernelspec": {
   "display_name": "Python 3",
   "language": "python",
   "name": "python3"
  },
  "language_info": {
   "codemirror_mode": {
    "name": "ipython",
    "version": 3
   },
   "file_extension": ".py",
   "mimetype": "text/x-python",
   "name": "python",
   "nbconvert_exporter": "python",
   "pygments_lexer": "ipython3",
   "version": "3.8.8"
  }
 },
 "nbformat": 4,
 "nbformat_minor": 5
}
