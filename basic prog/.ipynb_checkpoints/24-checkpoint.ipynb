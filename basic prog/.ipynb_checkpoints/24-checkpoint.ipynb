{
 "cells": [
  {
   "cell_type": "code",
   "execution_count": 1,
   "id": "d8566ccd",
   "metadata": {},
   "outputs": [
    {
     "name": "stdout",
     "output_type": "stream",
     "text": [
      "[1, 2, 3, 40]\n"
     ]
    }
   ],
   "source": [
    "# 1\n",
    "\n",
    "def amplify(num):\n",
    "    result = []\n",
    "    for i in range(1, num+1):\n",
    "        if i % 4 == 0:\n",
    "            result.append(i * 10)\n",
    "        else:\n",
    "            result.append(i)\n",
    "    return result\n",
    "print(amplify(4))"
   ]
  },
  {
   "cell_type": "code",
   "execution_count": 3,
   "id": "bb153eb5",
   "metadata": {},
   "outputs": [
    {
     "data": {
      "text/plain": [
       "7"
      ]
     },
     "execution_count": 3,
     "metadata": {},
     "output_type": "execute_result"
    }
   ],
   "source": [
    "# 2\n",
    "\n",
    "def unique(lst):\n",
    "    for i in lst:\n",
    "        if lst.count(i) == 1:\n",
    "            return i\n",
    "unique([3, 3, 3, 7, 3, 3])"
   ]
  },
  {
   "cell_type": "code",
   "execution_count": 5,
   "id": "81d55416",
   "metadata": {},
   "outputs": [
    {
     "name": "stdout",
     "output_type": "stream",
     "text": [
      "31.400000000000002\n",
      "78.5\n"
     ]
    }
   ],
   "source": [
    "# 3\n",
    "class Circle:\n",
    "    def __init__(self, radius):\n",
    "        self.radius = radius\n",
    "        self.area = 3.14 * radius ** 2\n",
    "        self.perimeter = 2 * 3.14 * radius\n",
    "    def getArea(self):\n",
    "        return self.area\n",
    "    def getPerimeter(self):\n",
    "        return self.perimeter\n",
    "obj = Circle(5)\n",
    "print(obj.getPerimeter())\n",
    "print(obj.getArea())\n"
   ]
  },
  {
   "cell_type": "code",
   "execution_count": 6,
   "id": "e65a4872",
   "metadata": {},
   "outputs": [
    {
     "data": {
      "text/plain": [
       "['Apple', 'Google', 'Microsoft']"
      ]
     },
     "execution_count": 6,
     "metadata": {},
     "output_type": "execute_result"
    }
   ],
   "source": [
    "# 4\n",
    "\n",
    "def short_to_long(list_of_strings):\n",
    "    list_of_strings.sort(key=len)\n",
    "    return list_of_strings\n",
    "short_to_long([\"Google\", \"Apple\", \"Microsoft\"])"
   ]
  },
  {
   "cell_type": "code",
   "execution_count": 7,
   "id": "c6f5da7c",
   "metadata": {},
   "outputs": [
    {
     "name": "stdout",
     "output_type": "stream",
     "text": [
      "True\n"
     ]
    }
   ],
   "source": [
    "# 5\n",
    "\n",
    "def pythagorean_triplet(a, b, c):\n",
    "    if a**2 + b**2 == c**2:\n",
    "        return True\n",
    "    else:\n",
    "        return False\n",
    "\n",
    "print(pythagorean_triplet(3, 4, 5))"
   ]
  },
  {
   "cell_type": "code",
   "execution_count": null,
   "id": "421fe323",
   "metadata": {},
   "outputs": [],
   "source": []
  }
 ],
 "metadata": {
  "kernelspec": {
   "display_name": "Python 3",
   "language": "python",
   "name": "python3"
  },
  "language_info": {
   "codemirror_mode": {
    "name": "ipython",
    "version": 3
   },
   "file_extension": ".py",
   "mimetype": "text/x-python",
   "name": "python",
   "nbconvert_exporter": "python",
   "pygments_lexer": "ipython3",
   "version": "3.8.8"
  }
 },
 "nbformat": 4,
 "nbformat_minor": 5
}
