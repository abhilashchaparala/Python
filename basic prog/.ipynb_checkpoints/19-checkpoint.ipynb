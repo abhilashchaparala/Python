{
 "cells": [
  {
   "cell_type": "code",
   "execution_count": 1,
   "id": "855e5ada",
   "metadata": {},
   "outputs": [
    {
     "name": "stdout",
     "output_type": "stream",
     "text": [
      "IINNeeuurroonn\n"
     ]
    }
   ],
   "source": [
    "# 1\n",
    "\n",
    "def double_char(string):\n",
    "    new_string = \"\"\n",
    "    for char in string:\n",
    "        new_string += char + char\n",
    "    return new_string\n",
    "\n",
    "print(double_char(\"INeuron\"))"
   ]
  },
  {
   "cell_type": "code",
   "execution_count": 2,
   "id": "e5754869",
   "metadata": {},
   "outputs": [
    {
     "name": "stdout",
     "output_type": "stream",
     "text": [
      "False\n"
     ]
    }
   ],
   "source": [
    "# 2\n",
    "\n",
    "\n",
    "def reverse(x):\n",
    "    if type(x) == bool:\n",
    "        return not x\n",
    "    else:\n",
    "        return \"boolean expected\"\n",
    "print(reverse(True))"
   ]
  },
  {
   "cell_type": "code",
   "execution_count": 7,
   "id": "774c7f87",
   "metadata": {},
   "outputs": [
    {
     "name": "stdout",
     "output_type": "stream",
     "text": [
      "0.015625m\n"
     ]
    }
   ],
   "source": [
    "# 3\n",
    "\n",
    "def as_function(n):\n",
    "    thickness = 0.5\n",
    "    for i in range(n):\n",
    "        thickness = thickness / 2\n",
    "    return str(thickness)+'m'\n",
    "print(as_function(5))"
   ]
  },
  {
   "cell_type": "code",
   "execution_count": 8,
   "id": "2f59ec11",
   "metadata": {},
   "outputs": [
    {
     "data": {
      "text/plain": [
       "[1, 3, 5]"
      ]
     },
     "execution_count": 8,
     "metadata": {},
     "output_type": "execute_result"
    }
   ],
   "source": [
    "# 4\n",
    "\n",
    "def index_of_caps(s):\n",
    "    return [i for i, c in enumerate(s) if c.isupper()]\n",
    "index_of_caps(\"eDaBiT\")"
   ]
  },
  {
   "cell_type": "code",
   "execution_count": 10,
   "id": "0d176e13",
   "metadata": {},
   "outputs": [
    {
     "data": {
      "text/plain": [
       "[2, 4, 6, 8]"
      ]
     },
     "execution_count": 10,
     "metadata": {},
     "output_type": "execute_result"
    }
   ],
   "source": [
    "def find_even_nums(num):\n",
    "    return [i for i in range(1, num+1) if i % 2 == 0]\n",
    "find_even_nums(8)"
   ]
  },
  {
   "cell_type": "code",
   "execution_count": null,
   "id": "f97611ab",
   "metadata": {},
   "outputs": [],
   "source": []
  }
 ],
 "metadata": {
  "kernelspec": {
   "display_name": "Python 3",
   "language": "python",
   "name": "python3"
  },
  "language_info": {
   "codemirror_mode": {
    "name": "ipython",
    "version": 3
   },
   "file_extension": ".py",
   "mimetype": "text/x-python",
   "name": "python",
   "nbconvert_exporter": "python",
   "pygments_lexer": "ipython3",
   "version": "3.8.8"
  }
 },
 "nbformat": 4,
 "nbformat_minor": 5
}
