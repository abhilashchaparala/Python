{
 "cells": [
  {
   "cell_type": "markdown",
   "id": "da16c491",
   "metadata": {},
   "source": [
    "Write a Python program to find words which are greater than given length k?\n",
    "\n",
    "Write a Python program for removing i-th character from a string?\n",
    "\n",
    "Write a Python program to split and join a string?\n",
    "\n",
    "Write a Python to check if a given string is binary string or not?\n",
    "\n",
    "Write a Python program to find uncommon words from two Strings?\n",
    "\n",
    "Write a Python to find all duplicate characters in string?\n",
    "\n",
    "Write a Python Program to check if a string contains any special character?"
   ]
  },
  {
   "cell_type": "code",
   "execution_count": 2,
   "id": "fbcb4288",
   "metadata": {},
   "outputs": [
    {
     "name": "stdout",
     "output_type": "stream",
     "text": [
      "3\n",
      "this\n",
      "string\n"
     ]
    }
   ],
   "source": [
    "# 1\n",
    "\n",
    "k = int(input())\n",
    "s = 'this is a string'\n",
    "for i in s.split(' '):\n",
    "    if len(i)>k:\n",
    "        print(i)"
   ]
  },
  {
   "cell_type": "code",
   "execution_count": 9,
   "id": "11662a3f",
   "metadata": {},
   "outputs": [
    {
     "name": "stdout",
     "output_type": "stream",
     "text": [
      "2\n",
      "tis is a string\n"
     ]
    }
   ],
   "source": [
    "# 2\n",
    "\n",
    "i = int(input())\n",
    "s = 'this is a string'\n",
    "s=s[:i-1]+s[i:]\n",
    "print(s)"
   ]
  },
  {
   "cell_type": "code",
   "execution_count": 13,
   "id": "5479e616",
   "metadata": {},
   "outputs": [
    {
     "name": "stdout",
     "output_type": "stream",
     "text": [
      "['this', 'is', 'a', 'string']\n"
     ]
    },
    {
     "data": {
      "text/plain": [
       "'this is a string'"
      ]
     },
     "execution_count": 13,
     "metadata": {},
     "output_type": "execute_result"
    }
   ],
   "source": [
    "# 3\n",
    "s = 'this is a string'\n",
    "splitted = s.split(' ')\n",
    "joined = ' '.join(splitted)\n",
    "print(splitted)\n",
    "print(joined)"
   ]
  },
  {
   "cell_type": "code",
   "execution_count": 14,
   "id": "d161d181",
   "metadata": {},
   "outputs": [
    {
     "name": "stdout",
     "output_type": "stream",
     "text": [
      "False\n"
     ]
    }
   ],
   "source": [
    "# 4\n",
    "\n",
    "def is_binary(s):\n",
    "    if s == '':\n",
    "        return True\n",
    "    if s[0] == '0' or s[0] == '1':\n",
    "        return is_binary(s[1:])\n",
    "    else:\n",
    "        return False\n",
    "print(is_binary('hello'))"
   ]
  },
  {
   "cell_type": "code",
   "execution_count": 24,
   "id": "bd8cdc83",
   "metadata": {},
   "outputs": [
    {
     "name": "stdout",
     "output_type": "stream",
     "text": [
      "['world']\n"
     ]
    }
   ],
   "source": [
    "# 5\n",
    "\n",
    "def find_words(s1, s2):\n",
    "    s1 = s1.lower()\n",
    "    s2 = s2.lower()\n",
    "    s1 = s1.split(\" \")\n",
    "    s2 = s2.split(\" \")\n",
    "    s3 = s1 + s2\n",
    "    l=[]\n",
    "    for i in s3:\n",
    "        if i in s1 and s2:\n",
    "            pass\n",
    "        else:\n",
    "            l.append(i)\n",
    "    return l\n",
    "print(find_words('hello','hello world'))"
   ]
  },
  {
   "cell_type": "code",
   "execution_count": 27,
   "id": "b90c160e",
   "metadata": {},
   "outputs": [
    {
     "name": "stdout",
     "output_type": "stream",
     "text": [
      "['t', 'i', 's', 'i', 's', 's', 't', 'i']\n"
     ]
    }
   ],
   "source": [
    "# 6\n",
    "\n",
    "s = 'this is a string'\n",
    "l=[]\n",
    "for i in s:\n",
    "    if i!=' ' and s.count(i) > 1:\n",
    "        l.append(i)\n",
    "print(l)"
   ]
  },
  {
   "cell_type": "code",
   "execution_count": 28,
   "id": "cf71ab84",
   "metadata": {},
   "outputs": [
    {
     "data": {
      "text/plain": [
       "True"
      ]
     },
     "execution_count": 28,
     "metadata": {},
     "output_type": "execute_result"
    }
   ],
   "source": [
    "# 7 \n",
    "def check_string(string):\n",
    "    if not string:\n",
    "        return False\n",
    "    else:\n",
    "        for char in string:\n",
    "            if char in '!@#$%^&*()_+-=[]{}|;\\':\",.<>/?':\n",
    "                return True\n",
    "        return False\n",
    "check_string('hello !')"
   ]
  },
  {
   "cell_type": "code",
   "execution_count": null,
   "id": "07e9f6f1",
   "metadata": {},
   "outputs": [],
   "source": []
  }
 ],
 "metadata": {
  "kernelspec": {
   "display_name": "Python 3",
   "language": "python",
   "name": "python3"
  },
  "language_info": {
   "codemirror_mode": {
    "name": "ipython",
    "version": 3
   },
   "file_extension": ".py",
   "mimetype": "text/x-python",
   "name": "python",
   "nbconvert_exporter": "python",
   "pygments_lexer": "ipython3",
   "version": "3.8.8"
  }
 },
 "nbformat": 4,
 "nbformat_minor": 5
}
