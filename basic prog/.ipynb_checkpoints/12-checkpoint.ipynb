{
 "cells": [
  {
   "cell_type": "markdown",
   "id": "47f5ceb1",
   "metadata": {},
   "source": [
    "Write a Python program to Extract Unique values dictionary values?\n",
    "\n",
    "Write a Python program to find the sum of all items in a dictionary?\n",
    "\n",
    "Write a Python program to Merging two Dictionaries?\n",
    "\n",
    "Write a Python program to convert key-values list to flat dictionary?\n",
    "\n",
    "Write a Python program to insertion at the beginning in OrderedDict?\n",
    "\n",
    "Write a Python program to check order of character in string using OrderedDict()?\n",
    "\n",
    "Write a Python program to sort Python Dictionaries by Key or Value?\n"
   ]
  },
  {
   "cell_type": "code",
   "execution_count": 4,
   "id": "0261e894",
   "metadata": {},
   "outputs": [
    {
     "data": {
      "text/plain": [
       "[1, 3, 4, 5]"
      ]
     },
     "execution_count": 4,
     "metadata": {},
     "output_type": "execute_result"
    }
   ],
   "source": [
    "# 1\n",
    "\n",
    "def extract(dictionary):\n",
    "    unique_values = []\n",
    "    for key, value in dictionary.items():\n",
    "        if value not in unique_values:\n",
    "            unique_values.append(value)\n",
    "    return unique_values\n",
    "extract({'a': 1, 'b': 1, 'c': 3, 'd': 4, 'e': 5})"
   ]
  },
  {
   "cell_type": "code",
   "execution_count": 6,
   "id": "413f4825",
   "metadata": {},
   "outputs": [
    {
     "name": "stdout",
     "output_type": "stream",
     "text": [
      "14\n"
     ]
    }
   ],
   "source": [
    "#2\n",
    "\n",
    "dic={'a': 1, 'b': 1, 'c': 3, 'd': 4, 'e': 5}\n",
    "summ=0\n",
    "for i in dic.values():\n",
    "    summ+=i\n",
    "print(summ)\n",
    "    "
   ]
  },
  {
   "cell_type": "code",
   "execution_count": 7,
   "id": "9318d354",
   "metadata": {},
   "outputs": [
    {
     "data": {
      "text/plain": [
       "{'a': 1, 'b': 5, 'c': 4}"
      ]
     },
     "execution_count": 7,
     "metadata": {},
     "output_type": "execute_result"
    }
   ],
   "source": [
    "# 3\n",
    "def merge_dic(dictionary1, dictionary2):\n",
    "    for key in dictionary2:\n",
    "        if key in dictionary1:\n",
    "            dictionary1[key] = dictionary1[key] + dictionary2[key]\n",
    "        else:\n",
    "            dictionary1[key] = dictionary2[key]\n",
    "    return dictionary1\n",
    "\n",
    "merge_dic({'a': 1, 'b': 2}, {'b': 3, 'c': 4})"
   ]
  },
  {
   "cell_type": "code",
   "execution_count": 8,
   "id": "487331ed",
   "metadata": {},
   "outputs": [
    {
     "data": {
      "text/plain": [
       "{'a': 1, 'b': 2, 'c': 3}"
      ]
     },
     "execution_count": 8,
     "metadata": {},
     "output_type": "execute_result"
    }
   ],
   "source": [
    "# 4\n",
    "\n",
    "def convert_to_dict(lst):\n",
    "    d = {}\n",
    "    for i in lst:\n",
    "        d[i[0]] = i[1]\n",
    "    return d\n",
    "convert_to_dict([('a', 1), ('b', 2), ('c', 3)])"
   ]
  },
  {
   "cell_type": "code",
   "execution_count": 10,
   "id": "461f2241",
   "metadata": {},
   "outputs": [
    {
     "data": {
      "text/plain": [
       "OrderedDict([('a', 1), ('b', 2), ('c', 3)])"
      ]
     },
     "execution_count": 10,
     "metadata": {},
     "output_type": "execute_result"
    }
   ],
   "source": [
    "# 5\n",
    "from collections import OrderedDict\n",
    "def insertion_at_beginning(od, key, value):\n",
    "    od[key] = value\n",
    "    od = OrderedDict(sorted(od.items(), key=lambda t: t[0]))\n",
    "    return od\n",
    "od = OrderedDict()\n",
    "insertion_at_beginning(od, 'c',3)\n",
    "insertion_at_beginning(od, 'b',2)\n",
    "insertion_at_beginning(od, 'a',1)"
   ]
  },
  {
   "cell_type": "code",
   "execution_count": 12,
   "id": "50445743",
   "metadata": {},
   "outputs": [
    {
     "name": "stdout",
     "output_type": "stream",
     "text": [
      "enter k to sort by keys\n",
      "enter v to sort by values\n",
      "k\n",
      "[('a', 1), ('b', 1), ('c', 3), ('d', 4), ('e', 5)]\n"
     ]
    }
   ],
   "source": [
    "# 7\n",
    "dictionary={'b': 1,'a': 1,  'd': 4, 'c': 3,'e': 5}\n",
    "print('enter k to sort by keys')\n",
    "print('enter v to sort by values')\n",
    "a=input()\n",
    "if a=='k':\n",
    "    print(sorted(dictionary.items(), key=lambda x: x[0]))\n",
    "else:\n",
    "    print(sorted(dictionary.items(), key=lambda x: x[1]))"
   ]
  },
  {
   "cell_type": "code",
   "execution_count": null,
   "id": "1a4715bb",
   "metadata": {},
   "outputs": [],
   "source": []
  }
 ],
 "metadata": {
  "kernelspec": {
   "display_name": "Python 3",
   "language": "python",
   "name": "python3"
  },
  "language_info": {
   "codemirror_mode": {
    "name": "ipython",
    "version": 3
   },
   "file_extension": ".py",
   "mimetype": "text/x-python",
   "name": "python",
   "nbconvert_exporter": "python",
   "pygments_lexer": "ipython3",
   "version": "3.8.8"
  }
 },
 "nbformat": 4,
 "nbformat_minor": 5
}
