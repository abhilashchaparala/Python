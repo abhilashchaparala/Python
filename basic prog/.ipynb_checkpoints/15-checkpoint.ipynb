{
 "cells": [
  {
   "cell_type": "code",
   "execution_count": 11,
   "id": "8ebb0c56",
   "metadata": {},
   "outputs": [
    {
     "name": "stdout",
     "output_type": "stream",
     "text": [
      "Enter a number: 100\n",
      "0 35 70\n"
     ]
    }
   ],
   "source": [
    "# 1\n",
    "def generator(n):\n",
    "    for i in range(0, n+1):\n",
    "        if i % 5 == 0 and i % 7 == 0:\n",
    "            yield i\n",
    "n = int(input(\"Enter a number: \"))\n",
    "a=generator(n)\n",
    "l=[]\n",
    "for i in a:\n",
    "    l.append(i)\n",
    "print(*l)"
   ]
  },
  {
   "cell_type": "code",
   "execution_count": 12,
   "id": "068aa7f5",
   "metadata": {},
   "outputs": [
    {
     "name": "stdout",
     "output_type": "stream",
     "text": [
      "Enter a number: 100\n",
      "0 2 4 6 8 10 12 14 16 18 20 22 24 26 28 30 32 34 36 38 40 42 44 46 48 50 52 54 56 58 60 62 64 66 68 70 72 74 76 78 80 82 84 86 88 90 92 94 96 98 100\n"
     ]
    }
   ],
   "source": [
    "# 2\n",
    "\n",
    "def generator(n):\n",
    "    for i in range(0, n+1):\n",
    "        if i % 2==0:\n",
    "            yield i\n",
    "n = int(input(\"Enter a number: \"))\n",
    "a=generator(n)\n",
    "l=[]\n",
    "for i in a:\n",
    "    l.append(i)\n",
    "print(*l)"
   ]
  },
  {
   "cell_type": "code",
   "execution_count": 13,
   "id": "92efdf5c",
   "metadata": {},
   "outputs": [
    {
     "data": {
      "text/plain": [
       "[0, 1, 1, 2, 3, 5, 8]"
      ]
     },
     "execution_count": 13,
     "metadata": {},
     "output_type": "execute_result"
    }
   ],
   "source": [
    "# 3\n",
    "\n",
    "def fibonacci(num):\n",
    "    fib = [0, 1]\n",
    "    for i in range(num-2):\n",
    "        fib.append(fib[-1] + fib[-2])\n",
    "    return fib\n",
    "fibonacci(7)"
   ]
  },
  {
   "cell_type": "code",
   "execution_count": 14,
   "id": "6b4bf401",
   "metadata": {},
   "outputs": [
    {
     "name": "stdout",
     "output_type": "stream",
     "text": [
      "john@google.com\n"
     ]
    },
    {
     "data": {
      "text/plain": [
       "'john'"
      ]
     },
     "execution_count": 14,
     "metadata": {},
     "output_type": "execute_result"
    }
   ],
   "source": [
    "# 4\n",
    "\n",
    "mail=input()\n",
    "mail.split('@')[0]"
   ]
  },
  {
   "cell_type": "code",
   "execution_count": 15,
   "id": "bb832373",
   "metadata": {},
   "outputs": [],
   "source": [
    "# 5\n",
    "\n",
    "class Shape:\n",
    "    def __init__(self):\n",
    "        self.area = 0\n",
    "    def area(self):\n",
    "        print(self.area)\n",
    "\n",
    "class Square(Shape):\n",
    "    def __init__(self, length):\n",
    "        self.length = length\n",
    "        self.area = length * length\n",
    "    def area(self):\n",
    "        print(self.area)"
   ]
  },
  {
   "cell_type": "code",
   "execution_count": null,
   "id": "8e86b7a9",
   "metadata": {},
   "outputs": [],
   "source": []
  }
 ],
 "metadata": {
  "kernelspec": {
   "display_name": "Python 3",
   "language": "python",
   "name": "python3"
  },
  "language_info": {
   "codemirror_mode": {
    "name": "ipython",
    "version": 3
   },
   "file_extension": ".py",
   "mimetype": "text/x-python",
   "name": "python",
   "nbconvert_exporter": "python",
   "pygments_lexer": "ipython3",
   "version": "3.8.8"
  }
 },
 "nbformat": 4,
 "nbformat_minor": 5
}
