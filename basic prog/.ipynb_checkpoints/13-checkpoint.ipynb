{
 "cells": [
  {
   "cell_type": "code",
   "execution_count": 7,
   "id": "f87041b4",
   "metadata": {},
   "outputs": [
    {
     "name": "stdout",
     "output_type": "stream",
     "text": [
      "100,150,180\n",
      "18 22 24\n"
     ]
    }
   ],
   "source": [
    "# 1\n",
    "\n",
    "C=50\n",
    "D=input()\n",
    "H=30\n",
    "o=[]\n",
    "l=D.split(',')\n",
    "for i in l:\n",
    "    o.append(int(((2*C*int(i))/H)**0.5))\n",
    "print(*o)"
   ]
  },
  {
   "cell_type": "code",
   "execution_count": 19,
   "id": "429e58d1",
   "metadata": {},
   "outputs": [
    {
     "name": "stdout",
     "output_type": "stream",
     "text": [
      "Enter X: 3\n",
      "Enter Y: 5\n",
      "[[0, 0, 0, 0, 0], [0, 1, 2, 3, 4], [0, 2, 4, 6, 8]]\n"
     ]
    }
   ],
   "source": [
    "# 2\n",
    "Y = int(input(\"Enter X: \"))\n",
    "X = int(input(\"Enter Y: \"))\n",
    "\n",
    "A = [[0 for i in range(X)] for j in range(Y)]\n",
    "# print(A)\n",
    "for i in range(Y):\n",
    "    for j in range(X):\n",
    "        A[i][j] = i*j\n",
    "print(A)"
   ]
  },
  {
   "cell_type": "code",
   "execution_count": 25,
   "id": "acd4c82e",
   "metadata": {},
   "outputs": [
    {
     "name": "stdout",
     "output_type": "stream",
     "text": [
      "Enter a comma separated sequence of words: without,hello,bag,world\n",
      "bag,hello,without,world\n"
     ]
    }
   ],
   "source": [
    "# 3\n",
    "\n",
    "def main():\n",
    "    words = input(\"Enter a comma separated sequence of words: \")\n",
    "    words = words.split(\",\")\n",
    "    words.sort()\n",
    "    print(\",\".join(words))\n",
    "main()"
   ]
  },
  {
   "cell_type": "code",
   "execution_count": 26,
   "id": "84e0773e",
   "metadata": {},
   "outputs": [
    {
     "name": "stdout",
     "output_type": "stream",
     "text": [
      "Enter a sequence of words: hello world and practice makes perfect and hello world again\n",
      "again and hello makes perfect practice world\n"
     ]
    }
   ],
   "source": [
    "# 4\n",
    "\n",
    "s = input(\"Enter a sequence of words: \")\n",
    "words = s.split()\n",
    "print(\" \".join(sorted(set(words))))"
   ]
  },
  {
   "cell_type": "code",
   "execution_count": 27,
   "id": "1cdd375b",
   "metadata": {},
   "outputs": [
    {
     "data": {
      "text/plain": [
       "(10, 3)"
      ]
     },
     "execution_count": 27,
     "metadata": {},
     "output_type": "execute_result"
    }
   ],
   "source": [
    "# 5\n",
    "def calculate(string):\n",
    "    letters = 0\n",
    "    digits = 0\n",
    "    for i in string:\n",
    "        if i.isalpha():\n",
    "            letters += 1\n",
    "        elif i.isdigit():\n",
    "            digits += 1\n",
    "        else:\n",
    "            pass\n",
    "    return letters, digits\n",
    "calculate('hello world! 123')"
   ]
  },
  {
   "cell_type": "code",
   "execution_count": 30,
   "id": "5b227e3f",
   "metadata": {},
   "outputs": [
    {
     "name": "stdout",
     "output_type": "stream",
     "text": [
      "Enter a password: ABd1234@1,a F1#,2w3E*,2We3345\n",
      "ABd1234@1\n"
     ]
    }
   ],
   "source": [
    "# 6\n",
    "\n",
    "passwd = input('Enter a password: ')\n",
    "passed = passwd.split(',')\n",
    "ans=[]\n",
    "\n",
    "for i in passed:\n",
    "    flags =[False]*5\n",
    "    if len(i)<13 and len(i)>5:\n",
    "        flags[0] = True\n",
    "    for j in i:\n",
    "        if j.islower():\n",
    "            flags[1] = True\n",
    "        if j.isupper():\n",
    "            flags[2] = True\n",
    "        if j.isdigit():\n",
    "            flags[3] = True\n",
    "        if j == '$' or j == '#' or j == '@':\n",
    "            flags[4] = True\n",
    "    if flags[0] and flags[1] and flags[2] and flags[3] and flags[4]:\n",
    "        ans.append(i)\n",
    "print(*ans)\n"
   ]
  },
  {
   "cell_type": "code",
   "execution_count": null,
   "id": "56baa8dd",
   "metadata": {},
   "outputs": [],
   "source": []
  }
 ],
 "metadata": {
  "kernelspec": {
   "display_name": "Python 3",
   "language": "python",
   "name": "python3"
  },
  "language_info": {
   "codemirror_mode": {
    "name": "ipython",
    "version": 3
   },
   "file_extension": ".py",
   "mimetype": "text/x-python",
   "name": "python",
   "nbconvert_exporter": "python",
   "pygments_lexer": "ipython3",
   "version": "3.8.8"
  }
 },
 "nbformat": 4,
 "nbformat_minor": 5
}
