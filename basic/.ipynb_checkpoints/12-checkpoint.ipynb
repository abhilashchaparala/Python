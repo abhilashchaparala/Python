{
 "cells": [
  {
   "cell_type": "markdown",
   "id": "28dd9f73",
   "metadata": {},
   "source": [
    "1. In what modes should the PdfFileReader() and PdfFileWriter() File objects will be opened?\n",
    "2. From a PdfFileReader object, how do you get a Page object for page 5?\n",
    "3. What PdfFileReader variable stores the number of pages in the PDF document?\n",
    "4. If a PdfFileReader object’s PDF is encrypted with the password swordfish, what must you do before you can obtain Page objects from it?\n",
    "5. What methods do you use to rotate a page?\n",
    "6. What is the difference between a Run object and a Paragraph object?\n",
    "7. How do you obtain a list of Paragraph objects for a Document object that’s stored in a variable named doc?\n",
    "8. What type of object has bold, underline, italic, strike, and outline variables?\n",
    "9. What is the difference between False, True, and None for the bold variable?\n",
    "10. How do you create a Document object for a new Word document?\n",
    "11. How do you add a paragraph with the text 'Hello, there!' to a Document object stored in a variable named doc?\n",
    "12. What integers represent the levels of headings available in Word documents?\n"
   ]
  },
  {
   "cell_type": "markdown",
   "id": "9ae7133f",
   "metadata": {},
   "source": [
    "1.\n",
    "\n",
    "read mode \n",
    "write mode respectively"
   ]
  },
  {
   "cell_type": "markdown",
   "id": "583a2f57",
   "metadata": {},
   "source": [
    "2.\n",
    "\n",
    "PdfFileReaderObject.getPage(<pagenumber>)"
   ]
  },
  {
   "cell_type": "markdown",
   "id": "93dac437",
   "metadata": {},
   "source": [
    "3.\n",
    "\n",
    "numPages attribute "
   ]
  },
  {
   "cell_type": "markdown",
   "id": "a1879a8b",
   "metadata": {},
   "source": [
    "4.\n",
    "\n",
    "pdfReader.decrypt('swordfish')"
   ]
  },
  {
   "cell_type": "markdown",
   "id": "5ada3c7a",
   "metadata": {},
   "source": [
    "5.\n",
    "\n",
    "page.rotateClockwise(90)\n",
    "page.rotateAntiClockwise(90)"
   ]
  },
  {
   "cell_type": "markdown",
   "id": "db620a2c",
   "metadata": {},
   "source": [
    "6.\n",
    "\n",
    "documet object contains list of paragraph objects\n",
    "each of these paragraph objects contain one or more run objects"
   ]
  },
  {
   "cell_type": "markdown",
   "id": "75f80f0a",
   "metadata": {},
   "source": [
    "7.\n",
    "\n",
    "import docx\n",
    "doc = docx.Document('demo.docx')\n",
    "doc.paragraphs[0].text"
   ]
  },
  {
   "cell_type": "markdown",
   "id": "d09bc637",
   "metadata": {},
   "source": [
    "8.\n",
    "\n",
    "Run object"
   ]
  },
  {
   "cell_type": "markdown",
   "id": "beeab4bb",
   "metadata": {},
   "source": [
    "9.\n",
    "\n",
    "True always makes the Run object bolded\n",
    "False makes it always not bolded\n",
    "None will make the Run object just use the style's bold setting"
   ]
  },
  {
   "cell_type": "markdown",
   "id": "e08487fe",
   "metadata": {},
   "source": [
    "10.\n",
    "\n",
    "docx.Document()"
   ]
  },
  {
   "cell_type": "markdown",
   "id": "a1aaec1f",
   "metadata": {},
   "source": [
    "11.\n",
    "\n",
    "doc.add_paragraph('Hello there!')"
   ]
  },
  {
   "cell_type": "markdown",
   "id": "0482f5be",
   "metadata": {},
   "source": [
    "12.\n",
    "\n",
    "1,2,3,4"
   ]
  }
 ],
 "metadata": {
  "kernelspec": {
   "display_name": "Python 3",
   "language": "python",
   "name": "python3"
  },
  "language_info": {
   "codemirror_mode": {
    "name": "ipython",
    "version": 3
   },
   "file_extension": ".py",
   "mimetype": "text/x-python",
   "name": "python",
   "nbconvert_exporter": "python",
   "pygments_lexer": "ipython3",
   "version": "3.8.8"
  }
 },
 "nbformat": 4,
 "nbformat_minor": 5
}
