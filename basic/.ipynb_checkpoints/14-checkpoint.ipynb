{
 "cells": [
  {
   "cell_type": "raw",
   "id": "a96e4585",
   "metadata": {},
   "source": [
    "1. What does RGBA stand for?\n",
    "2. From the Pillow module, how do you get the RGBA value of any images?\n",
    "3. What is a box tuple, and how does it work?\n",
    "4. Use your image and load in notebook then, How can you find out the width and height of an Image object?\n",
    "5. What method would you call to get Image object for a 100×100 image, excluding the lower-left quarter of it?\n",
    "6. After making changes to an Image object, how could you save it as an image file?\n",
    "7. What module contains Pillow’s shape-drawing code?\n",
    "8. Image objects do not have drawing methods. What kind of object does? How do you get this kind of object?\n"
   ]
  },
  {
   "cell_type": "raw",
   "id": "4a8ed315",
   "metadata": {},
   "source": [
    "1.\n",
    "\n",
    "Red Green Blue Alpha"
   ]
  },
  {
   "cell_type": "raw",
   "id": "b8a8c583",
   "metadata": {},
   "source": [
    "2.\n",
    "\n",
    "img = Image.open(‘image.png’)\n",
    "rgba = img.convert(“RGBA”)\n",
    "datas = rgba.getdata()"
   ]
  },
  {
   "cell_type": "raw",
   "id": "f474086e",
   "metadata": {},
   "source": [
    "3.\n",
    "\n",
    "The box.tuple submodule provides read-only access for the tuple userdata type. It allows, for a single tuple: selective retrieval of the field contents, retrieval of information about size, iteration over all the fields, and conversion to a Lua table."
   ]
  },
  {
   "cell_type": "raw",
   "id": "665ba3ac",
   "metadata": {},
   "source": [
    "4.\n",
    "\n",
    "from IPython.display import Image\n",
    "a=Image(filename = \"img1.png\")\n"
   ]
  },
  {
   "cell_type": "raw",
   "id": "5dd6e0de",
   "metadata": {},
   "source": [
    "6.\n",
    "\n",
    "imageObj.save('file_name.png')"
   ]
  },
  {
   "cell_type": "raw",
   "id": "1e2660a0",
   "metadata": {},
   "source": [
    "7.\n",
    "\n",
    "ImageDraw module contains code to draw on image"
   ]
  },
  {
   "cell_type": "raw",
   "id": "ddea1e83",
   "metadata": {},
   "source": []
  }
 ],
 "metadata": {
  "kernelspec": {
   "display_name": "Python 3",
   "language": "python",
   "name": "python3"
  },
  "language_info": {
   "codemirror_mode": {
    "name": "ipython",
    "version": 3
   },
   "file_extension": ".py",
   "mimetype": "text/x-python",
   "name": "python",
   "nbconvert_exporter": "python",
   "pygments_lexer": "ipython3",
   "version": "3.8.8"
  }
 },
 "nbformat": 4,
 "nbformat_minor": 5
}
