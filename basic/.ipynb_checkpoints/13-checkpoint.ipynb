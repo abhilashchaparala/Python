{
 "cells": [
  {
   "cell_type": "markdown",
   "id": "7b7e716a",
   "metadata": {},
   "source": [
    "1. What advantages do Excel spreadsheets have over CSV spreadsheets?\n",
    "2.What do you pass to csv.reader() and csv.writer() to create reader and writer objects?\n",
    "3. What modes do File objects for reader and writer objects need to be opened in?\n",
    "4. What method takes a list argument and writes it to a CSV file?\n",
    "5. What do the keyword arguments delimiter and line terminator do?\n",
    "6. What function takes a string of JSON data and returns a Python data structure?\n",
    "7. What function takes a Python data structure and returns a string of JSON data?\n"
   ]
  },
  {
   "cell_type": "markdown",
   "id": "172270ad",
   "metadata": {},
   "source": [
    "1.\n",
    "\n",
    "In Excel, spreadsheets can have values of data types other than strings;\n",
    "cells can have different fonts, sizes, or color settings;\n",
    "cells can have varying widths and heights;\n",
    "adjacent cells can be merged;\n",
    "and you can embed images and charts."
   ]
  },
  {
   "cell_type": "markdown",
   "id": "7c6506aa",
   "metadata": {},
   "source": [
    "2.\n",
    "\n",
    "file object"
   ]
  },
  {
   "cell_type": "markdown",
   "id": "ba199584",
   "metadata": {},
   "source": [
    "3.\n",
    "\n",
    "read-binary\n",
    "write-binry"
   ]
  },
  {
   "cell_type": "markdown",
   "id": "2a81276a",
   "metadata": {},
   "source": [
    "4.\n",
    "\n",
    "writerow()"
   ]
  },
  {
   "cell_type": "markdown",
   "id": "99c67f3f",
   "metadata": {},
   "source": [
    "5.\n",
    "\n",
    "delimiter argument changes the string used to separate cells in a row. The lineterminator argument changes the string used to separate rows"
   ]
  },
  {
   "cell_type": "markdown",
   "id": "e20f0794",
   "metadata": {},
   "source": [
    "6.\n",
    "\n",
    "json.load()"
   ]
  },
  {
   "cell_type": "markdown",
   "id": "13da8513",
   "metadata": {},
   "source": [
    "7.\n",
    "\n",
    "json.dumps()"
   ]
  },
  {
   "cell_type": "code",
   "execution_count": null,
   "id": "982f9320",
   "metadata": {},
   "outputs": [],
   "source": []
  }
 ],
 "metadata": {
  "kernelspec": {
   "display_name": "Python 3",
   "language": "python",
   "name": "python3"
  },
  "language_info": {
   "codemirror_mode": {
    "name": "ipython",
    "version": 3
   },
   "file_extension": ".py",
   "mimetype": "text/x-python",
   "name": "python",
   "nbconvert_exporter": "python",
   "pygments_lexer": "ipython3",
   "version": "3.8.8"
  }
 },
 "nbformat": 4,
 "nbformat_minor": 5
}
