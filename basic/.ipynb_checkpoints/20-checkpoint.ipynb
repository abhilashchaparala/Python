{
 "cells": [
  {
   "cell_type": "markdown",
   "id": "3975aea5",
   "metadata": {},
   "source": [
    "1. Set the variable test1 to the string 'This is a test of the emergency text system,' and save test1 to a file named test.txt.\n",
    "2. Read the contents of the file test.txt into the variable test2. Is there a difference between test 1 and test 2?\n",
    "3. Create a CSV file called books.csv by using these lines:\n",
    "title,author,year\n",
    "The Weirdstone of Brisingamen,Alan Garner,1960\n",
    "Perdido Street Station,China Miéville,2000\n",
    "Thud!,Terry Pratchett,2005\n",
    "The Spellman Files,Lisa Lutz,2007\n",
    "Small Gods,Terry Pratchett,1992\n",
    "4. Use the sqlite3 module to create a SQLite database called books.db, and a table called books with these fields: title (text), author (text), and year (integer).\n",
    "5. Read books.csv and insert its data into the book table.\n",
    "6. Select and print the title column from the book table in alphabetical order.\n",
    "7. From the book table, select and print all columns in the order of publication.\n",
    "8. Use the sqlalchemy module to connect to the sqlite3 database books.db that you just made in exercise 6.\n",
    "9. Install the Redis server and the Python redis library (pip install redis) on your computer. Create a Redis hash called test with the fields count (1) and name ('Fester Bestertester'). Print all the fields for test.\n",
    "10. Increment the count field of test and print it.\n"
   ]
  },
  {
   "cell_type": "code",
   "execution_count": 2,
   "id": "3663c6fa",
   "metadata": {},
   "outputs": [],
   "source": [
    "1.\n",
    "\n",
    "test1 = 'This is a test of the emergency text system,'\n",
    "f = open(\"test.txt\", \"w\")\n",
    "f.write(test1)\n",
    "f.close()"
   ]
  },
  {
   "cell_type": "code",
   "execution_count": 3,
   "id": "45e7212b",
   "metadata": {},
   "outputs": [
    {
     "data": {
      "text/plain": [
       "'This is a test of the emergency text system,'"
      ]
     },
     "execution_count": 3,
     "metadata": {},
     "output_type": "execute_result"
    }
   ],
   "source": [
    "2.\n",
    "\n",
    "f = open(\"test.txt\", \"r\")\n",
    "f.read()\n",
    "f.close()"
   ]
  },
  {
   "cell_type": "code",
   "execution_count": 9,
   "id": "497a6a7a",
   "metadata": {},
   "outputs": [],
   "source": [
    "3.\n",
    "\n",
    "import csv\n",
    "with open ('books.csv',mode='w') as file:\n",
    "    wirter = csv.writer(file, delimiter=',')\n",
    "    wirter.writerow(['title','author','year'])\n",
    "    wirter.writerow(['The Weirdstone of Brisingamen','Alan Garner',1960])\n",
    "    wirter.writerow(['Perdido Street Station','China Miéville',2000])\n",
    "    wirter.writerow(['Thud!','Terry Pratchett',2005])\n",
    "    wirter.writerow(['The Spellman Files','Lisa Lutz',2007])\n",
    "    wirter.writerow(['Small Gods','Terry Pratchett',1992])"
   ]
  },
  {
   "cell_type": "code",
   "execution_count": 10,
   "id": "f15ff1ed",
   "metadata": {},
   "outputs": [
    {
     "data": {
      "text/plain": [
       "<sqlite3.Cursor at 0x7fd93f4506c0>"
      ]
     },
     "execution_count": 10,
     "metadata": {},
     "output_type": "execute_result"
    }
   ],
   "source": [
    "4.\n",
    "\n",
    "import sqlite3\n",
    "connection = sqlite3.connect('books.db')\n",
    "cur=connection.cursor()\n",
    "cur.execute('''create table books (title text,author text,year int)''')"
   ]
  },
  {
   "cell_type": "code",
   "execution_count": 18,
   "id": "c0c01e61",
   "metadata": {},
   "outputs": [],
   "source": [
    "5.\n",
    "\n",
    "with open('books.csv',mode='r') as file:\n",
    "    for i in file.readlines():\n",
    "        a,b,c=i.split(',')\n",
    "        cur.execute(\"insert into books values (?,?,?)\",(a,b,c))"
   ]
  },
  {
   "cell_type": "code",
   "execution_count": 22,
   "id": "41e014fe",
   "metadata": {},
   "outputs": [
    {
     "name": "stdout",
     "output_type": "stream",
     "text": [
      "[('Perdido Street Station',), ('Small Gods',), ('The Spellman Files',), ('The Weirdstone of Brisingamen',), ('Thud!',), ('title',)] "
     ]
    }
   ],
   "source": [
    "6.\n",
    "\n",
    "cur.execute('''select title from books order by title''')\n",
    "print(cur.fetchall())"
   ]
  },
  {
   "cell_type": "code",
   "execution_count": 26,
   "id": "cfe27194",
   "metadata": {},
   "outputs": [
    {
     "name": "stdout",
     "output_type": "stream",
     "text": [
      "[('The Weirdstone of Brisingamen',), ('Small Gods',), ('Perdido Street Station',), ('Thud!',), ('The Spellman Files',), ('title',)]\n"
     ]
    }
   ],
   "source": [
    "7.\n",
    "\n",
    "cur.execute('''select title from books order by year''')\n",
    "print(cur.fetchall())\n",
    "cur.close()"
   ]
  },
  {
   "cell_type": "code",
   "execution_count": 29,
   "id": "703c6747",
   "metadata": {},
   "outputs": [],
   "source": [
    "8.\n",
    "\n",
    "import sqlalchemy\n",
    "from sqlalchemy import create_engine, MetaData, Table, Column, Integer, String\n",
    "engine = create_engine('sqlite:///books.db', echo = True)\n",
    "meta = MetaData()\n"
   ]
  },
  {
   "cell_type": "code",
   "execution_count": 45,
   "id": "ba35cf4e",
   "metadata": {},
   "outputs": [
    {
     "name": "stdout",
     "output_type": "stream",
     "text": [
      "{b'count': b'1', b'name': b'Fester Bestertester'}\n"
     ]
    }
   ],
   "source": [
    "9.\n",
    "\n",
    "import redis\n",
    "redisClient = redis.StrictRedis(host='localhost',port=6379,db=0)\n",
    "redisClient.hset('test','count',1)\n",
    "redisClient.hset('test','name','Fester Bestertester')\n",
    "print(redisClient.hgetall('test'))\n"
   ]
  },
  {
   "cell_type": "code",
   "execution_count": 46,
   "id": "b8de4c53",
   "metadata": {},
   "outputs": [
    {
     "data": {
      "text/plain": [
       "{b'count': b'2', b'name': b'Fester Bestertester'}"
      ]
     },
     "execution_count": 46,
     "metadata": {},
     "output_type": "execute_result"
    }
   ],
   "source": [
    "10.\n",
    "\n",
    "redisClient.hincrby('test','count',1)\n",
    "redisClient.hgetall('test')"
   ]
  }
 ],
 "metadata": {
  "kernelspec": {
   "display_name": "Python 3",
   "language": "python",
   "name": "python3"
  },
  "language_info": {
   "codemirror_mode": {
    "name": "ipython",
    "version": 3
   },
   "file_extension": ".py",
   "mimetype": "text/x-python",
   "name": "python",
   "nbconvert_exporter": "python",
   "pygments_lexer": "ipython3",
   "version": "3.8.8"
  }
 },
 "nbformat": 4,
 "nbformat_minor": 5
}
