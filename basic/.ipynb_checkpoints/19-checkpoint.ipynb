{
 "cells": [
  {
   "cell_type": "markdown",
   "id": "929991e4",
   "metadata": {},
   "source": [
    "1. Make a class called Thing with no contents and print it. Then, create an object called example from this class and also print it. Are the printed values the same or different?\n",
    "2. Create a new class called Thing2 and add the value 'abc' to the letters class attribute. Letters should be printed.\n",
    "3. Make yet another class called, of course, Thing3. This time, assign the value 'xyz' to an instance (object) attribute called letters. Print letters. Do you need to make an object from the class to do this?\n",
    "4. Create an Element class with the instance attributes name, symbol, and number. Create a class object with the values 'Hydrogen,' 'H,' and 1.\n",
    "5. Make a dictionary with these keys and values: 'name': 'Hydrogen', 'symbol': 'H', 'number': 1. Then, create an object called hydrogen from class Element using this dictionary.\n",
    "6. For the Element class, define a method called dump() that prints the values of the object’s attributes (name, symbol, and number). Create the hydrogen object from this new definition and use dump() to print its attributes.\n",
    "7. Call print(hydrogen). In the definition of Element, change the name of method dump to __str__, create a new hydrogen object, and call print(hydrogen) again.\n",
    "8. Modify Element to make the attributes name, symbol, and number private. Define a getter property for each to return its value.\n",
    "9. Define three classes: Bear, Rabbit, and Octothorpe. For each, define only one method: eats(). This should return 'berries' (Bear), 'clover' (Rabbit), or 'campers' (Octothorpe). Create one object from each and print what it eats.\n",
    "10. Define these classes: Laser, Claw, and SmartPhone. Each has only one method: does(). This returns 'disintegrate' (Laser), 'crush' (Claw), or 'ring' (SmartPhone). Then, define the class Robot that has one instance (object) of each of these. Define a does() method for the Robot that prints what its component objects do.\n"
   ]
  },
  {
   "cell_type": "code",
   "execution_count": 12,
   "id": "f292b10d",
   "metadata": {},
   "outputs": [
    {
     "name": "stdout",
     "output_type": "stream",
     "text": [
      "<__main__.Thing object at 0x7fb81354f3a0>\n",
      "<class '__main__.Thing'>\n"
     ]
    }
   ],
   "source": [
    "1.\n",
    "\n",
    "class Thing:\n",
    "    def __init__(self):\n",
    "        return None\n",
    "example = Thing()\n",
    "print(example)\n",
    "print(Thing)\n",
    "#no"
   ]
  },
  {
   "cell_type": "code",
   "execution_count": 20,
   "id": "a2c04ec2",
   "metadata": {},
   "outputs": [],
   "source": [
    "2.\n",
    "\n",
    "class Thing2:\n",
    "    def __init__(self,letters):\n",
    "        print(letters)\n"
   ]
  },
  {
   "cell_type": "code",
   "execution_count": 24,
   "id": "3d9cfcf0",
   "metadata": {},
   "outputs": [
    {
     "name": "stdout",
     "output_type": "stream",
     "text": [
      "xyz\n",
      "xyz\n"
     ]
    },
    {
     "data": {
      "text/plain": [
       "<__main__.Thing3 at 0x7fb81354fe20>"
      ]
     },
     "execution_count": 24,
     "metadata": {},
     "output_type": "execute_result"
    }
   ],
   "source": [
    "3.\n",
    "\n",
    "class Thing3:\n",
    "    def __init__(self,letters):\n",
    "        print(letters)\n",
    "obj = Thing3('xyz')\n",
    "Thing3('xyz')\n",
    "#no"
   ]
  },
  {
   "cell_type": "code",
   "execution_count": 27,
   "id": "57d02509",
   "metadata": {},
   "outputs": [],
   "source": [
    "4.\n",
    "\n",
    "class Element:\n",
    "    def __init__(self,name, symbol,number):\n",
    "        return None\n",
    "obj = instance('hydrogen','H',1)"
   ]
  },
  {
   "cell_type": "code",
   "execution_count": 28,
   "id": "4b22d65b",
   "metadata": {},
   "outputs": [],
   "source": [
    "5.\n",
    "\n",
    "dic = {'name': 'Hydrogen', 'symbol': 'H', 'number': 1}\n",
    "hydrogen = Element(dic['name'],dic['symbol'],dic['number'])"
   ]
  },
  {
   "cell_type": "code",
   "execution_count": 50,
   "id": "ff332c77",
   "metadata": {},
   "outputs": [
    {
     "name": "stdout",
     "output_type": "stream",
     "text": [
      "hydrogen\n",
      "H\n",
      "1\n"
     ]
    }
   ],
   "source": [
    "6.\n",
    "\n",
    "class Element:\n",
    "    def __init__(self,name, symbol,number):\n",
    "        self.name=name\n",
    "        self.symbol=symbol\n",
    "        self.number=number\n",
    "    def dump(self):\n",
    "        print(self.name)\n",
    "        print(self.symbol)\n",
    "        print(self.number)\n",
    "hydrogen = Element('hydrogen','H',1)\n",
    "hydrogen.dump()\n",
    "# print(hydrogen)"
   ]
  },
  {
   "cell_type": "code",
   "execution_count": 51,
   "id": "5d86b832",
   "metadata": {},
   "outputs": [
    {
     "name": "stdout",
     "output_type": "stream",
     "text": [
      "<__main__.Element object at 0x7fb81354f700>\n",
      "hydrogen\n",
      "H\n",
      "1\n"
     ]
    },
    {
     "ename": "TypeError",
     "evalue": "__str__ returned non-string (type NoneType)",
     "output_type": "error",
     "traceback": [
      "\u001b[0;31m---------------------------------------------------------------------------\u001b[0m",
      "\u001b[0;31mTypeError\u001b[0m                                 Traceback (most recent call last)",
      "\u001b[0;32m<ipython-input-51-aaee4e34c63b>\u001b[0m in \u001b[0;36m<module>\u001b[0;34m\u001b[0m\n\u001b[1;32m     12\u001b[0m         \u001b[0mprint\u001b[0m\u001b[0;34m(\u001b[0m\u001b[0mself\u001b[0m\u001b[0;34m.\u001b[0m\u001b[0mnumber\u001b[0m\u001b[0;34m)\u001b[0m\u001b[0;34m\u001b[0m\u001b[0;34m\u001b[0m\u001b[0m\n\u001b[1;32m     13\u001b[0m \u001b[0mhydrogen\u001b[0m \u001b[0;34m=\u001b[0m \u001b[0mElement\u001b[0m\u001b[0;34m(\u001b[0m\u001b[0;34m'hydrogen'\u001b[0m\u001b[0;34m,\u001b[0m\u001b[0;34m'H'\u001b[0m\u001b[0;34m,\u001b[0m\u001b[0;34m'1'\u001b[0m\u001b[0;34m)\u001b[0m\u001b[0;34m\u001b[0m\u001b[0;34m\u001b[0m\u001b[0m\n\u001b[0;32m---> 14\u001b[0;31m \u001b[0mprint\u001b[0m\u001b[0;34m(\u001b[0m\u001b[0mhydrogen\u001b[0m\u001b[0;34m)\u001b[0m\u001b[0;34m\u001b[0m\u001b[0;34m\u001b[0m\u001b[0m\n\u001b[0m",
      "\u001b[0;31mTypeError\u001b[0m: __str__ returned non-string (type NoneType)"
     ]
    }
   ],
   "source": [
    "7.\n",
    "\n",
    "print(hydrogen)\n",
    "class Element:\n",
    "    def __init__(self,name, symbol,number):\n",
    "        self.name=name\n",
    "        self.symbol=symbol\n",
    "        self.number=number\n",
    "    def __str__(self):\n",
    "        print(self.name)\n",
    "        print(self.symbol)\n",
    "        print(self.number)\n",
    "hydrogen = Element('hydrogen','H','1')\n",
    "print(hydrogen)"
   ]
  },
  {
   "cell_type": "code",
   "execution_count": 57,
   "id": "6e03988d",
   "metadata": {},
   "outputs": [
    {
     "name": "stdout",
     "output_type": "stream",
     "text": [
      "abhi\n",
      "ab\n",
      "1\n"
     ]
    }
   ],
   "source": [
    "8.\n",
    "\n",
    "class Element:\n",
    "    def __init__(self,name, symbol,number):\n",
    "        self.name=name\n",
    "        self.symbol=symbol\n",
    "        self.__number=number\n",
    "    def getter(self):\n",
    "        print(self.name)\n",
    "        print(self.symbol)\n",
    "        print(self.__number)\n",
    "a=Element('abhi','ab',1)\n",
    "a.getter()"
   ]
  },
  {
   "cell_type": "code",
   "execution_count": 59,
   "id": "6b12f0d1",
   "metadata": {},
   "outputs": [
    {
     "name": "stdout",
     "output_type": "stream",
     "text": [
      "disintegrate\n",
      "crush\n",
      "ring\n"
     ]
    }
   ],
   "source": [
    "# 10. Define these classes: Laser, Claw, and SmartPhone. Each has only one method: does(). This returns 'disintegrate' (Laser), 'crush' (Claw), or 'ring' (SmartPhone). Then, define the class Robot that has one instance (object) of each of these. Define a does() method for the Robot that prints what its component objects do.\n",
    "\n",
    "class Laser:\n",
    "    def does():\n",
    "        return 'disintegrate'\n",
    "class Claw:\n",
    "    def does():\n",
    "        return 'crush'\n",
    "class SmartPhone:\n",
    "    def does():\n",
    "        return 'ring'\n",
    "class robot:\n",
    "    def __init__(self,robot,claw,smartphone):\n",
    "        self.robot=robot\n",
    "        self.claw=claw\n",
    "        self.smartphone=smartphone\n",
    "    def does(self):\n",
    "        print(self.robot)\n",
    "        print(self.claw)\n",
    "        print(self.smartphone)\n",
    "a=robot(Laser.does(),Claw.does(),SmartPhone.does())\n",
    "a.does()      "
   ]
  },
  {
   "cell_type": "code",
   "execution_count": null,
   "id": "77ff0b99",
   "metadata": {},
   "outputs": [],
   "source": []
  }
 ],
 "metadata": {
  "kernelspec": {
   "display_name": "Python 3",
   "language": "python",
   "name": "python3"
  },
  "language_info": {
   "codemirror_mode": {
    "name": "ipython",
    "version": 3
   },
   "file_extension": ".py",
   "mimetype": "text/x-python",
   "name": "python",
   "nbconvert_exporter": "python",
   "pygments_lexer": "ipython3",
   "version": "3.8.8"
  }
 },
 "nbformat": 4,
 "nbformat_minor": 5
}
