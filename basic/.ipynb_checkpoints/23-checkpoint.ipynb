{
 "cells": [
  {
   "cell_type": "raw",
   "id": "3b3853bd",
   "metadata": {},
   "source": [
    "1. What is the result of the code, and why?\n",
    ">>> def func(a, b=6, c=8):\n",
    "print(a, b, c)\n",
    ">>> func(1, 2)\n",
    "2. What is the result of this code, and why?\n",
    ">>> def func(a, b, c=5):\n",
    "print(a, b, c)\n",
    ">>> func(1, c=3, b=2)\n",
    "3. How about this code: what is its result, and why?\n",
    ">>> def func(a, *pargs):\n",
    "print(a, pargs)\n",
    ">>> func(1, 2, 3)\n",
    "4. What does this code print, and why?\n",
    ">>> def func(a, **kargs):\n",
    "print(a, kargs)\n",
    ">>> func(a=1, c=3, b=2)\n",
    "5. What gets printed by this, and explain?\n",
    ">>> def func(a, b, c=8, d=5): print(a, b, c, d)\n",
    ">>> func(1, *(5, 6))\n",
    "6. what is the result of this, and explain?\n",
    ">>> def func(a, b, c): a = 2; b[0] = 'x'; c['a'] = 'y'\n",
    ">>> l=1; m=[1]; n={'a':0}\n",
    ">>> func(l, m, n)\n",
    ">>> l, m, n\n"
   ]
  },
  {
   "cell_type": "raw",
   "id": "a404c813",
   "metadata": {},
   "source": [
    "1.\n",
    "\n",
    "1 2 8\n",
    "a is assigned with 1\n",
    "b is overwrited with 2 as it is in that position when calling the function\n",
    "c is declared with default value 8"
   ]
  },
  {
   "cell_type": "raw",
   "id": "65915273",
   "metadata": {},
   "source": [
    "2.\n",
    "\n",
    "1 2 3\n",
    "a is assigned with 1\n",
    "b is over written with 2 and c with 3\n",
    "here the position in function call is not important as we explicitly mentiond teh varibale names in the function "
   ]
  },
  {
   "cell_type": "raw",
   "id": "71210aa9",
   "metadata": {},
   "source": [
    "3.\n",
    "\n",
    "1 (2, 3)\n",
    "\n",
    "*pargs is an args argument which can hold any number of variables passed into the function.\n",
    "in this case a is 1 as it is passed as first position and 2,3 are as pargs"
   ]
  },
  {
   "cell_type": "raw",
   "id": "26f7bacc",
   "metadata": {},
   "source": [
    "4.\n",
    "\n",
    "1 {'c': 3, 'b': 2}\n",
    "\n",
    "as a is present in function arguments and function declaration it gets assigned\n",
    "in the case of c and b as they are not present in function declaration they are taken as **kargs\n",
    "**kargs takes as key value pair so they are in dictionary format"
   ]
  },
  {
   "cell_type": "code",
   "execution_count": 13,
   "id": "fcb363be",
   "metadata": {},
   "outputs": [
    {
     "name": "stdout",
     "output_type": "stream",
     "text": [
      "1 5 6 5\n"
     ]
    }
   ],
   "source": [
    "5.\n",
    "\n",
    "def func(a, b, c=8, d=5): print(a, b, c, d)\n",
    "func(1, *(5, 6))"
   ]
  },
  {
   "cell_type": "code",
   "execution_count": 14,
   "id": "6b410f14",
   "metadata": {},
   "outputs": [
    {
     "data": {
      "text/plain": [
       "(1, ['x'], {'a': 'y'})"
      ]
     },
     "execution_count": 14,
     "metadata": {},
     "output_type": "execute_result"
    }
   ],
   "source": [
    "6.\n",
    "\n",
    "def func(a, b, c): a = 2; b[0] = 'x'; c['a'] = 'y'\n",
    "l=1; m=[1]; n={'a':0}\n",
    "func(l, m, n)\n",
    "l, m, n\n"
   ]
  },
  {
   "cell_type": "code",
   "execution_count": null,
   "id": "6625ad1f",
   "metadata": {},
   "outputs": [],
   "source": []
  }
 ],
 "metadata": {
  "kernelspec": {
   "display_name": "Python 3",
   "language": "python",
   "name": "python3"
  },
  "language_info": {
   "codemirror_mode": {
    "name": "ipython",
    "version": 3
   },
   "file_extension": ".py",
   "mimetype": "text/x-python",
   "name": "python",
   "nbconvert_exporter": "python",
   "pygments_lexer": "ipython3",
   "version": "3.8.8"
  }
 },
 "nbformat": 4,
 "nbformat_minor": 5
}
