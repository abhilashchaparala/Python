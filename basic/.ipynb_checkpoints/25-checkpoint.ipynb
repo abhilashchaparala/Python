{
 "cells": [
  {
   "cell_type": "markdown",
   "id": "e700fd66",
   "metadata": {},
   "source": [
    "1) What is the difference between enclosing a list comprehension in square brackets and parentheses?\n",
    "\n",
    "2) What is the relationship between generators and iterators?\n",
    "\n",
    "3) What are the signs that a function is a generator function?\n",
    "\n",
    "4) What is the purpose of a yield statement?\n",
    "\n",
    "5) What is the relationship between map calls and list comprehensions? Make a comparison and contrast between the two.\n"
   ]
  },
  {
   "cell_type": "markdown",
   "id": "b6e7dc8a",
   "metadata": {},
   "source": [
    "1.\n",
    "\n",
    " square brackets are list, they are mutable\n",
    " \n",
    " parantheses are tuples, thay are immutable"
   ]
  },
  {
   "cell_type": "markdown",
   "id": "4362eb6c",
   "metadata": {},
   "source": [
    "2.\n",
    "\n",
    "generators are used to create iterators. we use yeild keyword in generator.\n",
    "\n",
    "iterators are sub class of generators\n",
    "\n",
    "### diff\n",
    "iter() is used to create iterator. next keyword is used to iterate.\n",
    "to create iterator we use iter keyword, to create generator we use function with yeild keyword\n",
    "generator is fast and compact in python\n",
    "iterator is slow but memory efficient"
   ]
  },
  {
   "cell_type": "markdown",
   "id": "2eba1ca6",
   "metadata": {},
   "source": [
    "3.\n",
    "\n",
    "there will be an yeild instead of return"
   ]
  },
  {
   "cell_type": "markdown",
   "id": "5176c698",
   "metadata": {},
   "source": [
    "4.\n",
    "\n",
    "yelid will be saving the local variables value.\n",
    "It is used to return from a function without destroying the states of its local variable"
   ]
  },
  {
   "cell_type": "markdown",
   "id": "f08212ea",
   "metadata": {},
   "source": [
    "5.\n",
    "\n",
    "List comprehension is more concise and easier to read as compared to map.\n",
    "\n",
    "List comprehension are used when a list of results is required as map only returns a map object and does not return any list\n",
    "\n",
    "List comprehension allows filtering. Map doesn't have such facility. "
   ]
  },
  {
   "cell_type": "code",
   "execution_count": null,
   "id": "cfdd2f83",
   "metadata": {},
   "outputs": [],
   "source": []
  }
 ],
 "metadata": {
  "kernelspec": {
   "display_name": "Python 3",
   "language": "python",
   "name": "python3"
  },
  "language_info": {
   "codemirror_mode": {
    "name": "ipython",
    "version": 3
   },
   "file_extension": ".py",
   "mimetype": "text/x-python",
   "name": "python",
   "nbconvert_exporter": "python",
   "pygments_lexer": "ipython3",
   "version": "3.8.8"
  }
 },
 "nbformat": 4,
 "nbformat_minor": 5
}
