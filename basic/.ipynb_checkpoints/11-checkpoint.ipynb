{
 "cells": [
  {
   "cell_type": "markdown",
   "id": "45e9dc26",
   "metadata": {},
   "source": [
    "1. Create an assert statement that throws an AssertionError if the variable spam is a negative integer.\n",
    "2. Write an assert statement that triggers an AssertionError if the variables eggs and bacon contain strings that are the same as each other, even if their cases are different (that is, 'hello' and 'hello' are considered the same, and 'goodbye' and 'GOODbye' are also considered the same).\n",
    "3. Create an assert statement that throws an AssertionError every time.\n",
    "4. What are the two lines that must be present in your software in order to call logging.debug()?\n",
    "5. What are the two lines that your program must have in order to have logging.debug() send a logging message to a file named programLog.txt?\n",
    "6. What are the five levels of logging?\n",
    "7. What line of code would you add to your software to disable all logging messages?\n",
    "8.Why is using logging messages better than using print() to display the same message?\n",
    "9. What are the differences between the Step Over, Step In, and Step Out buttons in the debugger?\n",
    "10.After you click Continue, when will the debugger stop ?\n",
    "11. What is the concept of a breakpoint?\n"
   ]
  },
  {
   "cell_type": "markdown",
   "id": "f6bcc5d7",
   "metadata": {},
   "source": [
    "1\n",
    "\n",
    "\n",
    "spam = -1\n",
    "assert spam>=0"
   ]
  },
  {
   "cell_type": "code",
   "execution_count": 2,
   "id": "ece57656",
   "metadata": {},
   "outputs": [
    {
     "ename": "AssertionError",
     "evalue": "",
     "output_type": "error",
     "traceback": [
      "\u001b[0;31m---------------------------------------------------------------------------\u001b[0m",
      "\u001b[0;31mAssertionError\u001b[0m                            Traceback (most recent call last)",
      "\u001b[0;32m<ipython-input-2-5ebcb13ed168>\u001b[0m in \u001b[0;36m<module>\u001b[0;34m\u001b[0m\n\u001b[1;32m      2\u001b[0m \u001b[0meggs\u001b[0m \u001b[0;34m=\u001b[0m \u001b[0;34m'goodbye'\u001b[0m\u001b[0;34m\u001b[0m\u001b[0;34m\u001b[0m\u001b[0m\n\u001b[1;32m      3\u001b[0m \u001b[0mbacon\u001b[0m \u001b[0;34m=\u001b[0m \u001b[0;34m'GOODbye'\u001b[0m\u001b[0;34m\u001b[0m\u001b[0;34m\u001b[0m\u001b[0m\n\u001b[0;32m----> 4\u001b[0;31m \u001b[0;32massert\u001b[0m \u001b[0meggs\u001b[0m\u001b[0;34m.\u001b[0m\u001b[0mlower\u001b[0m\u001b[0;34m(\u001b[0m\u001b[0;34m)\u001b[0m\u001b[0;34m!=\u001b[0m\u001b[0mbacon\u001b[0m\u001b[0;34m.\u001b[0m\u001b[0mlower\u001b[0m\u001b[0;34m(\u001b[0m\u001b[0;34m)\u001b[0m\u001b[0;34m\u001b[0m\u001b[0;34m\u001b[0m\u001b[0m\n\u001b[0m",
      "\u001b[0;31mAssertionError\u001b[0m: "
     ]
    }
   ],
   "source": [
    "2.\n",
    "\n",
    "eggs = 'goodbye'\n",
    "bacon = 'GOODbye'\n",
    "assert eggs.lower()!=bacon.lower()"
   ]
  },
  {
   "cell_type": "code",
   "execution_count": 17,
   "id": "448bc164",
   "metadata": {},
   "outputs": [
    {
     "ename": "AssertionError",
     "evalue": "",
     "output_type": "error",
     "traceback": [
      "\u001b[0;31m---------------------------------------------------------------------------\u001b[0m",
      "\u001b[0;31mAssertionError\u001b[0m                            Traceback (most recent call last)",
      "\u001b[0;32m<ipython-input-17-437b6071943a>\u001b[0m in \u001b[0;36m<module>\u001b[0;34m\u001b[0m\n\u001b[1;32m      1\u001b[0m \u001b[0;36m3.\u001b[0m\u001b[0;34m\u001b[0m\u001b[0;34m\u001b[0m\u001b[0m\n\u001b[0;32m----> 2\u001b[0;31m \u001b[0;32massert\u001b[0m \u001b[0;32mFalse\u001b[0m\u001b[0;34m\u001b[0m\u001b[0;34m\u001b[0m\u001b[0m\n\u001b[0m",
      "\u001b[0;31mAssertionError\u001b[0m: "
     ]
    }
   ],
   "source": [
    "3.\n",
    "\n",
    "assert False"
   ]
  },
  {
   "cell_type": "code",
   "execution_count": 3,
   "id": "66b38d05",
   "metadata": {},
   "outputs": [],
   "source": [
    "4.\n",
    "\n",
    "import logging\n",
    "logging.basicConfig()"
   ]
  },
  {
   "cell_type": "code",
   "execution_count": 4,
   "id": "6ccbd7c8",
   "metadata": {},
   "outputs": [],
   "source": [
    "5. \n",
    "\n",
    "import logging\n",
    "logging.basicConfig(filename='programLog.txt',level=logging.DEBUG,format='%(asctime)s - %(levelname)s - %(message)s')"
   ]
  },
  {
   "cell_type": "markdown",
   "id": "0859d9c2",
   "metadata": {},
   "source": [
    "6\n",
    "\n",
    "logging.debug()\n",
    "logging.info()\n",
    "logging.error()\n",
    "logging.warning()\n",
    "logging.critical()"
   ]
  },
  {
   "cell_type": "code",
   "execution_count": 5,
   "id": "e3d3b4ad",
   "metadata": {},
   "outputs": [],
   "source": [
    "7.\n",
    "\n",
    "logging.disable(logging.DEBUG)"
   ]
  },
  {
   "cell_type": "markdown",
   "id": "a9be18be",
   "metadata": {},
   "source": [
    "8.\n",
    "\n",
    "have to \"remove\" or comment it out in production in the case of print\n",
    "you can toggle the setting on/off or write to a file in the case of logging"
   ]
  },
  {
   "cell_type": "markdown",
   "id": "03d227b6",
   "metadata": {},
   "source": [
    "9.\n",
    "\n",
    "In   - means that if there is a function call, it goes inside the function and you can see how the function is       \n",
    "       executing line by line till it returns and you go back to the next line right after the function call.\n",
    "Over - excecute the next line of code, but if it is a program, it will\n",
    "       complete the entire function call.\n",
    "Out  - execute the lines of code unti it returns from the current function.\n",
    "       (out is useful when you stepped into a function call)."
   ]
  },
  {
   "cell_type": "markdown",
   "id": "8ba91515",
   "metadata": {},
   "source": [
    "10.\n",
    "\n",
    "till the program terminate or reaches a breakpoint set"
   ]
  },
  {
   "cell_type": "markdown",
   "id": "fb9fe317",
   "metadata": {},
   "source": [
    "11.\n",
    "\n",
    "it will stop there at that point and await your next command"
   ]
  }
 ],
 "metadata": {
  "kernelspec": {
   "display_name": "Python 3",
   "language": "python",
   "name": "python3"
  },
  "language_info": {
   "codemirror_mode": {
    "name": "ipython",
    "version": 3
   },
   "file_extension": ".py",
   "mimetype": "text/x-python",
   "name": "python",
   "nbconvert_exporter": "python",
   "pygments_lexer": "ipython3",
   "version": "3.8.8"
  }
 },
 "nbformat": 4,
 "nbformat_minor": 5
}
