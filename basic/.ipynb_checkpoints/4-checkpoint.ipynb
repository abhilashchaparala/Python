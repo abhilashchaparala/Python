{
 "cells": [
  {
   "cell_type": "raw",
   "id": "dc0342a9",
   "metadata": {},
   "source": [
    "1. What exactly is []?\n",
    "\n",
    "list"
   ]
  },
  {
   "cell_type": "raw",
   "id": "66af7b04",
   "metadata": {},
   "source": [
    "2. In a list of values stored in a variable called spam, how would you assign the value 'hello' as the third value? (Assume [2, 4, 6, 8, 10] are in spam.)\n",
    "Let's pretend the spam includes the list ['a', 'b', 'c', 'd'] for the next three queries.\n",
    "\n",
    "s.insert(2,'hello')\n"
   ]
  },
  {
   "cell_type": "raw",
   "id": "2f3f393d",
   "metadata": {},
   "source": [
    "3. What is the value of spam[int(int('3' * 2) / 11)]?\n",
    "\n",
    "'d'"
   ]
  },
  {
   "cell_type": "raw",
   "id": "2e261632",
   "metadata": {},
   "source": [
    "4. What is the value of spam[-1]?\n",
    "\n",
    "'d'"
   ]
  },
  {
   "cell_type": "raw",
   "id": "5be18c0b",
   "metadata": {},
   "source": [
    "5. What is the value of spam[:2]?\n",
    "\n",
    "a,b,c"
   ]
  },
  {
   "cell_type": "raw",
   "id": "471f9ac1",
   "metadata": {},
   "source": [
    "\n",
    "Let's pretend bacon has the list [3.14, 'cat,' 11, 'cat,' True] for the next three questions.\n",
    "6. What is the value of bacon.index('cat')?\n",
    "\n",
    "1"
   ]
  },
  {
   "cell_type": "raw",
   "id": "8c65ef3e",
   "metadata": {},
   "source": [
    "7. How does bacon.append(99) change the look of the list value in bacon?\n",
    "\n",
    "[3.14, 'cat,' 11, 'cat,' True,99]"
   ]
  },
  {
   "cell_type": "raw",
   "id": "c470a254",
   "metadata": {},
   "source": [
    "8. How does bacon.remove('cat') change the look of the list in bacon?\n",
    "\n",
    "[3.14, 'cat,' 11,True,99]\n",
    "\n"
   ]
  },
  {
   "cell_type": "raw",
   "id": "1dc4fa39",
   "metadata": {},
   "source": [
    "9. What are the list concatenation and list replication operators?\n",
    "\n",
    "list concatenation are which concats two lists\n",
    "list replication operators which creates copy of lists"
   ]
  },
  {
   "cell_type": "raw",
   "id": "d6cee189",
   "metadata": {},
   "source": [
    "10. What is difference between the list methods append() and insert()?\n",
    "\n",
    "insert has 2 argumnets, position in which we need to insert and the element\n",
    "append only insert at the end of the list"
   ]
  },
  {
   "cell_type": "raw",
   "id": "e71ad272",
   "metadata": {},
   "source": [
    "\n",
    "11. What are the two methods for removing items from a list?\n",
    "\n",
    "list.remove()\n",
    "list.pop()"
   ]
  },
  {
   "cell_type": "raw",
   "id": "7c6f313a",
   "metadata": {},
   "source": [
    "12. Describe how list values and string values are identical.\n",
    "\n",
    "both are odered collections"
   ]
  },
  {
   "cell_type": "raw",
   "id": "9f64628a",
   "metadata": {},
   "source": [
    "13. What's the difference between tuples and lists?\n",
    "\n",
    "string is a sequence of characters\n",
    "tuple is a odered sequence of object inside paranthesis"
   ]
  },
  {
   "cell_type": "raw",
   "id": "4f0445a6",
   "metadata": {},
   "source": [
    "14. How do you type a tuple value that only contains the integer 42?\n",
    "\n",
    "tuple_value=(42)"
   ]
  },
  {
   "cell_type": "raw",
   "id": "56b2d65d",
   "metadata": {},
   "source": [
    "15. How do you get a list value's tuple form? How do you get a tuple value's list form?\n",
    "\n",
    "list(tuple_object)\n",
    "tuple(list_object)"
   ]
  },
  {
   "cell_type": "raw",
   "id": "f456938c",
   "metadata": {},
   "source": [
    "\n",
    "\n",
    "16. Variables that \"contain\" list values are not necessarily lists themselves. Instead, what do they contain?\n",
    "\n",
    "they contain references\n",
    "\n",
    "\n"
   ]
  },
  {
   "cell_type": "raw",
   "id": "3f12aeda",
   "metadata": {},
   "source": [
    "17. How do you distinguish between copy.copy() and copy.deepcopy()?\n",
    "\n",
    "deepcopy() constructs new object, ita is deepcopy\n",
    "copy() just adds reference to the variable, it is shallow copy"
   ]
  }
 ],
 "metadata": {
  "kernelspec": {
   "display_name": "Python 3",
   "language": "python",
   "name": "python3"
  },
  "language_info": {
   "codemirror_mode": {
    "name": "ipython",
    "version": 3
   },
   "file_extension": ".py",
   "mimetype": "text/x-python",
   "name": "python",
   "nbconvert_exporter": "python",
   "pygments_lexer": "ipython3",
   "version": "3.8.8"
  }
 },
 "nbformat": 4,
 "nbformat_minor": 5
}
