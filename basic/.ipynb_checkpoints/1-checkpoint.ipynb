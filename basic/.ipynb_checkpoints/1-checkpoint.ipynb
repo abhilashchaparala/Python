{
 "cells": [
  {
   "cell_type": "markdown",
   "id": "0ed9f2f1",
   "metadata": {},
   "source": [
    "1. In the below elements which of them are values or an expression? eg:- values can be integer or string and expressions will be mathematical operators.\n",
    "\n",
    "* expressions\n",
    "'hello' string\n",
    "-87.8 value\n",
    "- expression\n",
    "/ expression\n",
    "6 value"
   ]
  },
  {
   "cell_type": "markdown",
   "id": "d1e975d6",
   "metadata": {},
   "source": [
    "2. What is the difference between string and variable?\n",
    "\n",
    "string is an set of characters. Variable is like a box which stores data\n"
   ]
  },
  {
   "cell_type": "markdown",
   "id": "a9d6e5a1",
   "metadata": {},
   "source": [
    "3. Describe three different data types.\n",
    "\n",
    "string - set of characters\n",
    "integer - +ve and -ve numerical values\n",
    "float - numerical value with decimal numbers"
   ]
  },
  {
   "cell_type": "markdown",
   "id": "5a052b3f",
   "metadata": {},
   "source": [
    "4. What is an expression made up of? What do all expressions do?\n",
    "\n",
    "it is madeup of variables, opeators and method invocations\n"
   ]
  },
  {
   "cell_type": "markdown",
   "id": "1fc9749c",
   "metadata": {},
   "source": [
    "5. This assignment statements, like spam = 10. What is the difference between an expression and a statement?\n",
    "\n",
    "An expression evaluates to a value\n",
    "Statements represent an action or command\n"
   ]
  },
  {
   "cell_type": "markdown",
   "id": "958461ba",
   "metadata": {},
   "source": [
    "6. After running the following code, what does the variable bacon contain?\n",
    "bacon = 22\n",
    "bacon + 1\n",
    "\n",
    "bacon contains 22"
   ]
  },
  {
   "cell_type": "markdown",
   "id": "91dc2b06",
   "metadata": {},
   "source": [
    "7. What should the values of the following two terms be?\n",
    "'spam' + 'spamspam'\n",
    "'spam' * 3\n",
    "\n",
    "'spamspamspam'\n",
    "'spamspamspam'"
   ]
  },
  {
   "cell_type": "markdown",
   "id": "bb5347b4",
   "metadata": {},
   "source": [
    "8. Why is eggs a valid variable name while 100 is invalid?\n",
    "\n",
    "variable names can't be started with a numerical value"
   ]
  },
  {
   "cell_type": "markdown",
   "id": "6acd7e94",
   "metadata": {},
   "source": [
    "\n",
    "9. What three functions can be used to get the integer, floating-point number, or string version of a value?\n",
    "\n",
    "int()\n",
    "float()\n",
    "str()"
   ]
  },
  {
   "cell_type": "markdown",
   "id": "8c86dfdc",
   "metadata": {},
   "source": [
    "10. Why does this expression cause an error? How can you fix it?\n",
    "'I have eaten ' + 99 + ' burritos.'\n",
    "\n",
    "string can't be concatinated with integers.\n",
    "'I have eaten ' + str(99) + ' burritos.'"
   ]
  }
 ],
 "metadata": {
  "kernelspec": {
   "display_name": "Python 3",
   "language": "python",
   "name": "python3"
  },
  "language_info": {
   "codemirror_mode": {
    "name": "ipython",
    "version": 3
   },
   "file_extension": ".py",
   "mimetype": "text/x-python",
   "name": "python",
   "nbconvert_exporter": "python",
   "pygments_lexer": "ipython3",
   "version": "3.8.8"
  }
 },
 "nbformat": 4,
 "nbformat_minor": 5
}
