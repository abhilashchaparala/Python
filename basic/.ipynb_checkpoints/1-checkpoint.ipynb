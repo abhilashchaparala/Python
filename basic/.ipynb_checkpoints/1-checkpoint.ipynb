{
 "cells": [
  {
   "cell_type": "raw",
   "id": "12c8d330",
   "metadata": {},
   "source": [
    "1. In the below elements which of them are values or an expression? eg:- values can be integer or string and expressions will be mathematical operators.\n",
    "\n",
    "* expressions\n",
    "'hello' string\n",
    "-87.8 value\n",
    "- expression\n",
    "/ expression\n",
    "6 value"
   ]
  },
  {
   "cell_type": "raw",
   "id": "816c132b",
   "metadata": {},
   "source": [
    "2. What is the difference between string and variable?\n",
    "\n",
    "string is an set of characters. Variable is like a box which stores data\n"
   ]
  },
  {
   "cell_type": "raw",
   "id": "bb99c4f5",
   "metadata": {},
   "source": [
    "3. Describe three different data types.\n",
    "\n",
    "string - set of characters\n",
    "integer - +ve and -ve numerical values\n",
    "float - numerical value with decimal numbers"
   ]
  },
  {
   "cell_type": "raw",
   "id": "c5b8da65",
   "metadata": {},
   "source": [
    "4. What is an expression made up of? What do all expressions do?\n",
    "\n",
    "it is madeup of variables, opeators and method invocations\n"
   ]
  },
  {
   "cell_type": "raw",
   "id": "6e9de3a3",
   "metadata": {},
   "source": [
    "5. This assignment statements, like spam = 10. What is the difference between an expression and a statement?\n",
    "\n",
    "An expression evaluates to a value\n",
    "Statements represent an action or command\n"
   ]
  },
  {
   "cell_type": "raw",
   "id": "0911be62",
   "metadata": {},
   "source": [
    "6. After running the following code, what does the variable bacon contain?\n",
    "bacon = 22\n",
    "bacon + 1\n",
    "\n",
    "bacon contains 22"
   ]
  },
  {
   "cell_type": "raw",
   "id": "6e33ff9c",
   "metadata": {},
   "source": [
    "7. What should the values of the following two terms be?\n",
    "'spam' + 'spamspam'\n",
    "'spam' * 3\n",
    "\n",
    "'spamspamspam'\n",
    "'spamspamspam'"
   ]
  },
  {
   "cell_type": "raw",
   "id": "46a43e4f",
   "metadata": {},
   "source": [
    "8. Why is eggs a valid variable name while 100 is invalid?\n",
    "\n",
    "variable names can't be started with a numerical value"
   ]
  },
  {
   "cell_type": "raw",
   "id": "f434c6dc",
   "metadata": {},
   "source": [
    "\n",
    "9. What three functions can be used to get the integer, floating-point number, or string version of a value?\n",
    "\n",
    "int()\n",
    "float()\n",
    "str()"
   ]
  },
  {
   "cell_type": "raw",
   "id": "93bb860d",
   "metadata": {},
   "source": [
    "10. Why does this expression cause an error? How can you fix it?\n",
    "'I have eaten ' + 99 + ' burritos.'\n",
    "\n",
    "string can't be concatinated with integers.\n",
    "'I have eaten ' + str(99) + ' burritos.'"
   ]
  }
 ],
 "metadata": {
  "kernelspec": {
   "display_name": "Python 3",
   "language": "python",
   "name": "python3"
  },
  "language_info": {
   "codemirror_mode": {
    "name": "ipython",
    "version": 3
   },
   "file_extension": ".py",
   "mimetype": "text/x-python",
   "name": "python",
   "nbconvert_exporter": "python",
   "pygments_lexer": "ipython3",
   "version": "3.8.8"
  }
 },
 "nbformat": 4,
 "nbformat_minor": 5
}
