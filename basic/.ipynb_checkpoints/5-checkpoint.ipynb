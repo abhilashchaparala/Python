{
 "cells": [
  {
   "cell_type": "raw",
   "id": "3b4b9f83",
   "metadata": {},
   "source": [
    "1. What does an empty dictionary's code look like?\n",
    "\n",
    "dictionary = {}"
   ]
  },
  {
   "cell_type": "raw",
   "id": "89136439",
   "metadata": {},
   "source": [
    "2. What is the value of a dictionary value with the key 'foo' and the value 42?\n",
    "\n",
    "dictionary = {'foo': 42}\n"
   ]
  },
  {
   "cell_type": "raw",
   "id": "2ce22a2e",
   "metadata": {},
   "source": [
    "3. What is the most significant distinction between a dictionary and a list?\n",
    "\n",
    "dictionary is the set of key value pair values\n",
    "list is the group of homogenious and non homogenius values"
   ]
  },
  {
   "cell_type": "raw",
   "id": "1887ce35",
   "metadata": {},
   "source": [
    "4. What happens if you try to access spam['foo'] if spam is {'bar': 100}?\n",
    "\n",
    "keyError"
   ]
  },
  {
   "cell_type": "raw",
   "id": "707723cb",
   "metadata": {},
   "source": [
    "5. If a dictionary is stored in spam, what is the difference between the expressions 'cat' in spam and 'cat' in spam.keys()?\n",
    "\n",
    "spam.keys() returns the set of keys in the dictionary object "
   ]
  },
  {
   "cell_type": "raw",
   "id": "a34cd5b9",
   "metadata": {},
   "source": [
    "6. If a dictionary is stored in spam, what is the difference between the expressions 'cat' in spam and 'cat' in spam.values()?\n",
    "\n",
    "spam.values() returns the values of the keys in the specified dictionary object\n",
    "'cat' in span returns true if 'cat' key is present in dictionary"
   ]
  },
  {
   "cell_type": "raw",
   "id": "ed7a15c1",
   "metadata": {},
   "source": [
    "7. What is a shortcut for the following code?\n",
    "if 'color' not in spam:\n",
    "    spam['color'] = 'black'\n",
    "\n",
    "spam['color'] = 'black'"
   ]
  },
  {
   "cell_type": "raw",
   "id": "71b0a6ce",
   "metadata": {},
   "source": [
    "8. How do you \"pretty print\" dictionary values using which module and function?\n",
    "\n",
    "using dumps() function in json module we can pretty print dictionary values"
   ]
  }
 ],
 "metadata": {
  "kernelspec": {
   "display_name": "Python 3",
   "language": "python",
   "name": "python3"
  },
  "language_info": {
   "codemirror_mode": {
    "name": "ipython",
    "version": 3
   },
   "file_extension": ".py",
   "mimetype": "text/x-python",
   "name": "python",
   "nbconvert_exporter": "python",
   "pygments_lexer": "ipython3",
   "version": "3.8.8"
  }
 },
 "nbformat": 4,
 "nbformat_minor": 5
}
