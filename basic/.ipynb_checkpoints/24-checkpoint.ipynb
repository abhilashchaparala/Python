{
 "cells": [
  {
   "cell_type": "markdown",
   "id": "9583bde0",
   "metadata": {},
   "source": [
    "1. What is the relationship between def statements and lambda expressions ?\n",
    "2. What is the benefit of lambda?\n",
    "3. Compare and contrast map, filter, and reduce.\n",
    "4. What are function annotations, and how are they used?\n",
    "5. What are recursive functions, and how are they used?\n",
    "6. What are some general design guidelines for coding functions?\n",
    "7. Name three or more ways that functions can communicate results to a caller.\n"
   ]
  },
  {
   "cell_type": "markdown",
   "id": "63b0856f",
   "metadata": {},
   "source": [
    "1.\n",
    "\n",
    "-> both are type of functions\n",
    "\n",
    "-> def are multiplie functions and lambda are multiline functions"
   ]
  },
  {
   "cell_type": "markdown",
   "id": "3a053bc6",
   "metadata": {},
   "source": [
    "2.\n",
    "\n",
    "-> few lines of code\n",
    "\n",
    "-> high efficency\n"
   ]
  },
  {
   "cell_type": "markdown",
   "id": "82fec01e",
   "metadata": {},
   "source": [
    "3.\n",
    "\n",
    "-> map() function iterates through all items in the given iterable and executes the function we passed as an argument on each of them\n",
    "\n",
    "-> filter() forms a new list that contains only elements that satisfy a certain condition\n",
    "\n",
    "-> reduce() works by calling the function we passed for the first two items in the sequence. The result returned by the function is used in another call to function alongside with the next elements. It return a single value."
   ]
  },
  {
   "cell_type": "markdown",
   "id": "03dd2c24",
   "metadata": {},
   "source": [
    "4.\n",
    "\n",
    "Function annotations are arbitrary python expressions that are associated with various part of functions."
   ]
  },
  {
   "cell_type": "markdown",
   "id": "3a12e74b",
   "metadata": {},
   "source": [
    "5.\n",
    "\n",
    "functions calling themselves are called recursive functions.\n",
    "They can used by calling the functuion inside that function itself"
   ]
  },
  {
   "cell_type": "markdown",
   "id": "0830aabc",
   "metadata": {},
   "source": [
    "6.\n",
    "\n",
    "->readable\n",
    "\n",
    "->reusable\n",
    "\n",
    "->There must be a space after giving a comma between two function arguments\n",
    "\n",
    "-> No poor indentation"
   ]
  },
  {
   "cell_type": "markdown",
   "id": "6c9bc327",
   "metadata": {},
   "source": [
    "7.\n",
    "\n",
    "-> return statements\n",
    "\n",
    "-> print statements\n",
    "\n",
    "-> yelid"
   ]
  },
  {
   "cell_type": "code",
   "execution_count": null,
   "id": "6836fa5e",
   "metadata": {},
   "outputs": [],
   "source": []
  }
 ],
 "metadata": {
  "kernelspec": {
   "display_name": "Python 3",
   "language": "python",
   "name": "python3"
  },
  "language_info": {
   "codemirror_mode": {
    "name": "ipython",
    "version": 3
   },
   "file_extension": ".py",
   "mimetype": "text/x-python",
   "name": "python",
   "nbconvert_exporter": "python",
   "pygments_lexer": "ipython3",
   "version": "3.8.8"
  }
 },
 "nbformat": 4,
 "nbformat_minor": 5
}
