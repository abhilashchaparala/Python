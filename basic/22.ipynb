{
 "cells": [
  {
   "cell_type": "markdown",
   "id": "6ce7a288",
   "metadata": {},
   "source": [
    "1. What is the result of the code, and explain?\n",
    "\n",
    "\n",
    ">>> X = 'iNeuron'\n",
    ">>> def func():\n",
    "print(X)\n",
    "\n",
    "\n",
    ">>> func()\n",
    "\n",
    "\n",
    "2. What is the result of the code, and explain?\n",
    "\n",
    "\n",
    ">>> X = 'iNeuron'\n",
    ">>> def func():\n",
    "X = 'NI!'\n",
    "\n",
    "\n",
    ">>> func()\n",
    ">>> print(X)\n",
    "\n",
    "\n",
    "3. What does this code print, and why?\n",
    "\n",
    "\n",
    ">>> X = 'iNeuron'\n",
    ">>> def func():\n",
    "X = 'NI'\n",
    "print(X)\n",
    "\n",
    "\n",
    ">>> func()\n",
    ">>> print(X)\n",
    "\n",
    "\n",
    "4. What output does this code produce? Why?\n",
    "\n",
    "\n",
    ">>> X = 'iNeuron'\n",
    ">>> def func():\n",
    "global X\n",
    "X = 'NI'\n",
    "\n",
    "\n",
    ">>> func()\n",
    ">>> print(X)\n",
    "\n",
    "\n",
    "5. What about this code—what’s the output, and why?\n",
    "\n",
    "\n",
    ">>> X = 'iNeuron'\n",
    ">>> def func():\n",
    "X = 'NI'\n",
    "def nested():\n",
    "print(X)\n",
    "nested()\n",
    "\n",
    "\n",
    ">>> func()\n",
    ">>> X\n",
    "\n",
    "\n",
    "6. How about this code: what is its output in Python 3, and explain?\n",
    "\n",
    "\n",
    ">>> def func():\n",
    "X = 'NI'\n",
    "def nested():\n",
    "nonlocal X\n",
    "X = 'Spam'\n",
    "nested()\n",
    "print(X)\n",
    "\n",
    "\n",
    ">>> func()\n",
    "\n",
    "\n",
    "\n",
    "\n"
   ]
  },
  {
   "cell_type": "markdown",
   "id": "e7d55ff8",
   "metadata": {},
   "source": [
    "1.\n",
    "\n",
    "error\n",
    "variable X scope is bound to global not in the local scope of func() function"
   ]
  },
  {
   "cell_type": "markdown",
   "id": "b1d9241f",
   "metadata": {},
   "source": [
    "2.\n",
    "\n",
    "'INeuron'\n",
    "\n",
    "variable X inside func() function is not related to the global X variable due to its scope bounding.\n",
    "So, it dosent overwrite it."
   ]
  },
  {
   "cell_type": "markdown",
   "id": "31564b85",
   "metadata": {},
   "source": [
    "3.\n",
    "\n",
    "'NI'\n",
    "'INeuron'\n",
    "\n",
    "func() prints variable X which is declared inside it, as it has the first preference\n",
    "then print(X) prints the variable X of global scope as it the scope of func()'s X has ended"
   ]
  },
  {
   "cell_type": "markdown",
   "id": "86a02099",
   "metadata": {},
   "source": [
    "4.\n",
    "\n",
    "'NI'\n",
    "as we declared X which func() has is the global variable.\n",
    "so, it updates the global variable X\n"
   ]
  },
  {
   "cell_type": "code",
   "execution_count": 7,
   "id": "a98832c9",
   "metadata": {},
   "outputs": [
    {
     "name": "stdout",
     "output_type": "stream",
     "text": [
      "NI\n"
     ]
    }
   ],
   "source": [
    "X = 'iNeuron'\n",
    "def func():\n",
    "    X = 'NI'\n",
    "    def nested():\n",
    "        print(X)\n",
    "    nested()\n",
    "func()"
   ]
  },
  {
   "cell_type": "markdown",
   "id": "61a0c057",
   "metadata": {},
   "source": [
    "5.\n",
    "\n",
    "'NI'\n",
    "'INeuron'\n",
    "\n",
    "Becaues there is a rule that chlid functions will have access to the variables of parent function\n",
    "here nested is the child function and func is the parent funcion."
   ]
  },
  {
   "cell_type": "code",
   "execution_count": 8,
   "id": "2872999e",
   "metadata": {},
   "outputs": [
    {
     "name": "stdout",
     "output_type": "stream",
     "text": [
      "Spam\n"
     ]
    }
   ],
   "source": [
    "6.\n",
    "\n",
    "def func():\n",
    "    X = 'NI'\n",
    "    def nested():\n",
    "        nonlocal X\n",
    "        X = 'Spam'\n",
    "    nested()\n",
    "    print(X)\n",
    "\n",
    "\n",
    "func()\n"
   ]
  },
  {
   "cell_type": "markdown",
   "id": "ae346e38",
   "metadata": {},
   "source": [
    "6.\n",
    "\n",
    "'Spam'\n",
    "because we used keyword nonlocal.\n",
    "this will remove the local scope bounding, in this case X variable in nested() updates the X variable in func() function."
   ]
  },
  {
   "cell_type": "code",
   "execution_count": null,
   "id": "8198d306",
   "metadata": {},
   "outputs": [],
   "source": []
  }
 ],
 "metadata": {
  "kernelspec": {
   "display_name": "Python 3",
   "language": "python",
   "name": "python3"
  },
  "language_info": {
   "codemirror_mode": {
    "name": "ipython",
    "version": 3
   },
   "file_extension": ".py",
   "mimetype": "text/x-python",
   "name": "python",
   "nbconvert_exporter": "python",
   "pygments_lexer": "ipython3",
   "version": "3.8.8"
  }
 },
 "nbformat": 4,
 "nbformat_minor": 5
}
