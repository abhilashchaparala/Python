{
 "cells": [
  {
   "cell_type": "raw",
   "id": "109b2a10",
   "metadata": {},
   "source": [
    "1) What is the difference between enclosing a list comprehension in square brackets and parentheses?\n",
    "2) What is the relationship between generators and iterators?\n",
    "3) What are the signs that a function is a generator function?\n",
    "4) What is the purpose of a yield statement?\n",
    "5) What is the relationship between map calls and list comprehensions? Make a comparison and contrast between the two.\n"
   ]
  },
  {
   "cell_type": "code",
   "execution_count": null,
   "id": "9a133076",
   "metadata": {},
   "outputs": [],
   "source": []
  }
 ],
 "metadata": {
  "kernelspec": {
   "display_name": "Python 3",
   "language": "python",
   "name": "python3"
  },
  "language_info": {
   "codemirror_mode": {
    "name": "ipython",
    "version": 3
   },
   "file_extension": ".py",
   "mimetype": "text/x-python",
   "name": "python",
   "nbconvert_exporter": "python",
   "pygments_lexer": "ipython3",
   "version": "3.8.8"
  }
 },
 "nbformat": 4,
 "nbformat_minor": 5
}
