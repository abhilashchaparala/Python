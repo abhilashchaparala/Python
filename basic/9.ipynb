{
 "cells": [
  {
   "cell_type": "raw",
   "id": "c85db8c5",
   "metadata": {},
   "source": [
    "1. To what does a relative path refer?\n",
    "\n",
    "it points to a file relative to the current page"
   ]
  },
  {
   "cell_type": "raw",
   "id": "ac72d231",
   "metadata": {},
   "source": [
    "2. What does an absolute path start with your operating system?\n",
    "\n",
    "Users"
   ]
  },
  {
   "cell_type": "raw",
   "id": "9a1f91b1",
   "metadata": {},
   "source": [
    "3. What do the functions os.getcwd() and os.chdir() do?\n",
    "\n",
    "we get current woking directory\n",
    "creates a new directory"
   ]
  },
  {
   "cell_type": "raw",
   "id": "8f476339",
   "metadata": {},
   "source": [
    "4. What are the . and .. folders?\n",
    "\n",
    ". current directory \n",
    ".. parent directory"
   ]
  },
  {
   "cell_type": "raw",
   "id": "723b8e8f",
   "metadata": {},
   "source": [
    "5. In C:\\bacon\\eggs\\spam.txt, which part is the dir name, and which part is the base name?\n",
    "\n",
    "dir name C:\\bacon\\eggs\n",
    "base name: C:"
   ]
  },
  {
   "cell_type": "raw",
   "id": "dd6a3024",
   "metadata": {},
   "source": [
    "6. What are the three “mode” arguments that can be passed to the open() function?\n",
    "\n",
    "read\n",
    "write\n",
    "read write"
   ]
  },
  {
   "cell_type": "raw",
   "id": "81d4327a",
   "metadata": {},
   "source": [
    "7. What happens if an existing file is opened in write mode?\n",
    "\n",
    "we can edit the file and text to it and remove text from it"
   ]
  },
  {
   "cell_type": "raw",
   "id": "bf5f0fc2",
   "metadata": {},
   "source": [
    "8. How do you tell the difference between read() and readlines()?\n",
    "\n",
    "read() reads the whole text in the file\n",
    "readlines() will read the individual line one by one"
   ]
  },
  {
   "cell_type": "raw",
   "id": "8160aec9",
   "metadata": {},
   "source": [
    "9. What data structure does a shelf value resemble?\n",
    "\n",
    "dictionary"
   ]
  }
 ],
 "metadata": {
  "kernelspec": {
   "display_name": "Python 3",
   "language": "python",
   "name": "python3"
  },
  "language_info": {
   "codemirror_mode": {
    "name": "ipython",
    "version": 3
   },
   "file_extension": ".py",
   "mimetype": "text/x-python",
   "name": "python",
   "nbconvert_exporter": "python",
   "pygments_lexer": "ipython3",
   "version": "3.8.8"
  }
 },
 "nbformat": 4,
 "nbformat_minor": 5
}
