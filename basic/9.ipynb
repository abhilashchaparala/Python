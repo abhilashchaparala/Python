{
 "cells": [
  {
   "cell_type": "markdown",
   "id": "c71eb897",
   "metadata": {},
   "source": [
    "1. To what does a relative path refer?\n",
    "\n",
    "it points to a file relative to the current page"
   ]
  },
  {
   "cell_type": "markdown",
   "id": "0224f9bd",
   "metadata": {},
   "source": [
    "2. What does an absolute path start with your operating system?\n",
    "\n",
    "Users"
   ]
  },
  {
   "cell_type": "markdown",
   "id": "adcad103",
   "metadata": {},
   "source": [
    "3. What do the functions os.getcwd() and os.chdir() do?\n",
    "\n",
    "we get current woking directory\n",
    "creates a new directory"
   ]
  },
  {
   "cell_type": "markdown",
   "id": "c68df761",
   "metadata": {},
   "source": [
    "4. What are the . and .. folders?\n",
    "\n",
    ". current directory \n",
    ".. parent directory"
   ]
  },
  {
   "cell_type": "markdown",
   "id": "ec3a0fdd",
   "metadata": {},
   "source": [
    "5. In C:\\bacon\\eggs\\spam.txt, which part is the dir name, and which part is the base name?\n",
    "\n",
    "dir name C:\\bacon\\eggs\n",
    "base name: C:"
   ]
  },
  {
   "cell_type": "markdown",
   "id": "b38f9b11",
   "metadata": {},
   "source": [
    "6. What are the three “mode” arguments that can be passed to the open() function?\n",
    "\n",
    "read\n",
    "write\n",
    "read write"
   ]
  },
  {
   "cell_type": "markdown",
   "id": "d3b17d19",
   "metadata": {},
   "source": [
    "7. What happens if an existing file is opened in write mode?\n",
    "\n",
    "we can edit the file and text to it and remove text from it"
   ]
  },
  {
   "cell_type": "markdown",
   "id": "1b3adce5",
   "metadata": {},
   "source": [
    "8. How do you tell the difference between read() and readlines()?\n",
    "\n",
    "read() reads the whole text in the file\n",
    "readlines() will read the individual line one by one"
   ]
  },
  {
   "cell_type": "markdown",
   "id": "25e01026",
   "metadata": {},
   "source": [
    "9. What data structure does a shelf value resemble?\n",
    "\n",
    "dictionary"
   ]
  }
 ],
 "metadata": {
  "kernelspec": {
   "display_name": "Python 3",
   "language": "python",
   "name": "python3"
  },
  "language_info": {
   "codemirror_mode": {
    "name": "ipython",
    "version": 3
   },
   "file_extension": ".py",
   "mimetype": "text/x-python",
   "name": "python",
   "nbconvert_exporter": "python",
   "pygments_lexer": "ipython3",
   "version": "3.8.8"
  }
 },
 "nbformat": 4,
 "nbformat_minor": 5
}
