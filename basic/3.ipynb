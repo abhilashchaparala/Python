{
 "cells": [
  {
   "cell_type": "markdown",
   "id": "20222cc6",
   "metadata": {},
   "source": [
    "1. Why are functions advantageous to have in your programs?\n",
    "\n",
    "more readable and organised code"
   ]
  },
  {
   "cell_type": "markdown",
   "id": "849dc267",
   "metadata": {},
   "source": [
    "2. When does the code in a function run: when it's specified or when it's called?\n",
    "    \n",
    "when it's called"
   ]
  },
  {
   "cell_type": "markdown",
   "id": "efe2b71f",
   "metadata": {},
   "source": [
    "3. What statement creates a function?\n",
    "\n",
    "def function_name():\n"
   ]
  },
  {
   "cell_type": "markdown",
   "id": "92f629b7",
   "metadata": {},
   "source": [
    "4. What is the difference between a function and a function call?\n",
    "\n",
    "Function performs a defined task, when its return statement is executed or when its function-ending closing brace is reached\n",
    "Funcion call is using a fuction to achive task"
   ]
  },
  {
   "cell_type": "markdown",
   "id": "9d496b2d",
   "metadata": {},
   "source": [
    "5. How many global scopes are there in a Python program? How many local scopes?\n",
    "\n",
    "1\n"
   ]
  },
  {
   "cell_type": "markdown",
   "id": "06adfe7a",
   "metadata": {},
   "source": [
    "6. What happens to variables in a local scope when the function call returns?\n",
    "\n",
    "they are deallocated from memory, so they dont appear in global scope"
   ]
  },
  {
   "cell_type": "markdown",
   "id": "0578ccad",
   "metadata": {},
   "source": [
    "7. What is the concept of a return value? Is it possible to have a return value in an expression?\n",
    "\n",
    "return value returns the value of a function\n",
    "No it is not possible"
   ]
  },
  {
   "cell_type": "markdown",
   "id": "6f17d00e",
   "metadata": {},
   "source": [
    "\n",
    "8. If a function does not have a return statement, what is the return value of a call to that function?\n",
    "\n",
    "undefined"
   ]
  },
  {
   "cell_type": "markdown",
   "id": "43efa936",
   "metadata": {},
   "source": [
    "9. How do you make a function variable refer to the global variable?\n",
    "\n",
    "global keyword"
   ]
  },
  {
   "cell_type": "markdown",
   "id": "16a175d4",
   "metadata": {},
   "source": [
    "10. What is the data type of None?\n",
    "\n",
    "NoneType"
   ]
  },
  {
   "cell_type": "markdown",
   "id": "ece8d319",
   "metadata": {},
   "source": [
    "11. What does the sentence import areallyourpetsnamederic do?\n",
    "\n",
    "No module named 'areallyourpetsnamederic'"
   ]
  },
  {
   "cell_type": "markdown",
   "id": "06d16901",
   "metadata": {},
   "source": [
    "12. If you had a bacon() feature in a spam module, what would you call it after importing spam?\n",
    "\n",
    "span.bacon()"
   ]
  },
  {
   "cell_type": "markdown",
   "id": "590494b1",
   "metadata": {},
   "source": [
    "13. What can you do to save a programme from crashing if it encounters an error?\n",
    "\n",
    "using exception handling"
   ]
  },
  {
   "cell_type": "markdown",
   "id": "cf973651",
   "metadata": {},
   "source": [
    "14. What is the purpose of the try clause? What is the purpose of the except clause?\n",
    "\n",
    "handle expections"
   ]
  }
 ],
 "metadata": {
  "kernelspec": {
   "display_name": "Python 3",
   "language": "python",
   "name": "python3"
  },
  "language_info": {
   "codemirror_mode": {
    "name": "ipython",
    "version": 3
   },
   "file_extension": ".py",
   "mimetype": "text/x-python",
   "name": "python",
   "nbconvert_exporter": "python",
   "pygments_lexer": "ipython3",
   "version": "3.8.8"
  }
 },
 "nbformat": 4,
 "nbformat_minor": 5
}
