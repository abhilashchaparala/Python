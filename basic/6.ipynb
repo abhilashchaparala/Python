{
 "cells": [
  {
   "cell_type": "raw",
   "id": "92aa2999",
   "metadata": {},
   "source": [
    "1. What are escape characters, and how do you use them?\n",
    "\n",
    "To insert characters that are illegal in a string we use escape characters\n",
    "/n\n",
    "/'\n",
    "/t\n",
    "//"
   ]
  },
  {
   "cell_type": "raw",
   "id": "bd5e370b",
   "metadata": {},
   "source": [
    "2. What do the escape characters n and t stand for?\n",
    "\n",
    "new line\n",
    "tab space"
   ]
  },
  {
   "cell_type": "raw",
   "id": "9f8176e2",
   "metadata": {},
   "source": [
    "3. What is the way to include backslash characters in a string?\n",
    "\n",
    "To insert characters that are illegal in a string "
   ]
  },
  {
   "cell_type": "raw",
   "id": "effd5488",
   "metadata": {},
   "source": [
    "4. The string \"Howl's Moving Castle\" is a correct value. Why isn't the single quote character in the word Howl's not escaped a problem?\n",
    "\n",
    "' is also an string opening quote to python thinks it as another sting and looks for a closing quote.\n",
    "using / before ' will solve this issue\n"
   ]
  },
  {
   "cell_type": "raw",
   "id": "74b216a8",
   "metadata": {},
   "source": [
    "5. How do you write a string of newlines if you don't want to use the n character?\n",
    "\n",
    "we can use print() for each line, print() will print a new line by deafult"
   ]
  },
  {
   "cell_type": "raw",
   "id": "18f8d98b",
   "metadata": {},
   "source": [
    "6. What are the values of the given expressions?\n",
    "'Hello, world!'[1]\n",
    "'Hello, world!'[0:5]\n",
    "'Hello, world!'[:5]\n",
    "'Hello, world!'[3:]\n",
    "\n",
    "e\n",
    "Hello\n",
    "Hello\n",
    "lo, world!\n"
   ]
  },
  {
   "cell_type": "raw",
   "id": "3b335ac8",
   "metadata": {},
   "source": [
    "\n",
    "7. What are the values of the following expressions?\n",
    "'Hello'.upper()\n",
    "'Hello'.upper().isupper()\n",
    "'Hello'.upper().lower()\n",
    "\n",
    "HELLO\n",
    "True\n",
    "hello"
   ]
  },
  {
   "cell_type": "raw",
   "id": "eb479667",
   "metadata": {},
   "source": [
    "8. What are the values of the following expressions?\n",
    "'Remember, remember, the fifth of July.'.split()\n",
    "'-'.join('There can only one.'.split())\n",
    "\n",
    "['Remember,', 'remember,', 'the', 'fifth', 'of', 'July.']\n",
    "There-can-only=one"
   ]
  },
  {
   "cell_type": "raw",
   "id": "7b76c5fe",
   "metadata": {},
   "source": [
    "\n",
    "9. What are the methods for right-justifying, left-justifying, and centering a string?\n",
    "\n",
    " ljust(), rjust(), center()\n",
    "    \n"
   ]
  },
  {
   "cell_type": "raw",
   "id": "1bf2ed10",
   "metadata": {},
   "source": [
    "10. What is the best way to remove whitespace characters from the start or end?\n",
    "\n",
    ".strip()"
   ]
  }
 ],
 "metadata": {
  "kernelspec": {
   "display_name": "Python 3",
   "language": "python",
   "name": "python3"
  },
  "language_info": {
   "codemirror_mode": {
    "name": "ipython",
    "version": 3
   },
   "file_extension": ".py",
   "mimetype": "text/x-python",
   "name": "python",
   "nbconvert_exporter": "python",
   "pygments_lexer": "ipython3",
   "version": "3.8.8"
  }
 },
 "nbformat": 4,
 "nbformat_minor": 5
}
