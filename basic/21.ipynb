{
 "cells": [
  {
   "cell_type": "markdown",
   "id": "d49f8375",
   "metadata": {},
   "source": [
    "1. Add the current date to the text file today.txt as a string.\n",
    "2. Read the text file today.txt into the string today_string\n",
    "3. Parse the date from today_string.\n",
    "4. List the files in your current directory\n",
    "5. Create a list of all of the files in your parent directory (minimum five files should be available).\n",
    "6. Use multiprocessing to create three separate processes. Make each one wait a random number of seconds between one and five, print the current time, and then exit.\n",
    "7. Create a date object of your day of birth.\n",
    "8. What day of the week was your day of birth?\n",
    "9. When will you be (or when were you) 10,000 days old?\n"
   ]
  },
  {
   "cell_type": "code",
   "execution_count": 20,
   "id": "0cec23a3",
   "metadata": {},
   "outputs": [],
   "source": [
    "1.\n",
    "\n",
    "from datetime import datetime\n",
    "today=datetime.now().strftime(\"%d-%m-%y\")\n",
    "with open('date.txt',mode='w') as file:\n",
    "    file.write(today)"
   ]
  },
  {
   "cell_type": "code",
   "execution_count": 21,
   "id": "7e3641a6",
   "metadata": {},
   "outputs": [
    {
     "data": {
      "text/plain": [
       "'23-07-21'"
      ]
     },
     "execution_count": 21,
     "metadata": {},
     "output_type": "execute_result"
    }
   ],
   "source": [
    "2.\n",
    "\n",
    "with open('date.txt',mode='r') as file:\n",
    "    for i in file.readlines():\n",
    "        today_string=i\n",
    "today_string"
   ]
  },
  {
   "cell_type": "code",
   "execution_count": 30,
   "id": "b3934f4b",
   "metadata": {},
   "outputs": [
    {
     "data": {
      "text/plain": [
       "datetime.datetime(2021, 7, 23, 0, 0)"
      ]
     },
     "execution_count": 30,
     "metadata": {},
     "output_type": "execute_result"
    }
   ],
   "source": [
    "3.\n",
    "\n",
    "date = datetime.strptime(today_string,\"%d-%m-%y\")\n",
    "date"
   ]
  },
  {
   "cell_type": "code",
   "execution_count": 27,
   "id": "23581f7d",
   "metadata": {
    "scrolled": true
   },
   "outputs": [
    {
     "data": {
      "text/plain": [
       "['12.ipynb',\n",
       " 'programLog.txt',\n",
       " '10.ipynb',\n",
       " '.DS_Store',\n",
       " '14.ipynb',\n",
       " '8.ipynb',\n",
       " 'books.db-journal',\n",
       " '16.ipynb',\n",
       " '11.ipynb',\n",
       " 'test.csv',\n",
       " 'zoo.py',\n",
       " '13.ipynb',\n",
       " '17.ipynb',\n",
       " '9.ipynb',\n",
       " '__pycache__',\n",
       " '15.ipynb',\n",
       " '24.ipynb',\n",
       " '19.ipynb',\n",
       " '7.ipynb',\n",
       " 'books.csv',\n",
       " '5.ipynb',\n",
       " '1.ipynb',\n",
       " '22.ipynb',\n",
       " '20.ipynb',\n",
       " 'img1.png',\n",
       " '3.ipynb',\n",
       " 'test.txt',\n",
       " '.ipynb_checkpoints',\n",
       " '4.ipynb',\n",
       " '6.ipynb',\n",
       " 'date.txt',\n",
       " '18.ipynb',\n",
       " '25.ipynb',\n",
       " 'books.db',\n",
       " '2.ipynb',\n",
       " '21.ipynb',\n",
       " '23.ipynb']"
      ]
     },
     "execution_count": 27,
     "metadata": {},
     "output_type": "execute_result"
    }
   ],
   "source": [
    "4.\n",
    "\n",
    "import os \n",
    "os.listdir(os.curdir)"
   ]
  },
  {
   "cell_type": "code",
   "execution_count": 48,
   "id": "24324d1a",
   "metadata": {},
   "outputs": [
    {
     "data": {
      "text/plain": [
       "['basic prog', '.DS_Store', 'adv pro', 'basic', 'adv', '.git']"
      ]
     },
     "execution_count": 48,
     "metadata": {},
     "output_type": "execute_result"
    }
   ],
   "source": [
    "5.\n",
    "\n",
    "os.listdir(os.pardir)"
   ]
  },
  {
   "cell_type": "code",
   "execution_count": 67,
   "id": "cd91240e",
   "metadata": {},
   "outputs": [
    {
     "name": "stdout",
     "output_type": "stream",
     "text": [
      "0.018324851989746094\n"
     ]
    }
   ],
   "source": [
    "6.\n",
    "\n",
    "from multiprocessing import Process\n",
    "import random\n",
    "import time\n",
    "def random_wait_time():\n",
    "    return random.randint(0,5)\n",
    "def processor1():\n",
    "    print(time.time())\n",
    "def processor2():\n",
    "    print(time.time())\n",
    "# processor1()\n",
    "# processor2()\n",
    "process1 = Process(target=processor1)\n",
    "process2 = Process(target=processor2)\n",
    "start=time.time()\n",
    "time.sleep(random_wait_time())\n",
    "process1.start()\n",
    "print(time.time()-start)\n",
    "process2 = Process(target=processor2)\n",
    "time.sleep(random_wait_time())\n",
    "process2.start()\n",
    "# print(time.time()-start)\n",
    "process1.join()      \n",
    "process2.join()"
   ]
  },
  {
   "cell_type": "code",
   "execution_count": 33,
   "id": "c137afe4",
   "metadata": {},
   "outputs": [],
   "source": [
    "7.\n",
    "\n",
    "bday = '06-12-01'\n",
    "date1 = datetime.strptime(bday,\"%d-%m-%y\")"
   ]
  },
  {
   "cell_type": "code",
   "execution_count": 38,
   "id": "6b995961",
   "metadata": {},
   "outputs": [
    {
     "data": {
      "text/plain": [
       "3"
      ]
     },
     "execution_count": 38,
     "metadata": {},
     "output_type": "execute_result"
    }
   ],
   "source": [
    "8.\n",
    "\n",
    "date1.weekday()"
   ]
  },
  {
   "cell_type": "code",
   "execution_count": 46,
   "id": "b8be0800",
   "metadata": {},
   "outputs": [
    {
     "data": {
      "text/plain": [
       "'23-04-29'"
      ]
     },
     "execution_count": 46,
     "metadata": {},
     "output_type": "execute_result"
    }
   ],
   "source": [
    "9.\n",
    "\n",
    "import datetime\n",
    "date = date1+datetime.timedelta(days=10000)\n",
    "datetime.datetime.strftime(date,'%d-%m-%y')"
   ]
  }
 ],
 "metadata": {
  "kernelspec": {
   "display_name": "Python 3",
   "language": "python",
   "name": "python3"
  },
  "language_info": {
   "codemirror_mode": {
    "name": "ipython",
    "version": 3
   },
   "file_extension": ".py",
   "mimetype": "text/x-python",
   "name": "python",
   "nbconvert_exporter": "python",
   "pygments_lexer": "ipython3",
   "version": "3.8.8"
  }
 },
 "nbformat": 4,
 "nbformat_minor": 5
}
