{
 "cells": [
  {
   "cell_type": "markdown",
   "id": "914251cf",
   "metadata": {},
   "source": [
    "1.What are the two values of the Boolean data type? How do you write them?\n",
    "\n",
    "True, False\n",
    "1, 0"
   ]
  },
  {
   "cell_type": "markdown",
   "id": "4f7d2495",
   "metadata": {},
   "source": [
    "2. What are the three different types of Boolean operators?\n",
    "\n",
    "and or not"
   ]
  },
  {
   "cell_type": "markdown",
   "id": "084dcfc8",
   "metadata": {},
   "source": [
    "3. Make a list of each Boolean operator's truth tables (i.e. every possible combination of Boolean values for the operator and what it evaluate ).\n",
    "\n",
    "AND\n",
    "\n",
    "a b  a and b\n",
    "0 0    0\n",
    "0 1    0\n",
    "1 0    0\n",
    "1 1    1\n",
    "\n",
    "OR\n",
    "\n",
    "a b  a or b\n",
    "0 0    0\n",
    "1 0    1\n",
    "0 1    1\n",
    "1 1    1\n",
    "\n",
    "NOT\n",
    "\n",
    "a b  a not b\n",
    "0 0    1\n",
    "0 1    0\n",
    "1 0    0 \n",
    "1 1    0\n"
   ]
  },
  {
   "cell_type": "markdown",
   "id": "8d2d43a8",
   "metadata": {},
   "source": [
    "4. What are the values of the following expressions?\n",
    "(5 > 4) and (3 == 5)                |    False\n",
    "not (5 > 4)                         |    False\n",
    "(5 > 4) or (3 == 5)                 |    True\n",
    "not ((5 > 4) or (3 == 5))           |    False\n",
    "(True and True) and (True == False) |    False\n",
    "(not False) or (not True)           |    True"
   ]
  },
  {
   "cell_type": "markdown",
   "id": "c887467b",
   "metadata": {},
   "source": [
    "5. What are the six comparison operators?\n",
    "\n",
    "<\n",
    ">\n",
    "<=\n",
    ">=\n",
    "==\n",
    "!="
   ]
  },
  {
   "cell_type": "markdown",
   "id": "535aca05",
   "metadata": {},
   "source": [
    "6. How do you tell the difference between the equal to and assignment operators?Describe a condition and when you would use one.\n",
    "\n",
    "equal operator checks if two vales are same or not\n",
    "assignment operator assigns a value to a variable\n",
    "\n",
    "\n",
    "if entered_password == password:\n",
    "    login = True"
   ]
  },
  {
   "cell_type": "markdown",
   "id": "05f0bd5d",
   "metadata": {},
   "source": [
    "7. Identify the three blocks in this code:\n",
    "spam = 0\n",
    "#block 1\n",
    "{\n",
    "if spam == 10:  \n",
    "print('eggs')\n",
    "}\n",
    "#block 2  \n",
    "{\n",
    "if spam > 5:\n",
    "print('bacon')\n",
    "}\n",
    "#block 3\n",
    "{\n",
    "else:\n",
    "print('ham')\n",
    "print('spam')\n",
    "print('spam')\n",
    "}"
   ]
  },
  {
   "cell_type": "markdown",
   "id": "0c1f16f6",
   "metadata": {},
   "source": [
    "8. Write code that prints Hello if 1 is stored in spam, prints Howdy if 2 is stored in spam, and prints Greetings! if anything else is stored in spam.\n",
    "\n",
    "if spam==1:\n",
    "    print('Hello')\n",
    "elif spam==2:\n",
    "    print('Howdy')\n",
    "else:\n",
    "    print('Greetings!')\n",
    "    "
   ]
  },
  {
   "cell_type": "markdown",
   "id": "2cffa501",
   "metadata": {},
   "source": [
    "9.If your programme is stuck in an endless loop, what keys you’ll press?\n",
    "\n",
    "command+c"
   ]
  },
  {
   "cell_type": "markdown",
   "id": "cc6da836",
   "metadata": {},
   "source": [
    "10. How can you tell the difference between break and continue?\n",
    "\n",
    "break ends the any loop\n",
    "continue skips the current iteration"
   ]
  },
  {
   "cell_type": "markdown",
   "id": "6f55c537",
   "metadata": {},
   "source": [
    "11. In a for loop, what is the difference between range(10), range(0, 10), and range(0, 10, 1)?\n",
    "\n",
    "range(10) has default 0 at lower bound, iterates from 0 to 9\n",
    "range(0, 10) has 0 specified at lower bound, iterates from 0 to 9\n",
    "range(0, 10, 1) has specific iteration count 1"
   ]
  },
  {
   "cell_type": "markdown",
   "id": "08ac01a8",
   "metadata": {},
   "source": [
    "12. Write a short program that prints the numbers 1 to 10 using a for loop. Then write an equivalent program that prints the numbers 1 to 10 using a while loop.\n",
    "\n",
    "for i in range(1,11):\n",
    "    print(i)\n",
    "i=1\n",
    "while (i<11):\n",
    "    print(i)\n",
    "    i+=1"
   ]
  },
  {
   "cell_type": "markdown",
   "id": "9d5febae",
   "metadata": {},
   "source": [
    "13. If you had a function named bacon() inside a module named spam, how would you call it after importing spam?\n",
    "\n",
    "from spam import bacon"
   ]
  }
 ],
 "metadata": {
  "kernelspec": {
   "display_name": "Python 3",
   "language": "python",
   "name": "python3"
  },
  "language_info": {
   "codemirror_mode": {
    "name": "ipython",
    "version": 3
   },
   "file_extension": ".py",
   "mimetype": "text/x-python",
   "name": "python",
   "nbconvert_exporter": "python",
   "pygments_lexer": "ipython3",
   "version": "3.8.8"
  }
 },
 "nbformat": 4,
 "nbformat_minor": 5
}
