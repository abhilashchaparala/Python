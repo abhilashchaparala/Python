{
 "cells": [
  {
   "cell_type": "code",
   "execution_count": 2,
   "id": "69403889",
   "metadata": {},
   "outputs": [
    {
     "data": {
      "text/plain": [
       "2"
      ]
     },
     "execution_count": 2,
     "metadata": {},
     "output_type": "execute_result"
    }
   ],
   "source": [
    "# 1\n",
    "\n",
    "def f(n):\n",
    "    if n % 2 == 0:\n",
    "        return 8\n",
    "    else:\n",
    "        return 2\n",
    "f(1)"
   ]
  },
  {
   "cell_type": "code",
   "execution_count": 7,
   "id": "fa6cd616",
   "metadata": {},
   "outputs": [
    {
     "name": "stdout",
     "output_type": "stream",
     "text": [
      "None\n"
     ]
    }
   ],
   "source": [
    "# 2\n",
    "\n",
    "l=[\"A\", \"B\", \"B\", \"A\", \"C\", \"C\"]\n",
    "p=set(l)\n",
    "ip=[]\n",
    "a,b='',0\n",
    "for i in p:\n",
    "    count=l.count(i)\n",
    "    ip.append(count)\n",
    "    if count>b:\n",
    "        a,b=i,count\n",
    "if len(set(ip))==1:\n",
    "    print('None')\n",
    "else:\n",
    "    print(a)"
   ]
  },
  {
   "cell_type": "code",
   "execution_count": 11,
   "id": "793731c0",
   "metadata": {},
   "outputs": [
    {
     "data": {
      "text/plain": [
       "'Why did the ******* cross the ****?'"
      ]
     },
     "execution_count": 11,
     "metadata": {},
     "output_type": "execute_result"
    }
   ],
   "source": [
    "# 3\n",
    "\n",
    "# char='*'\n",
    "def censor_string(txt, lst,char):\n",
    "    for word in lst:\n",
    "        txt = txt.replace(word, char*len(word))\n",
    "    return txt\n",
    "censor_string(\"Why did the chicken cross the road?\", [\"Did\", \"chicken\", \"road\"], \"*\") \n"
   ]
  },
  {
   "cell_type": "code",
   "execution_count": null,
   "id": "190ed839",
   "metadata": {},
   "outputs": [],
   "source": [
    "# 4\n",
    "\n"
   ]
  }
 ],
 "metadata": {
  "kernelspec": {
   "display_name": "Python 3",
   "language": "python",
   "name": "python3"
  },
  "language_info": {
   "codemirror_mode": {
    "name": "ipython",
    "version": 3
   },
   "file_extension": ".py",
   "mimetype": "text/x-python",
   "name": "python",
   "nbconvert_exporter": "python",
   "pygments_lexer": "ipython3",
   "version": "3.8.8"
  }
 },
 "nbformat": 4,
 "nbformat_minor": 5
}
