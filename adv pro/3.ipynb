{
 "cells": [
  {
   "cell_type": "code",
   "execution_count": 6,
   "id": "9296c447",
   "metadata": {},
   "outputs": [
    {
     "data": {
      "text/plain": [
       "24"
      ]
     },
     "execution_count": 6,
     "metadata": {},
     "output_type": "execute_result"
    }
   ],
   "source": [
    "# 1\n",
    "\n",
    "def calculate(string):\n",
    "    string = string.split()\n",
    "    string = [x for x in string]\n",
    "    if string[1] == '+':\n",
    "        return int(string[0]) + int(string[2])\n",
    "    elif string[1] == '-':\n",
    "        return int(string[0]) - int(string[2])\n",
    "    elif string[1] == '*':\n",
    "        return int(string[0]) * int(string[2])\n",
    "    elif string[1] == '/':\n",
    "        if string[2] == 0:\n",
    "            return -1\n",
    "        else:\n",
    "            return int(string[0]) / int(string[2])\n",
    "    else:\n",
    "        return -1\n",
    "calculate(\"12 + 12\")"
   ]
  },
  {
   "cell_type": "code",
   "execution_count": 7,
   "id": "eb1f4b53",
   "metadata": {},
   "outputs": [
    {
     "data": {
      "text/plain": [
       "0"
      ]
     },
     "execution_count": 7,
     "metadata": {},
     "output_type": "execute_result"
    }
   ],
   "source": [
    "# 2\n",
    "\n",
    "\n",
    "def coordinates(arr):\n",
    "\tx1, y1 = arr[0]\n",
    "\tx2, y2 = arr[1]\n",
    "\tx3, y3 = arr[2]\n",
    "\treturn (x1 - x2) + (x2 - x3) + (x3 - x1) + (y1 - y2) + (y2 - y3) + (y3 - y1)\n",
    "coordinates([[15, 7], [5, 22], [11, 1]])"
   ]
  },
  {
   "cell_type": "code",
   "execution_count": 8,
   "id": "582e4279",
   "metadata": {},
   "outputs": [
    {
     "name": "stdout",
     "output_type": "stream",
     "text": [
      "4\n"
     ]
    }
   ],
   "source": [
    "# 3\n",
    "\n",
    "def tallest_skyscraper(skyline):\n",
    "\tmax_height = 0\n",
    "\tfor row in range(len(skyline)-1, -1, -1):\n",
    "\t\tif 1 in skyline[row]:\n",
    "\t\t\tmax_height+=1\n",
    "\t\telse:\n",
    "\t\t\tbreak\n",
    "\treturn max_height\n",
    "skyline=[[0, 0, 0, 0, 0, 0],\n",
    "[0, 0, 0, 0, 1, 0],\n",
    "[0, 0, 1, 0, 1, 0],\n",
    "[0, 1, 1, 1, 1, 0],\n",
    "[1, 1, 1, 1, 1, 1]]\n",
    "print(tallest_skyscraper(skyline))"
   ]
  },
  {
   "cell_type": "code",
   "execution_count": 10,
   "id": "06aeda0c",
   "metadata": {},
   "outputs": [
    {
     "name": "stdout",
     "output_type": "stream",
     "text": [
      "0\n"
     ]
    }
   ],
   "source": [
    "# 4\n",
    "\n",
    "\n",
    "def billable_days(days):\n",
    "    if days <= 32:\n",
    "        return 0\n",
    "    elif days <= 40:\n",
    "        return 325\n",
    "    elif days <= 48:\n",
    "        return 550\n",
    "    else:\n",
    "        return 600\n",
    "def bonus(days):\n",
    "    return billable_days(days) * days\n",
    "print(bonus(15))"
   ]
  },
  {
   "cell_type": "code",
   "execution_count": 9,
   "id": "c09d63cd",
   "metadata": {},
   "outputs": [
    {
     "data": {
      "text/plain": [
       "False"
      ]
     },
     "execution_count": 9,
     "metadata": {},
     "output_type": "execute_result"
    }
   ],
   "source": [
    "# 5\n",
    "def disarium_number(number):\n",
    "    sum = 0\n",
    "    for i in str(number):\n",
    "        sum += int(i)**(int(i))\n",
    "    if sum == number:\n",
    "        return True\n",
    "    else:\n",
    "        return False\n",
    "disarium_number(75)"
   ]
  },
  {
   "cell_type": "code",
   "execution_count": null,
   "id": "0a66a255",
   "metadata": {},
   "outputs": [],
   "source": []
  }
 ],
 "metadata": {
  "kernelspec": {
   "display_name": "Python 3",
   "language": "python",
   "name": "python3"
  },
  "language_info": {
   "codemirror_mode": {
    "name": "ipython",
    "version": 3
   },
   "file_extension": ".py",
   "mimetype": "text/x-python",
   "name": "python",
   "nbconvert_exporter": "python",
   "pygments_lexer": "ipython3",
   "version": "3.8.8"
  }
 },
 "nbformat": 4,
 "nbformat_minor": 5
}
