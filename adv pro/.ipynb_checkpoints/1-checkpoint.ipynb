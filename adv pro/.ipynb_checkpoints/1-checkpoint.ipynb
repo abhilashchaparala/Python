{
 "cells": [
  {
   "cell_type": "code",
   "execution_count": 1,
   "id": "fb249dd7",
   "metadata": {},
   "outputs": [
    {
     "name": "stdout",
     "output_type": "stream",
     "text": [
      "109\n"
     ]
    }
   ],
   "source": [
    "# 1\n",
    "\n",
    "def score(game):\n",
    "    score = 0\n",
    "    for i in game:\n",
    "        for j in i:\n",
    "            if j == '#':\n",
    "                score += 5\n",
    "            elif j == 'O':\n",
    "                score += 3\n",
    "            elif j == 'X':\n",
    "                score += 1\n",
    "            elif j == '!':\n",
    "                score -= 1\n",
    "            elif j == '!!':\n",
    "                score -= 3\n",
    "            elif j == '!!!':\n",
    "                score -= 5\n",
    "    return score\n",
    "print(score([['#', '#', '#', '#', '#'], ['#', 'O', 'O', 'O', '#'], ['#', 'O', '#', 'O', '#'], ['#', 'O', 'O', 'O', '#'], ['#', '#', '#', '#', '#']]))"
   ]
  },
  {
   "cell_type": "code",
   "execution_count": 3,
   "id": "dabf2d02",
   "metadata": {},
   "outputs": [
    {
     "name": "stdout",
     "output_type": "stream",
     "text": [
      "1\n"
     ]
    }
   ],
   "source": [
    "# 2\n",
    "def number_of_permutations(n,*args):\n",
    "    if n == 0:\n",
    "        return 1\n",
    "    else:\n",
    "        return sum(number_of_permutations(n-1,*args) for i in args)\n",
    "print(number_of_permutations(2,3))"
   ]
  },
  {
   "cell_type": "code",
   "execution_count": null,
   "id": "2a992078",
   "metadata": {},
   "outputs": [],
   "source": [
    "# 3\n",
    "\n",
    "def getMorse(string):\n",
    "    char_to_dots={'A': '.-', 'B': '-...', 'C': '-.-.', 'D': '-..', 'E': '.', 'F': '..-.',\n",
    "  'G': '--.', 'H': '....', 'I': '..', 'J': '.---', 'K': '-.-', 'L': '.-..',\n",
    "  'M': '--', 'N': '-.', 'O': '---', 'P': '.--.', 'Q': '--.-', 'R': '.-.',\n",
    "  'S': '...', 'T': '-', 'U': '..-', 'V': '...-', 'W': '.--', 'X': '-..-',\n",
    "  'Y': '-.--', 'Z': '--..', ' ': ' ', '0': '-----',\n",
    "  '1': '.----', '2': '..---', '3': '...--', '4': '....-', '5': '.....',\n",
    "  '6': '-....', '7': '--...', '8': '---..', '9': '----.',\n",
    "  '&': '.-...', \"'\": '.----.', '@': '.--.-.', ')': '-.--.-', '(': '-.--.',\n",
    "  ':': '---...', ',': '--..--', '=': '-...-', '!': '-.-.--', '.': '.-.-.-',\n",
    "  '-': '-....-', '+': '.-.-.', '\"': '.-..-.', '?': '..--..', '/': '-..-.'\n",
    "}\n",
    "    morse_code = ''\n",
    "    for char in string:\n",
    "        morse_code += char_to_dots[char]\n",
    "    return morse_code\n",
    "print(getMorse('INeuron'))"
   ]
  },
  {
   "cell_type": "code",
   "execution_count": 5,
   "id": "0aae9f26",
   "metadata": {},
   "outputs": [
    {
     "data": {
      "text/plain": [
       "False"
      ]
     },
     "execution_count": 5,
     "metadata": {},
     "output_type": "execute_result"
    }
   ],
   "source": [
    "# 4\n",
    "\n",
    "def is_prime(n):\n",
    "    if n == 2:\n",
    "        return True\n",
    "    if n < 2 or n % 2 == 0:\n",
    "        return False\n",
    "    for i in range(3, int(n**0.5)+1, 2):\n",
    "        if n % i == 0:\n",
    "            return False\n",
    "    return True\n",
    "is_prime(5151512515524)"
   ]
  },
  {
   "cell_type": "code",
   "execution_count": 8,
   "id": "ce8a31c6",
   "metadata": {},
   "outputs": [
    {
     "name": "stdout",
     "output_type": "stream",
     "text": [
      "[False, True, False, True, True]\n"
     ]
    }
   ],
   "source": [
    "# 5\n",
    "\n",
    "\n",
    "def solve(word):\n",
    "    return [bool(int(i) % 2) for i in [str(ord(i) - 96) for i in word]]\n",
    "print(solve(\"loves\"))"
   ]
  },
  {
   "cell_type": "code",
   "execution_count": null,
   "id": "1117e6fa",
   "metadata": {},
   "outputs": [],
   "source": []
  }
 ],
 "metadata": {
  "kernelspec": {
   "display_name": "Python 3",
   "language": "python",
   "name": "python3"
  },
  "language_info": {
   "codemirror_mode": {
    "name": "ipython",
    "version": 3
   },
   "file_extension": ".py",
   "mimetype": "text/x-python",
   "name": "python",
   "nbconvert_exporter": "python",
   "pygments_lexer": "ipython3",
   "version": "3.8.8"
  }
 },
 "nbformat": 4,
 "nbformat_minor": 5
}
