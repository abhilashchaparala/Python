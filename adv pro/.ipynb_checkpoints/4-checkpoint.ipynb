{
 "cells": [
  {
   "cell_type": "code",
   "execution_count": 2,
   "id": "d51ead59",
   "metadata": {},
   "outputs": [
    {
     "data": {
      "text/plain": [
       "55"
      ]
     },
     "execution_count": 2,
     "metadata": {},
     "output_type": "execute_result"
    }
   ],
   "source": [
    "# 1\n",
    "\n",
    "def fibonacci(n):\n",
    "    if n <= 1:\n",
    "        return n\n",
    "    else:\n",
    "        return fibonacci(n-1) + fibonacci(n-2)\n",
    "fibonacci(10)"
   ]
  },
  {
   "cell_type": "code",
   "execution_count": 6,
   "id": "7624beb1",
   "metadata": {},
   "outputs": [
    {
     "name": "stdout",
     "output_type": "stream",
     "text": [
      "['0x68', '0x65', '0x6c', '0x6c', '0x6f', '0x20', '0x77', '0x6f', '0x72', '0x6c', '0x64']\n"
     ]
    }
   ],
   "source": [
    "# 2\n",
    "\n",
    "def hex_converter(string):\n",
    "    hex_list = []\n",
    "    for char in string:\n",
    "        hex_list.append(hex(ord(char)))\n",
    "    return hex_list\n",
    "print(hex_converter(\"hello world\"))"
   ]
  },
  {
   "cell_type": "code",
   "execution_count": 12,
   "id": "8f34e0aa",
   "metadata": {},
   "outputs": [
    {
     "name": "stdout",
     "output_type": "stream",
     "text": [
      "UPPERCASE\n"
     ]
    }
   ],
   "source": [
    "# 3\n",
    "def uncensored(string):\n",
    "    string,letters=string.split(',')[0],string.split(',')[1]\n",
    "    letters=list(letters)\n",
    "    # print(type(string))\n",
    "    for i in range(len(string)):\n",
    "        if string[i]=='*':\n",
    "            string=string[:i]+letters[0]+string[i+1:]\n",
    "            letters=letters[1:]\n",
    "    return string\n",
    "print(uncensored(\"*PP*RC*S*,UEAE\"))\n"
   ]
  },
  {
   "cell_type": "code",
   "execution_count": 17,
   "id": "7f4ae9b7",
   "metadata": {},
   "outputs": [
    {
     "data": {
      "text/plain": [
       "288"
      ]
     },
     "execution_count": 17,
     "metadata": {},
     "output_type": "execute_result"
    }
   ],
   "source": [
    "# 5\n",
    "\n",
    "def factorial(n):\n",
    "    if n == 1:\n",
    "        return 1\n",
    "    else:\n",
    "        return n * factorial(n-1)\n",
    "    \n",
    "def factorial_of_factorials(n):\n",
    "    sum=1\n",
    "    for i in range(1,n+1):\n",
    "        sum*=factorial(i)\n",
    "    return sum\n",
    "factorial_of_factorials(4)"
   ]
  },
  {
   "cell_type": "code",
   "execution_count": null,
   "id": "5d722c73",
   "metadata": {},
   "outputs": [],
   "source": []
  }
 ],
 "metadata": {
  "kernelspec": {
   "display_name": "Python 3",
   "language": "python",
   "name": "python3"
  },
  "language_info": {
   "codemirror_mode": {
    "name": "ipython",
    "version": 3
   },
   "file_extension": ".py",
   "mimetype": "text/x-python",
   "name": "python",
   "nbconvert_exporter": "python",
   "pygments_lexer": "ipython3",
   "version": "3.8.8"
  }
 },
 "nbformat": 4,
 "nbformat_minor": 5
}
