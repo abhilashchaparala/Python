{
 "cells": [
  {
   "cell_type": "code",
   "execution_count": 20,
   "id": "6e62a02f",
   "metadata": {},
   "outputs": [
    {
     "data": {
      "text/plain": [
       "76"
      ]
     },
     "execution_count": 20,
     "metadata": {},
     "output_type": "execute_result"
    }
   ],
   "source": [
    "# 1\n",
    "\n",
    "dp=[0]*100\n",
    "dp[0],dp[1],dp[2]=1,6,16\n",
    "for i in range(3,len(dp)):\n",
    "    dp[i]=dp[i-1]+(dp[i-1]-dp[i-2])+5\n",
    "dp[5]"
   ]
  },
  {
   "cell_type": "code",
   "execution_count": 15,
   "id": "67784465",
   "metadata": {},
   "outputs": [
    {
     "data": {
      "text/plain": [
       "'1lpp0aca'"
      ]
     },
     "execution_count": 15,
     "metadata": {},
     "output_type": "execute_result"
    }
   ],
   "source": [
    "# 2\n",
    "\n",
    "def encrypt(word):\n",
    "    word = word[::-1]\n",
    "    word = word.replace('a', '0')\n",
    "    word = word.replace('e', '1')\n",
    "    word = word.replace('i', '2')\n",
    "    word = word.replace('o', '2')\n",
    "    word = word.replace('u', '3')\n",
    "    return word + 'aca'\n",
    "encrypt(\"apple\")"
   ]
  },
  {
   "cell_type": "code",
   "execution_count": 21,
   "id": "55466275",
   "metadata": {},
   "outputs": [
    {
     "name": "stdout",
     "output_type": "stream",
     "text": [
      "True\n"
     ]
    }
   ],
   "source": [
    "# 3\n",
    "\n",
    "import datetime\n",
    "def friday_13th(year, month):\n",
    "    '''\n",
    "    Given the month and year as numbers, return whether that month contains a Friday 13th.\n",
    "    '''\n",
    "    count = 0\n",
    "    for day in range(1, 32):\n",
    "        if datetime.date(year, month, day).weekday() == 4 and day == 13:\n",
    "            count += 1\n",
    "    return count\n",
    "if friday_13th(2020,3):\n",
    "    print('True')\n",
    "else:\n",
    "    print('False')"
   ]
  },
  {
   "cell_type": "code",
   "execution_count": null,
   "id": "fc9decc6",
   "metadata": {},
   "outputs": [],
   "source": [
    "# 4\n",
    "\n",
    "import re\n",
    "def regex_count(lst, pattern):\n",
    "    return len(re.findall(pattern, \", \".join(lst)))\n",
    "print(regex_count([\"bad cookie\", \"good cookie\", \"bad cookie\", \"good cookie\", \"good cookie\"], \"yourregularexpressionhere\"))"
   ]
  },
  {
   "cell_type": "code",
   "execution_count": 25,
   "id": "c0c01c10",
   "metadata": {},
   "outputs": [
    {
     "data": {
      "text/plain": [
       "{'table', 'tables'}"
      ]
     },
     "execution_count": 25,
     "metadata": {},
     "output_type": "execute_result"
    }
   ],
   "source": [
    "# 5\n",
    "\n",
    "\n",
    "def pluralize(words):\n",
    "    set_words=set(words)\n",
    "    for i in set_words:\n",
    "        if words.count(i)>1:\n",
    "            words.remove(i)\n",
    "            words.append(i+'s')\n",
    "#         else:\n",
    "#             words.remove(i)\n",
    "#             words.append(i)\n",
    "    return set(words)\n",
    "pluralize([\"table\", \"table\"]) "
   ]
  },
  {
   "cell_type": "code",
   "execution_count": null,
   "id": "ba7aa3d0",
   "metadata": {},
   "outputs": [],
   "source": []
  }
 ],
 "metadata": {
  "kernelspec": {
   "display_name": "Python 3",
   "language": "python",
   "name": "python3"
  },
  "language_info": {
   "codemirror_mode": {
    "name": "ipython",
    "version": 3
   },
   "file_extension": ".py",
   "mimetype": "text/x-python",
   "name": "python",
   "nbconvert_exporter": "python",
   "pygments_lexer": "ipython3",
   "version": "3.8.8"
  }
 },
 "nbformat": 4,
 "nbformat_minor": 5
}
